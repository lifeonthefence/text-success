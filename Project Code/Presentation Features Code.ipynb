{
 "cells": [
  {
   "cell_type": "code",
   "execution_count": 2,
   "id": "aa8b0511",
   "metadata": {},
   "outputs": [],
   "source": [
    "import pandas as pd\n",
    "import numpy as np\n",
    "import matplotlib.pyplot as plt"
   ]
  },
  {
   "cell_type": "code",
   "execution_count": 4,
   "id": "d480c4b6",
   "metadata": {},
   "outputs": [],
   "source": [
    "df = pd.read_csv('../Data/Processed Dataset.csv')"
   ]
  },
  {
   "cell_type": "code",
   "execution_count": 51,
   "id": "a48097f0",
   "metadata": {},
   "outputs": [],
   "source": [
    "tweets = df[(df[\"id\"] == 1501708305529409537) | (df[\"id\"] == 1514028855102636036)]"
   ]
  },
  {
   "cell_type": "code",
   "execution_count": 57,
   "id": "1d2427e7",
   "metadata": {},
   "outputs": [
    {
     "data": {
      "text/plain": [
       "Index(['id', 'date', 'hour of tweet', 'time of day', 'Early Morning Count',\n",
       "       'Morning Count', 'Noon Count', 'Eve Count', 'Night Count',\n",
       "       'Late Night Count', 'user', 'user_followers',\n",
       "       'Months Since Creation of Account', 'rendered_content',\n",
       "       'Adjusted Tweet', 'Negative Score', 'Neutral Score', 'Positive Score',\n",
       "       'Compound Score', 'Photo Count', 'Video Count', 'GIF Count',\n",
       "       'Polarity Score_textblob', 'Subjectivity Score_textblob', 'likes',\n",
       "       'retweets', 'replies', 'quoteCount', 'tweet_length', 'num_mentions',\n",
       "       'num_hashtags', 'num_urls'],\n",
       "      dtype='object')"
      ]
     },
     "execution_count": 57,
     "metadata": {},
     "output_type": "execute_result"
    }
   ],
   "source": [
    "tweets.columns"
   ]
  },
  {
   "cell_type": "code",
   "execution_count": 58,
   "id": "89dfda99",
   "metadata": {},
   "outputs": [
    {
     "data": {
      "text/html": [
       "<div>\n",
       "<style scoped>\n",
       "    .dataframe tbody tr th:only-of-type {\n",
       "        vertical-align: middle;\n",
       "    }\n",
       "\n",
       "    .dataframe tbody tr th {\n",
       "        vertical-align: top;\n",
       "    }\n",
       "\n",
       "    .dataframe thead th {\n",
       "        text-align: right;\n",
       "    }\n",
       "</style>\n",
       "<table border=\"1\" class=\"dataframe\">\n",
       "  <thead>\n",
       "    <tr style=\"text-align: right;\">\n",
       "      <th></th>\n",
       "      <th>Adjusted Tweet</th>\n",
       "      <th>retweets</th>\n",
       "      <th>Negative Score</th>\n",
       "      <th>Positive Score</th>\n",
       "      <th>Polarity Score_textblob</th>\n",
       "      <th>Subjectivity Score_textblob</th>\n",
       "    </tr>\n",
       "  </thead>\n",
       "  <tbody>\n",
       "    <tr>\n",
       "      <th>7621</th>\n",
       "      <td>['trump', 'white', 'house', 'man', 'made', 'in...</td>\n",
       "      <td>163</td>\n",
       "      <td>0.143</td>\n",
       "      <td>0.069</td>\n",
       "      <td>0.145833</td>\n",
       "      <td>0.216667</td>\n",
       "    </tr>\n",
       "    <tr>\n",
       "      <th>12884</th>\n",
       "      <td>['hype', 'created', 'self', 'promotion', 'fool...</td>\n",
       "      <td>0</td>\n",
       "      <td>0.259</td>\n",
       "      <td>0.119</td>\n",
       "      <td>0.500000</td>\n",
       "      <td>0.500000</td>\n",
       "    </tr>\n",
       "  </tbody>\n",
       "</table>\n",
       "</div>"
      ],
      "text/plain": [
       "                                          Adjusted Tweet  retweets  \\\n",
       "7621   ['trump', 'white', 'house', 'man', 'made', 'in...       163   \n",
       "12884  ['hype', 'created', 'self', 'promotion', 'fool...         0   \n",
       "\n",
       "       Negative Score  Positive Score  Polarity Score_textblob  \\\n",
       "7621            0.143           0.069                 0.145833   \n",
       "12884           0.259           0.119                 0.500000   \n",
       "\n",
       "       Subjectivity Score_textblob  \n",
       "7621                      0.216667  \n",
       "12884                     0.500000  "
      ]
     },
     "execution_count": 58,
     "metadata": {},
     "output_type": "execute_result"
    }
   ],
   "source": [
    "tweets[['Adjusted Tweet', 'retweets', 'Negative Score', 'Positive Score', 'Polarity Score_textblob', 'Subjectivity Score_textblob']]"
   ]
  }
 ],
 "metadata": {
  "kernelspec": {
   "display_name": "Python 3 (ipykernel)",
   "language": "python",
   "name": "python3"
  },
  "language_info": {
   "codemirror_mode": {
    "name": "ipython",
    "version": 3
   },
   "file_extension": ".py",
   "mimetype": "text/x-python",
   "name": "python",
   "nbconvert_exporter": "python",
   "pygments_lexer": "ipython3",
   "version": "3.9.7"
  }
 },
 "nbformat": 4,
 "nbformat_minor": 5
}
