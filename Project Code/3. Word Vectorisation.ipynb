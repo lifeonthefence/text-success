{
 "cells": [
  {
   "cell_type": "code",
   "execution_count": 1,
   "id": "91694055",
   "metadata": {},
   "outputs": [],
   "source": [
    "import pandas as pd\n",
    "import numpy as np"
   ]
  },
  {
   "cell_type": "code",
   "execution_count": 2,
   "id": "b0d5477a",
   "metadata": {},
   "outputs": [],
   "source": [
    "df = pd.read_csv(\"../Data/Processed Dataset.csv\")"
   ]
  },
  {
   "cell_type": "code",
   "execution_count": 3,
   "id": "6e7cf3bf",
   "metadata": {},
   "outputs": [
    {
     "data": {
      "text/plain": [
       "Index(['id', 'date', 'hour of tweet', 'time of day', 'Early Morning Count',\n",
       "       'Morning Count', 'Noon Count', 'Eve Count', 'Night Count',\n",
       "       'Late Night Count', 'user', 'user_followers',\n",
       "       'Months Since Creation of Account', 'rendered_content',\n",
       "       'Adjusted Tweet', 'Negative Score', 'Neutral Score', 'Positive Score',\n",
       "       'Compound Score', 'Photo Count', 'Video Count', 'GIF Count',\n",
       "       'Polarity Score_textblob', 'Subjectivity Score_textblob', 'likes',\n",
       "       'retweets', 'replies', 'quoteCount', 'tweet_length', 'num_mentions',\n",
       "       'num_hashtags', 'num_urls'],\n",
       "      dtype='object')"
      ]
     },
     "execution_count": 3,
     "metadata": {},
     "output_type": "execute_result"
    }
   ],
   "source": [
    "df.columns"
   ]
  },
  {
   "cell_type": "markdown",
   "id": "8a159cc5",
   "metadata": {},
   "source": [
    "## TF-IDF Vectorisation"
   ]
  },
  {
   "cell_type": "code",
   "execution_count": 7,
   "id": "076ba376",
   "metadata": {},
   "outputs": [],
   "source": [
    "import ast\n",
    "df[\"Adjusted Tweet\"] = df[\"Adjusted Tweet\"].apply(ast.literal_eval)"
   ]
  },
  {
   "cell_type": "code",
   "execution_count": 8,
   "id": "362037a6",
   "metadata": {},
   "outputs": [],
   "source": [
    "from sklearn.feature_extraction.text import TfidfVectorizer\n",
    "def dummy(x):\n",
    "    return x\n",
    "\n",
    "vectorizer = TfidfVectorizer(max_df = 0.9, min_df = 50, lowercase = False, tokenizer = dummy)\n",
    "tf = vectorizer.fit_transform(df['Adjusted Tweet']).toarray()\n",
    "tf_feature_names = vectorizer.get_feature_names()"
   ]
  },
  {
   "cell_type": "code",
   "execution_count": 9,
   "id": "94d45f31",
   "metadata": {},
   "outputs": [],
   "source": [
    "df_tf_idf = pd.DataFrame(tf, columns = tf_feature_names)\n",
    "df_tf_idf[\"id\"] = df[\"id\"]"
   ]
  },
  {
   "cell_type": "code",
   "execution_count": 10,
   "id": "f8bcec95",
   "metadata": {},
   "outputs": [
    {
     "data": {
      "text/html": [
       "<div>\n",
       "<style scoped>\n",
       "    .dataframe tbody tr th:only-of-type {\n",
       "        vertical-align: middle;\n",
       "    }\n",
       "\n",
       "    .dataframe tbody tr th {\n",
       "        vertical-align: top;\n",
       "    }\n",
       "\n",
       "    .dataframe thead th {\n",
       "        text-align: right;\n",
       "    }\n",
       "</style>\n",
       "<table border=\"1\" class=\"dataframe\">\n",
       "  <thead>\n",
       "    <tr style=\"text-align: right;\">\n",
       "      <th></th>\n",
       "      <th>abandoned</th>\n",
       "      <th>ability</th>\n",
       "      <th>able</th>\n",
       "      <th>absolute</th>\n",
       "      <th>absolutely</th>\n",
       "      <th>accept</th>\n",
       "      <th>access</th>\n",
       "      <th>accident</th>\n",
       "      <th>according</th>\n",
       "      <th>account</th>\n",
       "      <th>...</th>\n",
       "      <th>youre</th>\n",
       "      <th>youtube</th>\n",
       "      <th>yr</th>\n",
       "      <th>zaporizhzhia</th>\n",
       "      <th>zaporozhye</th>\n",
       "      <th>zelenskiy</th>\n",
       "      <th>zelensky</th>\n",
       "      <th>zelenskys</th>\n",
       "      <th>zelenskyy</th>\n",
       "      <th>zone</th>\n",
       "    </tr>\n",
       "  </thead>\n",
       "  <tbody>\n",
       "    <tr>\n",
       "      <th>0</th>\n",
       "      <td>0.0</td>\n",
       "      <td>0.0</td>\n",
       "      <td>0.0</td>\n",
       "      <td>0.0</td>\n",
       "      <td>0.0</td>\n",
       "      <td>0.0</td>\n",
       "      <td>0.0</td>\n",
       "      <td>0.0</td>\n",
       "      <td>0.0</td>\n",
       "      <td>0.0</td>\n",
       "      <td>...</td>\n",
       "      <td>0.0</td>\n",
       "      <td>0.0</td>\n",
       "      <td>0.0</td>\n",
       "      <td>0.0</td>\n",
       "      <td>0.0</td>\n",
       "      <td>0.0</td>\n",
       "      <td>0.0</td>\n",
       "      <td>0.0</td>\n",
       "      <td>0.0</td>\n",
       "      <td>0.0</td>\n",
       "    </tr>\n",
       "    <tr>\n",
       "      <th>1</th>\n",
       "      <td>0.0</td>\n",
       "      <td>0.0</td>\n",
       "      <td>0.0</td>\n",
       "      <td>0.0</td>\n",
       "      <td>0.0</td>\n",
       "      <td>0.0</td>\n",
       "      <td>0.0</td>\n",
       "      <td>0.0</td>\n",
       "      <td>0.0</td>\n",
       "      <td>0.0</td>\n",
       "      <td>...</td>\n",
       "      <td>0.0</td>\n",
       "      <td>0.0</td>\n",
       "      <td>0.0</td>\n",
       "      <td>0.0</td>\n",
       "      <td>0.0</td>\n",
       "      <td>0.0</td>\n",
       "      <td>0.0</td>\n",
       "      <td>0.0</td>\n",
       "      <td>0.0</td>\n",
       "      <td>0.0</td>\n",
       "    </tr>\n",
       "    <tr>\n",
       "      <th>2</th>\n",
       "      <td>0.0</td>\n",
       "      <td>0.0</td>\n",
       "      <td>0.0</td>\n",
       "      <td>0.0</td>\n",
       "      <td>0.0</td>\n",
       "      <td>0.0</td>\n",
       "      <td>0.0</td>\n",
       "      <td>0.0</td>\n",
       "      <td>0.0</td>\n",
       "      <td>0.0</td>\n",
       "      <td>...</td>\n",
       "      <td>0.0</td>\n",
       "      <td>0.0</td>\n",
       "      <td>0.0</td>\n",
       "      <td>0.0</td>\n",
       "      <td>0.0</td>\n",
       "      <td>0.0</td>\n",
       "      <td>0.0</td>\n",
       "      <td>0.0</td>\n",
       "      <td>0.0</td>\n",
       "      <td>0.0</td>\n",
       "    </tr>\n",
       "    <tr>\n",
       "      <th>3</th>\n",
       "      <td>0.0</td>\n",
       "      <td>0.0</td>\n",
       "      <td>0.0</td>\n",
       "      <td>0.0</td>\n",
       "      <td>0.0</td>\n",
       "      <td>0.0</td>\n",
       "      <td>0.0</td>\n",
       "      <td>0.0</td>\n",
       "      <td>0.0</td>\n",
       "      <td>0.0</td>\n",
       "      <td>...</td>\n",
       "      <td>0.0</td>\n",
       "      <td>0.0</td>\n",
       "      <td>0.0</td>\n",
       "      <td>0.0</td>\n",
       "      <td>0.0</td>\n",
       "      <td>0.0</td>\n",
       "      <td>0.0</td>\n",
       "      <td>0.0</td>\n",
       "      <td>0.0</td>\n",
       "      <td>0.0</td>\n",
       "    </tr>\n",
       "    <tr>\n",
       "      <th>4</th>\n",
       "      <td>0.0</td>\n",
       "      <td>0.0</td>\n",
       "      <td>0.0</td>\n",
       "      <td>0.0</td>\n",
       "      <td>0.0</td>\n",
       "      <td>0.0</td>\n",
       "      <td>0.0</td>\n",
       "      <td>0.0</td>\n",
       "      <td>0.0</td>\n",
       "      <td>0.0</td>\n",
       "      <td>...</td>\n",
       "      <td>0.0</td>\n",
       "      <td>0.0</td>\n",
       "      <td>0.0</td>\n",
       "      <td>0.0</td>\n",
       "      <td>0.0</td>\n",
       "      <td>0.0</td>\n",
       "      <td>0.0</td>\n",
       "      <td>0.0</td>\n",
       "      <td>0.0</td>\n",
       "      <td>0.0</td>\n",
       "    </tr>\n",
       "  </tbody>\n",
       "</table>\n",
       "<p>5 rows × 2117 columns</p>\n",
       "</div>"
      ],
      "text/plain": [
       "   abandoned  ability  able  absolute  absolutely  accept  access  accident  \\\n",
       "0        0.0      0.0   0.0       0.0         0.0     0.0     0.0       0.0   \n",
       "1        0.0      0.0   0.0       0.0         0.0     0.0     0.0       0.0   \n",
       "2        0.0      0.0   0.0       0.0         0.0     0.0     0.0       0.0   \n",
       "3        0.0      0.0   0.0       0.0         0.0     0.0     0.0       0.0   \n",
       "4        0.0      0.0   0.0       0.0         0.0     0.0     0.0       0.0   \n",
       "\n",
       "   according  account  ...  youre  youtube   yr  zaporizhzhia  zaporozhye  \\\n",
       "0        0.0      0.0  ...    0.0      0.0  0.0           0.0         0.0   \n",
       "1        0.0      0.0  ...    0.0      0.0  0.0           0.0         0.0   \n",
       "2        0.0      0.0  ...    0.0      0.0  0.0           0.0         0.0   \n",
       "3        0.0      0.0  ...    0.0      0.0  0.0           0.0         0.0   \n",
       "4        0.0      0.0  ...    0.0      0.0  0.0           0.0         0.0   \n",
       "\n",
       "   zelenskiy  zelensky  zelenskys  zelenskyy  zone  \n",
       "0        0.0       0.0        0.0        0.0   0.0  \n",
       "1        0.0       0.0        0.0        0.0   0.0  \n",
       "2        0.0       0.0        0.0        0.0   0.0  \n",
       "3        0.0       0.0        0.0        0.0   0.0  \n",
       "4        0.0       0.0        0.0        0.0   0.0  \n",
       "\n",
       "[5 rows x 2117 columns]"
      ]
     },
     "execution_count": 10,
     "metadata": {},
     "output_type": "execute_result"
    }
   ],
   "source": [
    "df_tf_idf.head()"
   ]
  },
  {
   "cell_type": "code",
   "execution_count": 11,
   "id": "d13756d1",
   "metadata": {},
   "outputs": [],
   "source": [
    "df_tfidf_merged = pd.merge(df, df_tf_idf, on = \"id\")"
   ]
  },
  {
   "cell_type": "code",
   "execution_count": 12,
   "id": "ffc22e64",
   "metadata": {},
   "outputs": [
    {
     "data": {
      "text/html": [
       "<div>\n",
       "<style scoped>\n",
       "    .dataframe tbody tr th:only-of-type {\n",
       "        vertical-align: middle;\n",
       "    }\n",
       "\n",
       "    .dataframe tbody tr th {\n",
       "        vertical-align: top;\n",
       "    }\n",
       "\n",
       "    .dataframe thead th {\n",
       "        text-align: right;\n",
       "    }\n",
       "</style>\n",
       "<table border=\"1\" class=\"dataframe\">\n",
       "  <thead>\n",
       "    <tr style=\"text-align: right;\">\n",
       "      <th></th>\n",
       "      <th>id</th>\n",
       "      <th>date_x</th>\n",
       "      <th>hour of tweet</th>\n",
       "      <th>time of day</th>\n",
       "      <th>Early Morning Count</th>\n",
       "      <th>Morning Count</th>\n",
       "      <th>Noon Count</th>\n",
       "      <th>Eve Count</th>\n",
       "      <th>Night Count</th>\n",
       "      <th>Late Night Count</th>\n",
       "      <th>...</th>\n",
       "      <th>youre</th>\n",
       "      <th>youtube</th>\n",
       "      <th>yr</th>\n",
       "      <th>zaporizhzhia</th>\n",
       "      <th>zaporozhye</th>\n",
       "      <th>zelenskiy</th>\n",
       "      <th>zelensky</th>\n",
       "      <th>zelenskys</th>\n",
       "      <th>zelenskyy</th>\n",
       "      <th>zone</th>\n",
       "    </tr>\n",
       "  </thead>\n",
       "  <tbody>\n",
       "    <tr>\n",
       "      <th>0</th>\n",
       "      <td>1477420789863436289</td>\n",
       "      <td>2022-01-01 23:25:40+00:00</td>\n",
       "      <td>23</td>\n",
       "      <td>Night</td>\n",
       "      <td>0</td>\n",
       "      <td>0</td>\n",
       "      <td>0</td>\n",
       "      <td>0</td>\n",
       "      <td>1</td>\n",
       "      <td>0</td>\n",
       "      <td>...</td>\n",
       "      <td>0.0</td>\n",
       "      <td>0.0</td>\n",
       "      <td>0.0</td>\n",
       "      <td>0.0</td>\n",
       "      <td>0.0</td>\n",
       "      <td>0.0</td>\n",
       "      <td>0.0</td>\n",
       "      <td>0.0</td>\n",
       "      <td>0.0</td>\n",
       "      <td>0.0</td>\n",
       "    </tr>\n",
       "    <tr>\n",
       "      <th>1</th>\n",
       "      <td>1477414596424220679</td>\n",
       "      <td>2022-01-01 23:01:03+00:00</td>\n",
       "      <td>23</td>\n",
       "      <td>Night</td>\n",
       "      <td>0</td>\n",
       "      <td>0</td>\n",
       "      <td>0</td>\n",
       "      <td>0</td>\n",
       "      <td>1</td>\n",
       "      <td>0</td>\n",
       "      <td>...</td>\n",
       "      <td>0.0</td>\n",
       "      <td>0.0</td>\n",
       "      <td>0.0</td>\n",
       "      <td>0.0</td>\n",
       "      <td>0.0</td>\n",
       "      <td>0.0</td>\n",
       "      <td>0.0</td>\n",
       "      <td>0.0</td>\n",
       "      <td>0.0</td>\n",
       "      <td>0.0</td>\n",
       "    </tr>\n",
       "    <tr>\n",
       "      <th>2</th>\n",
       "      <td>1477414332376010752</td>\n",
       "      <td>2022-01-01 23:00:00+00:00</td>\n",
       "      <td>23</td>\n",
       "      <td>Night</td>\n",
       "      <td>0</td>\n",
       "      <td>0</td>\n",
       "      <td>0</td>\n",
       "      <td>0</td>\n",
       "      <td>1</td>\n",
       "      <td>0</td>\n",
       "      <td>...</td>\n",
       "      <td>0.0</td>\n",
       "      <td>0.0</td>\n",
       "      <td>0.0</td>\n",
       "      <td>0.0</td>\n",
       "      <td>0.0</td>\n",
       "      <td>0.0</td>\n",
       "      <td>0.0</td>\n",
       "      <td>0.0</td>\n",
       "      <td>0.0</td>\n",
       "      <td>0.0</td>\n",
       "    </tr>\n",
       "    <tr>\n",
       "      <th>3</th>\n",
       "      <td>1477409748572151809</td>\n",
       "      <td>2022-01-01 22:41:47+00:00</td>\n",
       "      <td>22</td>\n",
       "      <td>Night</td>\n",
       "      <td>0</td>\n",
       "      <td>0</td>\n",
       "      <td>0</td>\n",
       "      <td>0</td>\n",
       "      <td>1</td>\n",
       "      <td>0</td>\n",
       "      <td>...</td>\n",
       "      <td>0.0</td>\n",
       "      <td>0.0</td>\n",
       "      <td>0.0</td>\n",
       "      <td>0.0</td>\n",
       "      <td>0.0</td>\n",
       "      <td>0.0</td>\n",
       "      <td>0.0</td>\n",
       "      <td>0.0</td>\n",
       "      <td>0.0</td>\n",
       "      <td>0.0</td>\n",
       "    </tr>\n",
       "    <tr>\n",
       "      <th>4</th>\n",
       "      <td>1477409332820119552</td>\n",
       "      <td>2022-01-01 22:40:08+00:00</td>\n",
       "      <td>22</td>\n",
       "      <td>Night</td>\n",
       "      <td>0</td>\n",
       "      <td>0</td>\n",
       "      <td>0</td>\n",
       "      <td>0</td>\n",
       "      <td>1</td>\n",
       "      <td>0</td>\n",
       "      <td>...</td>\n",
       "      <td>0.0</td>\n",
       "      <td>0.0</td>\n",
       "      <td>0.0</td>\n",
       "      <td>0.0</td>\n",
       "      <td>0.0</td>\n",
       "      <td>0.0</td>\n",
       "      <td>0.0</td>\n",
       "      <td>0.0</td>\n",
       "      <td>0.0</td>\n",
       "      <td>0.0</td>\n",
       "    </tr>\n",
       "    <tr>\n",
       "      <th>...</th>\n",
       "      <td>...</td>\n",
       "      <td>...</td>\n",
       "      <td>...</td>\n",
       "      <td>...</td>\n",
       "      <td>...</td>\n",
       "      <td>...</td>\n",
       "      <td>...</td>\n",
       "      <td>...</td>\n",
       "      <td>...</td>\n",
       "      <td>...</td>\n",
       "      <td>...</td>\n",
       "      <td>...</td>\n",
       "      <td>...</td>\n",
       "      <td>...</td>\n",
       "      <td>...</td>\n",
       "      <td>...</td>\n",
       "      <td>...</td>\n",
       "      <td>...</td>\n",
       "      <td>...</td>\n",
       "      <td>...</td>\n",
       "      <td>...</td>\n",
       "    </tr>\n",
       "    <tr>\n",
       "      <th>57857</th>\n",
       "      <td>1609034657231675393</td>\n",
       "      <td>2022-12-31 03:52:11+00:00</td>\n",
       "      <td>3</td>\n",
       "      <td>Late Night</td>\n",
       "      <td>0</td>\n",
       "      <td>0</td>\n",
       "      <td>0</td>\n",
       "      <td>0</td>\n",
       "      <td>0</td>\n",
       "      <td>1</td>\n",
       "      <td>...</td>\n",
       "      <td>0.0</td>\n",
       "      <td>0.0</td>\n",
       "      <td>0.0</td>\n",
       "      <td>0.0</td>\n",
       "      <td>0.0</td>\n",
       "      <td>0.0</td>\n",
       "      <td>0.0</td>\n",
       "      <td>0.0</td>\n",
       "      <td>0.0</td>\n",
       "      <td>0.0</td>\n",
       "    </tr>\n",
       "    <tr>\n",
       "      <th>57858</th>\n",
       "      <td>1609032640664838145</td>\n",
       "      <td>2022-12-31 03:44:10+00:00</td>\n",
       "      <td>3</td>\n",
       "      <td>Late Night</td>\n",
       "      <td>0</td>\n",
       "      <td>0</td>\n",
       "      <td>0</td>\n",
       "      <td>0</td>\n",
       "      <td>0</td>\n",
       "      <td>1</td>\n",
       "      <td>...</td>\n",
       "      <td>0.0</td>\n",
       "      <td>0.0</td>\n",
       "      <td>0.0</td>\n",
       "      <td>0.0</td>\n",
       "      <td>0.0</td>\n",
       "      <td>0.0</td>\n",
       "      <td>0.0</td>\n",
       "      <td>0.0</td>\n",
       "      <td>0.0</td>\n",
       "      <td>0.0</td>\n",
       "    </tr>\n",
       "    <tr>\n",
       "      <th>57859</th>\n",
       "      <td>1609025141333438465</td>\n",
       "      <td>2022-12-31 03:14:22+00:00</td>\n",
       "      <td>3</td>\n",
       "      <td>Late Night</td>\n",
       "      <td>0</td>\n",
       "      <td>0</td>\n",
       "      <td>0</td>\n",
       "      <td>0</td>\n",
       "      <td>0</td>\n",
       "      <td>1</td>\n",
       "      <td>...</td>\n",
       "      <td>0.0</td>\n",
       "      <td>0.0</td>\n",
       "      <td>0.0</td>\n",
       "      <td>0.0</td>\n",
       "      <td>0.0</td>\n",
       "      <td>0.0</td>\n",
       "      <td>0.0</td>\n",
       "      <td>0.0</td>\n",
       "      <td>0.0</td>\n",
       "      <td>0.0</td>\n",
       "    </tr>\n",
       "    <tr>\n",
       "      <th>57860</th>\n",
       "      <td>1609020670486405121</td>\n",
       "      <td>2022-12-31 02:56:36+00:00</td>\n",
       "      <td>2</td>\n",
       "      <td>Late Night</td>\n",
       "      <td>0</td>\n",
       "      <td>0</td>\n",
       "      <td>0</td>\n",
       "      <td>0</td>\n",
       "      <td>0</td>\n",
       "      <td>1</td>\n",
       "      <td>...</td>\n",
       "      <td>0.0</td>\n",
       "      <td>0.0</td>\n",
       "      <td>0.0</td>\n",
       "      <td>0.0</td>\n",
       "      <td>0.0</td>\n",
       "      <td>0.0</td>\n",
       "      <td>0.0</td>\n",
       "      <td>0.0</td>\n",
       "      <td>0.0</td>\n",
       "      <td>0.0</td>\n",
       "    </tr>\n",
       "    <tr>\n",
       "      <th>57861</th>\n",
       "      <td>1609017379853410304</td>\n",
       "      <td>2022-12-31 02:43:32+00:00</td>\n",
       "      <td>2</td>\n",
       "      <td>Late Night</td>\n",
       "      <td>0</td>\n",
       "      <td>0</td>\n",
       "      <td>0</td>\n",
       "      <td>0</td>\n",
       "      <td>0</td>\n",
       "      <td>1</td>\n",
       "      <td>...</td>\n",
       "      <td>0.0</td>\n",
       "      <td>0.0</td>\n",
       "      <td>0.0</td>\n",
       "      <td>0.0</td>\n",
       "      <td>0.0</td>\n",
       "      <td>0.0</td>\n",
       "      <td>0.0</td>\n",
       "      <td>0.0</td>\n",
       "      <td>0.0</td>\n",
       "      <td>0.0</td>\n",
       "    </tr>\n",
       "  </tbody>\n",
       "</table>\n",
       "<p>57862 rows × 2148 columns</p>\n",
       "</div>"
      ],
      "text/plain": [
       "                        id                     date_x  hour of tweet  \\\n",
       "0      1477420789863436289  2022-01-01 23:25:40+00:00             23   \n",
       "1      1477414596424220679  2022-01-01 23:01:03+00:00             23   \n",
       "2      1477414332376010752  2022-01-01 23:00:00+00:00             23   \n",
       "3      1477409748572151809  2022-01-01 22:41:47+00:00             22   \n",
       "4      1477409332820119552  2022-01-01 22:40:08+00:00             22   \n",
       "...                    ...                        ...            ...   \n",
       "57857  1609034657231675393  2022-12-31 03:52:11+00:00              3   \n",
       "57858  1609032640664838145  2022-12-31 03:44:10+00:00              3   \n",
       "57859  1609025141333438465  2022-12-31 03:14:22+00:00              3   \n",
       "57860  1609020670486405121  2022-12-31 02:56:36+00:00              2   \n",
       "57861  1609017379853410304  2022-12-31 02:43:32+00:00              2   \n",
       "\n",
       "      time of day  Early Morning Count  Morning Count  Noon Count  Eve Count  \\\n",
       "0           Night                    0              0           0          0   \n",
       "1           Night                    0              0           0          0   \n",
       "2           Night                    0              0           0          0   \n",
       "3           Night                    0              0           0          0   \n",
       "4           Night                    0              0           0          0   \n",
       "...           ...                  ...            ...         ...        ...   \n",
       "57857  Late Night                    0              0           0          0   \n",
       "57858  Late Night                    0              0           0          0   \n",
       "57859  Late Night                    0              0           0          0   \n",
       "57860  Late Night                    0              0           0          0   \n",
       "57861  Late Night                    0              0           0          0   \n",
       "\n",
       "       Night Count  Late Night Count  ... youre  youtube   yr zaporizhzhia  \\\n",
       "0                1                 0  ...   0.0      0.0  0.0          0.0   \n",
       "1                1                 0  ...   0.0      0.0  0.0          0.0   \n",
       "2                1                 0  ...   0.0      0.0  0.0          0.0   \n",
       "3                1                 0  ...   0.0      0.0  0.0          0.0   \n",
       "4                1                 0  ...   0.0      0.0  0.0          0.0   \n",
       "...            ...               ...  ...   ...      ...  ...          ...   \n",
       "57857            0                 1  ...   0.0      0.0  0.0          0.0   \n",
       "57858            0                 1  ...   0.0      0.0  0.0          0.0   \n",
       "57859            0                 1  ...   0.0      0.0  0.0          0.0   \n",
       "57860            0                 1  ...   0.0      0.0  0.0          0.0   \n",
       "57861            0                 1  ...   0.0      0.0  0.0          0.0   \n",
       "\n",
       "      zaporozhye  zelenskiy  zelensky  zelenskys  zelenskyy  zone  \n",
       "0            0.0        0.0       0.0        0.0        0.0   0.0  \n",
       "1            0.0        0.0       0.0        0.0        0.0   0.0  \n",
       "2            0.0        0.0       0.0        0.0        0.0   0.0  \n",
       "3            0.0        0.0       0.0        0.0        0.0   0.0  \n",
       "4            0.0        0.0       0.0        0.0        0.0   0.0  \n",
       "...          ...        ...       ...        ...        ...   ...  \n",
       "57857        0.0        0.0       0.0        0.0        0.0   0.0  \n",
       "57858        0.0        0.0       0.0        0.0        0.0   0.0  \n",
       "57859        0.0        0.0       0.0        0.0        0.0   0.0  \n",
       "57860        0.0        0.0       0.0        0.0        0.0   0.0  \n",
       "57861        0.0        0.0       0.0        0.0        0.0   0.0  \n",
       "\n",
       "[57862 rows x 2148 columns]"
      ]
     },
     "execution_count": 12,
     "metadata": {},
     "output_type": "execute_result"
    }
   ],
   "source": [
    "df_tfidf_merged"
   ]
  },
  {
   "cell_type": "code",
   "execution_count": 13,
   "id": "5cddfde4",
   "metadata": {},
   "outputs": [],
   "source": [
    "df_tfidf_merged.to_csv('../Data/Processed Dataset TF-IDF.csv', index = False)"
   ]
  },
  {
   "cell_type": "code",
   "execution_count": 14,
   "id": "2a1f53cd",
   "metadata": {},
   "outputs": [
    {
     "name": "stdout",
     "output_type": "stream",
     "text": [
      "<class 'pandas.core.frame.DataFrame'>\n",
      "Int64Index: 57862 entries, 0 to 57861\n",
      "Columns: 2148 entries, id to zone\n",
      "dtypes: float64(2122), int64(21), object(5)\n",
      "memory usage: 948.7+ MB\n"
     ]
    }
   ],
   "source": [
    "df_tfidf_merged.info()"
   ]
  },
  {
   "cell_type": "markdown",
   "id": "147708de",
   "metadata": {},
   "source": [
    "## Word2vec"
   ]
  },
  {
   "cell_type": "code",
   "execution_count": 4,
   "id": "4f362ad0",
   "metadata": {},
   "outputs": [],
   "source": [
    "from gensim.models import Word2Vec"
   ]
  },
  {
   "cell_type": "code",
   "execution_count": 5,
   "id": "59e9c15a",
   "metadata": {},
   "outputs": [
    {
     "data": {
      "text/plain": [
       "array([\"['lithuania', 'never', 'abandon', 'ukraine', 'volunteer', 'helping', 'ukrainian', 'army', 'say', 'euromaidanpresscomlit']\",\n",
       "       \"['today', 'min', 'today', 'max', 'month', 'min', 'month', 'max']\",\n",
       "       \"['tough', 'talk', 'president', 'joe', 'biden', 'vladimir', 'putin', 'troop', 'buildup', 'border', 'side', 'insist', 'hopeful', 'pathway', 'easing', 'tension', 'could', 'open', 'diplomatic', 'talk', 'set', 'january', 'englishalarabiyanetnewsworld']\",\n",
       "       ...,\n",
       "       \"['alexander', 'mercouri', 'comment', 'ray', 'mcgoverns', 'biden', 'reneged', 'russian', 'army', 'talk', 'antiwarcomblog']\",\n",
       "       \"['nice', 'overview', 'capability', 'bradley', 'ifvs', 'may', 'going']\",\n",
       "       \"['vasyl', 'malyuk', 'head', 'sbu', 'secret', 'police', 'say', 'bombing', 'ethnic', 'cleansing', 'continue']\"],\n",
       "      dtype=object)"
      ]
     },
     "execution_count": 5,
     "metadata": {},
     "output_type": "execute_result"
    }
   ],
   "source": [
    "corpus = df[\"Adjusted Tweet\"].to_numpy()\n",
    "corpus"
   ]
  },
  {
   "cell_type": "code",
   "execution_count": 6,
   "id": "53b990ef",
   "metadata": {},
   "outputs": [],
   "source": [
    "model = Word2Vec(min_count = 50)\n",
    "model.build_vocab(corpus)"
   ]
  },
  {
   "cell_type": "code",
   "execution_count": 26,
   "id": "b8216462",
   "metadata": {},
   "outputs": [],
   "source": [
    "# idea: replace words not in the vocabulary with an unknown word token and train with it\n",
    "# due to some tweets only containing 'unique' words, so do not have a document embedding\n",
    "def unknowns(doc):\n",
    "    unknown_token = \"xxunkxx\"\n",
    "    l = [word if word in model.wv.key_to_index else unknown_token for word in doc]\n",
    "    if not l:\n",
    "        l = [unknown_token]\n",
    "    return l"
   ]
  },
  {
   "cell_type": "code",
   "execution_count": 27,
   "id": "30143879",
   "metadata": {},
   "outputs": [],
   "source": [
    "df[\"Adjusted Unknowns\"] = df[\"Adjusted Tweet\"].apply(unknowns)\n",
    "corpus_unk = df[\"Adjusted Unknowns\"].to_numpy()"
   ]
  },
  {
   "cell_type": "code",
   "execution_count": 28,
   "id": "807e0f97",
   "metadata": {},
   "outputs": [
    {
     "data": {
      "text/plain": [
       "(4722597, 6828000)"
      ]
     },
     "execution_count": 28,
     "metadata": {},
     "output_type": "execute_result"
    }
   ],
   "source": [
    "model = Word2Vec(min_count = 50)\n",
    "model.build_vocab(corpus_unk) #use new corpus to train\n",
    "model.train(corpus_unk, total_examples = model.corpus_count, epochs = 10)"
   ]
  },
  {
   "cell_type": "code",
   "execution_count": 29,
   "id": "ba03663e",
   "metadata": {},
   "outputs": [
    {
     "data": {
      "text/plain": [
       "2170"
      ]
     },
     "execution_count": 29,
     "metadata": {},
     "output_type": "execute_result"
    }
   ],
   "source": [
    "embeddings = model.wv\n",
    "len(embeddings.key_to_index)"
   ]
  },
  {
   "cell_type": "code",
   "execution_count": 88,
   "id": "13a93ee8",
   "metadata": {
    "scrolled": true
   },
   "outputs": [
    {
     "data": {
      "text/plain": [
       "[('supported', 0.43975093960762024),\n",
       " ('created', 0.43644997477531433),\n",
       " ('whose', 0.38421499729156494),\n",
       " ('rightarrow', 0.36925357580184937),\n",
       " ('rose', 0.36789342761039734),\n",
       " ('field', 0.36598271131515503),\n",
       " ('art', 0.36549243330955505),\n",
       " ('symbol', 0.36332613229751587),\n",
       " ('small', 0.3625105917453766),\n",
       " ('etc', 0.36081624031066895)]"
      ]
     },
     "execution_count": 88,
     "metadata": {},
     "output_type": "execute_result"
    }
   ],
   "source": [
    "embeddings.similar_by_word(\"xxunkxx\")"
   ]
  },
  {
   "cell_type": "markdown",
   "id": "df196a57",
   "metadata": {},
   "source": [
    "Create vector representations"
   ]
  },
  {
   "cell_type": "code",
   "execution_count": 39,
   "id": "ab7d6ccf",
   "metadata": {},
   "outputs": [],
   "source": [
    "def doc_vector(doc):\n",
    "    l = pd.Series([word for word in doc if word in embeddings.index_to_key], dtype = 'object')\n",
    "    l = l.apply(embeddings.get_vector)\n",
    "    return np.mean(l, axis = 0)"
   ]
  },
  {
   "cell_type": "code",
   "execution_count": 54,
   "id": "0a849013",
   "metadata": {
    "scrolled": true
   },
   "outputs": [],
   "source": [
    "doc_embedding_matrix = np.array(df[\"Adjusted Unknowns\"].apply(doc_vector).tolist())\n",
    "np.shape(doc_embedding_matrix)"
   ]
  },
  {
   "cell_type": "code",
   "execution_count": 63,
   "id": "1ec7a2e5",
   "metadata": {},
   "outputs": [],
   "source": [
    "column_names = []\n",
    "for i in range(100):\n",
    "    column_names.append(f\"doc_embed_{i}\")\n",
    "\n",
    "df_doc_embeddings = pd.DataFrame(doc_embedding_matrix, columns = column_names)"
   ]
  },
  {
   "cell_type": "code",
   "execution_count": 77,
   "id": "ea4bd114",
   "metadata": {},
   "outputs": [],
   "source": [
    "df_doc_embeddings[\"id\"] = df[\"id\"]\n",
    "df_embeddings_merged = pd.merge(df, df_doc_embeddings, on = 'id')"
   ]
  },
  {
   "cell_type": "code",
   "execution_count": 84,
   "id": "bb68186c",
   "metadata": {},
   "outputs": [
    {
     "name": "stdout",
     "output_type": "stream",
     "text": [
      "<class 'pandas.core.frame.DataFrame'>\n",
      "Int64Index: 57862 entries, 0 to 57861\n",
      "Columns: 132 entries, id to doc_embed_99\n",
      "dtypes: float32(100), float64(6), int64(21), object(5)\n",
      "memory usage: 36.6+ MB\n"
     ]
    }
   ],
   "source": [
    "df_embeddings_merged.info()"
   ]
  },
  {
   "cell_type": "code",
   "execution_count": 85,
   "id": "798dd153",
   "metadata": {},
   "outputs": [],
   "source": [
    "df_embeddings_merged.to_csv('../Data/Processed Dataset Doc Embeddings.csv', index = False)"
   ]
  },
  {
   "cell_type": "code",
   "execution_count": 81,
   "id": "cbe4dda9",
   "metadata": {},
   "outputs": [],
   "source": [
    "def cosine_similarity(x, y):\n",
    "    \n",
    "    # Ensure length of x and y are the same\n",
    "    if len(x) != len(y) :\n",
    "        return None\n",
    "    \n",
    "    # Compute the dot product between x and y\n",
    "    dot_product = np.dot(x, y)\n",
    "    \n",
    "    # Compute the L2 norms (magnitudes) of x and y\n",
    "    magnitude_x = np.sqrt(np.sum(x**2)) \n",
    "    magnitude_y = np.sqrt(np.sum(y**2))\n",
    "    \n",
    "    # Compute the cosine similarity\n",
    "    cosine_similarity = dot_product / (magnitude_x * magnitude_y)\n",
    "    \n",
    "    return cosine_similarity"
   ]
  },
  {
   "cell_type": "code",
   "execution_count": 83,
   "id": "e4b07148",
   "metadata": {},
   "outputs": [
    {
     "data": {
      "text/plain": [
       "0.7056877"
      ]
     },
     "execution_count": 83,
     "metadata": {},
     "output_type": "execute_result"
    }
   ],
   "source": [
    "cosine_similarity(doc_embedding_matrix[0], doc_embedding_matrix[4])"
   ]
  }
 ],
 "metadata": {
  "kernelspec": {
   "display_name": "Python 3 (ipykernel)",
   "language": "python",
   "name": "python3"
  },
  "language_info": {
   "codemirror_mode": {
    "name": "ipython",
    "version": 3
   },
   "file_extension": ".py",
   "mimetype": "text/x-python",
   "name": "python",
   "nbconvert_exporter": "python",
   "pygments_lexer": "ipython3",
   "version": "3.9.7"
  }
 },
 "nbformat": 4,
 "nbformat_minor": 5
}
