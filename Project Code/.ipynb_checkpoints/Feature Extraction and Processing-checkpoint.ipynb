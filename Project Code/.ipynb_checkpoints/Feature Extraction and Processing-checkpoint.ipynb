{
 "cells": [
  {
   "cell_type": "markdown",
   "metadata": {},
   "source": [
    "## Preprocessing and Feature Extraction"
   ]
  },
  {
   "cell_type": "code",
   "execution_count": 1,
   "metadata": {},
   "outputs": [],
   "source": [
    "import snscrape.modules.twitter as sntwitter\n",
    "import pandas as pd\n",
    "from textblob import TextBlob \n",
    "\n",
    "from nltk.corpus import stopwords\n",
    "from nltk.corpus import twitter_samples\n",
    "from nltk.stem import PorterStemmer\n",
    "from nltk.tokenize import TweetTokenizer\n",
    "import nltk\n",
    "\n",
    "from argparse import Namespace\n",
    "from functools import partial\n",
    "from pathlib import Path\n",
    "from pprint import pprint\n",
    "\n",
    "import os\n",
    "import pickle\n",
    "import random\n",
    "import re\n",
    "import string"
   ]
  },
  {
   "cell_type": "markdown",
   "metadata": {},
   "source": [
    "## Sentiment Analysis:"
   ]
  },
  {
   "cell_type": "markdown",
   "metadata": {},
   "source": [
    "Steps taken:\n",
    "- Converting emojis to text\n",
    "- We decide to remove all the mentions and hashtagged words, as these will be analysed separately\n",
    "- Remove Links, as these don't contribute to SA\n",
    "- Conducting the SA on our preprocessed data"
   ]
  },
  {
   "cell_type": "code",
   "execution_count": 2,
   "metadata": {},
   "outputs": [],
   "source": [
    "df = pd.read_csv(\"/Users/harveymiller/Documents/GitHub/text-success/Data/tweets_ukraine_monthly.csv\")"
   ]
  },
  {
   "cell_type": "markdown",
   "metadata": {},
   "source": [
    "Creating a new column so that we can see the adjusted tweet and original versiom"
   ]
  },
  {
   "cell_type": "code",
   "execution_count": 3,
   "metadata": {},
   "outputs": [],
   "source": [
    "df.insert(loc=6,\n",
    "          column='Adjusted Tweet',\n",
    "          value=df['rendered_content'])"
   ]
  },
  {
   "cell_type": "markdown",
   "metadata": {},
   "source": [
    "Converting emojis to text"
   ]
  },
  {
   "cell_type": "code",
   "execution_count": 4,
   "metadata": {},
   "outputs": [],
   "source": [
    "import emot\n",
    "import emoji\n",
    "\n",
    "def demote(text):\n",
    "    text = emoji.demojize(text)\n",
    "    return text\n",
    "\n",
    "df['Adjusted Tweet'] = df['Adjusted Tweet'].apply(demote)"
   ]
  },
  {
   "cell_type": "markdown",
   "metadata": {},
   "source": [
    "Removing mentions and hashtagged words"
   ]
  },
  {
   "cell_type": "code",
   "execution_count": 5,
   "metadata": {},
   "outputs": [],
   "source": [
    "import re\n",
    "\n",
    "def remove_mentions_hashtags(text):\n",
    "    text = re.sub(\"@[A-Za-z0-9_]+\",\"\", text)\n",
    "    text = re.sub(\"#[A-Za-z0-9_]+\",\"\", text)\n",
    "    return text\n",
    "\n",
    "df['Adjusted Tweet'] = df['Adjusted Tweet'].apply(remove_mentions_hashtags)"
   ]
  },
  {
   "cell_type": "markdown",
   "metadata": {},
   "source": [
    "Removing links"
   ]
  },
  {
   "cell_type": "code",
   "execution_count": 6,
   "metadata": {},
   "outputs": [],
   "source": [
    "import re\n",
    "\n",
    "def remove_links(text):\n",
    "    text = re.sub('http://\\S+|https://\\S+', '', text)\n",
    "    text = re.sub('http[s]?://\\S+', '', text)\n",
    "    text = re.sub(r\"http\\S+\", \"\", text)\n",
    "    text = re.sub(r'bit.ly/\\S+', '', text) # remove bitly links\n",
    "    text = text.strip('[link]') # remove [links]\n",
    "    return text\n",
    "\n",
    "df['Adjusted Tweet'] = df['Adjusted Tweet'].apply(remove_links)"
   ]
  },
  {
   "cell_type": "markdown",
   "metadata": {},
   "source": [
    "Insert Polarity Score Column"
   ]
  },
  {
   "cell_type": "code",
   "execution_count": 7,
   "metadata": {},
   "outputs": [],
   "source": [
    "df.insert(loc=7,\n",
    "          column='Polarity Score',\n",
    "          value=df['Adjusted Tweet'])"
   ]
  },
  {
   "cell_type": "markdown",
   "metadata": {},
   "source": [
    "Sentiment Analysis using NLTK's VADER"
   ]
  },
  {
   "cell_type": "code",
   "execution_count": 8,
   "metadata": {},
   "outputs": [],
   "source": [
    "from nltk.sentiment import SentimentIntensityAnalyzer\n",
    "sia = SentimentIntensityAnalyzer()\n",
    "\n",
    "def sentiment_analysis(text):  \n",
    "    text = sia.polarity_scores(text)\n",
    "    return text\n",
    "\n",
    "df['Polarity Score'] = df['Polarity Score'].apply(sentiment_analysis)\n",
    "    "
   ]
  },
  {
   "cell_type": "markdown",
   "metadata": {},
   "source": [
    "Creating columns for:\n",
    "- Negative Score\n",
    "- Neutral Score\n",
    "- Positive Score\n",
    "- Compound Score [-1,1]"
   ]
  },
  {
   "cell_type": "code",
   "execution_count": 9,
   "metadata": {},
   "outputs": [],
   "source": [
    "df.insert(loc=8,\n",
    "          column='Negative Score',\n",
    "          value=df['Polarity Score'])\n",
    "\n",
    "df.insert(loc=9,\n",
    "          column='Neutral Score',\n",
    "          value=df['Polarity Score'])\n",
    "\n",
    "df.insert(loc=10,\n",
    "          column='Positive Score',\n",
    "          value=df['Polarity Score'])\n",
    "\n",
    "df.insert(loc=11,\n",
    "          column='Compound Score',\n",
    "          value=df['Polarity Score'])"
   ]
  },
  {
   "cell_type": "code",
   "execution_count": 10,
   "metadata": {},
   "outputs": [],
   "source": [
    "def negative_score(text):\n",
    "    text = text['neg']\n",
    "    return text\n",
    "\n",
    "df['Negative Score'] = df['Negative Score'].apply(negative_score)"
   ]
  },
  {
   "cell_type": "code",
   "execution_count": 11,
   "metadata": {},
   "outputs": [],
   "source": [
    "def neutral_score(text):\n",
    "    text = text['neu']\n",
    "    return text\n",
    "\n",
    "df['Neutral Score'] = df['Neutral Score'].apply(neutral_score)"
   ]
  },
  {
   "cell_type": "code",
   "execution_count": 12,
   "metadata": {},
   "outputs": [],
   "source": [
    "def positive_score(text):\n",
    "    text = text['pos']\n",
    "    return text\n",
    "\n",
    "df['Positive Score'] = df['Positive Score'].apply(positive_score)"
   ]
  },
  {
   "cell_type": "code",
   "execution_count": 13,
   "metadata": {},
   "outputs": [],
   "source": [
    "def compound_score(text):\n",
    "    text = text['compound']\n",
    "    return text\n",
    "\n",
    "df['Compound Score'] = df['Compound Score'].apply(compound_score)"
   ]
  },
  {
   "cell_type": "code",
   "execution_count": null,
   "metadata": {},
   "outputs": [],
   "source": [
    "df.head()"
   ]
  },
  {
   "cell_type": "markdown",
   "metadata": {},
   "source": [
    "Sentiment Analysis using TextBlob"
   ]
  },
  {
   "cell_type": "code",
   "execution_count": 25,
   "metadata": {},
   "outputs": [],
   "source": [
    "df.insert(loc=12,\n",
    "          column='Polarity Score_textblob',\n",
    "          value=df['Adjusted Tweet'])"
   ]
  },
  {
   "cell_type": "code",
   "execution_count": null,
   "metadata": {},
   "outputs": [],
   "source": [
    "df.insert(loc=13,\n",
    "          column='Subjectivity Score_textblob',\n",
    "          value=df['Adjusted Tweet'])"
   ]
  },
  {
   "cell_type": "code",
   "execution_count": 33,
   "metadata": {},
   "outputs": [],
   "source": [
    "from textblob import TextBlob\n",
    "\n",
    "#Create a function to get the subjectivity\n",
    "def getSubjectivity(text):\n",
    "    return TextBlob(text).sentiment.subjectivity\n",
    "\n",
    "#Create a function to get the polarity\n",
    "def getPolarity(text):\n",
    "    return TextBlob(text).sentiment.polarity\n",
    "\n",
    "#df['Polarity Score_textblob'] = df['Polarity Score_textblob'].apply(getPolarity)\n",
    "df['Subjectivity Score_textblob'] = df['Subjectivity Score_textblob'].apply(getSubjectivity)\n"
   ]
  },
  {
   "cell_type": "code",
   "execution_count": 35,
   "metadata": {},
   "outputs": [
    {
     "data": {
      "text/html": [
       "<div>\n",
       "<style scoped>\n",
       "    .dataframe tbody tr th:only-of-type {\n",
       "        vertical-align: middle;\n",
       "    }\n",
       "\n",
       "    .dataframe tbody tr th {\n",
       "        vertical-align: top;\n",
       "    }\n",
       "\n",
       "    .dataframe thead th {\n",
       "        text-align: right;\n",
       "    }\n",
       "</style>\n",
       "<table border=\"1\" class=\"dataframe\">\n",
       "  <thead>\n",
       "    <tr style=\"text-align: right;\">\n",
       "      <th></th>\n",
       "      <th>id</th>\n",
       "      <th>date</th>\n",
       "      <th>user</th>\n",
       "      <th>user_followers</th>\n",
       "      <th>raw_content</th>\n",
       "      <th>rendered_content</th>\n",
       "      <th>Adjusted Tweet</th>\n",
       "      <th>Polarity Score</th>\n",
       "      <th>Negative Score</th>\n",
       "      <th>Neutral Score</th>\n",
       "      <th>...</th>\n",
       "      <th>Polarity Score_textblob</th>\n",
       "      <th>Subjectivity Score_textblob</th>\n",
       "      <th>likes</th>\n",
       "      <th>retweets</th>\n",
       "      <th>replies</th>\n",
       "      <th>quoteCount</th>\n",
       "      <th>hashtags</th>\n",
       "      <th>lang</th>\n",
       "      <th>media</th>\n",
       "      <th>mentionedUsers</th>\n",
       "    </tr>\n",
       "  </thead>\n",
       "  <tbody>\n",
       "    <tr>\n",
       "      <th>0</th>\n",
       "      <td>1486661338390831105</td>\n",
       "      <td>2022-01-27 11:24:18+00:00</td>\n",
       "      <td>WorldToBe1</td>\n",
       "      <td>10769</td>\n",
       "      <td>#Russia-#Ukraine debate sparks fiery exchange ...</td>\n",
       "      <td>#Russia-#Ukraine debate sparks fiery exchange ...</td>\n",
       "      <td>['debate', 'sparks', 'fiery', 'exchange', '201...</td>\n",
       "      <td>{'neg': 0.094, 'neu': 0.906, 'pos': 0.0, 'comp...</td>\n",
       "      <td>0.094</td>\n",
       "      <td>0.906</td>\n",
       "      <td>...</td>\n",
       "      <td>0.000</td>\n",
       "      <td>0.000</td>\n",
       "      <td>0</td>\n",
       "      <td>0</td>\n",
       "      <td>0</td>\n",
       "      <td>0</td>\n",
       "      <td>['Russia', 'Ukraine', 'CNN', 'USA', 'EU', 'NAT...</td>\n",
       "      <td>en</td>\n",
       "      <td>NaN</td>\n",
       "      <td>NaN</td>\n",
       "    </tr>\n",
       "    <tr>\n",
       "      <th>1</th>\n",
       "      <td>1486105614803775490</td>\n",
       "      <td>2022-01-25 22:36:03+00:00</td>\n",
       "      <td>embeegle</td>\n",
       "      <td>2246</td>\n",
       "      <td>Can you say pipeline?  A larger cut coming to ...</td>\n",
       "      <td>Can you say pipeline?  A larger cut coming to ...</td>\n",
       "      <td>['say', 'pipeline', 'larger', 'cut', 'coming',...</td>\n",
       "      <td>{'neg': 0.174, 'neu': 0.826, 'pos': 0.0, 'comp...</td>\n",
       "      <td>0.174</td>\n",
       "      <td>0.826</td>\n",
       "      <td>...</td>\n",
       "      <td>0.000</td>\n",
       "      <td>0.500</td>\n",
       "      <td>1</td>\n",
       "      <td>1</td>\n",
       "      <td>0</td>\n",
       "      <td>0</td>\n",
       "      <td>['PutinsPuppet', 'ukrainewar']</td>\n",
       "      <td>en</td>\n",
       "      <td>NaN</td>\n",
       "      <td>NaN</td>\n",
       "    </tr>\n",
       "    <tr>\n",
       "      <th>2</th>\n",
       "      <td>1486056169013661697</td>\n",
       "      <td>2022-01-25 19:19:34+00:00</td>\n",
       "      <td>Vlad_Mykhnenko</td>\n",
       "      <td>1068</td>\n",
       "      <td>Foreign exchange markets somehow are not betti...</td>\n",
       "      <td>Foreign exchange markets somehow are not betti...</td>\n",
       "      <td>['foreign', 'exchange', 'markets', 'somehow', ...</td>\n",
       "      <td>{'neg': 0.0, 'neu': 1.0, 'pos': 0.0, 'compound...</td>\n",
       "      <td>0.000</td>\n",
       "      <td>1.000</td>\n",
       "      <td>...</td>\n",
       "      <td>-0.125</td>\n",
       "      <td>0.125</td>\n",
       "      <td>1</td>\n",
       "      <td>0</td>\n",
       "      <td>0</td>\n",
       "      <td>0</td>\n",
       "      <td>['russianinvasion', 'ukrainewar']</td>\n",
       "      <td>en</td>\n",
       "      <td>[Photo(previewUrl='https://pbs.twimg.com/media...</td>\n",
       "      <td>NaN</td>\n",
       "    </tr>\n",
       "    <tr>\n",
       "      <th>3</th>\n",
       "      <td>1486019310069989376</td>\n",
       "      <td>2022-01-25 16:53:07+00:00</td>\n",
       "      <td>RaVe_74</td>\n",
       "      <td>5309</td>\n",
       "      <td>#borisjohnson's expertise in foreign affairs -...</td>\n",
       "      <td>#borisjohnson's expertise in foreign affairs -...</td>\n",
       "      <td>['expertise', 'foreign', 'affairs', 'trying', ...</td>\n",
       "      <td>{'neg': 0.215, 'neu': 0.785, 'pos': 0.0, 'comp...</td>\n",
       "      <td>0.215</td>\n",
       "      <td>0.785</td>\n",
       "      <td>...</td>\n",
       "      <td>-0.125</td>\n",
       "      <td>0.125</td>\n",
       "      <td>3</td>\n",
       "      <td>1</td>\n",
       "      <td>0</td>\n",
       "      <td>0</td>\n",
       "      <td>['borisjohnson', 'freenazanin', 'BrexitShamble...</td>\n",
       "      <td>en</td>\n",
       "      <td>NaN</td>\n",
       "      <td>NaN</td>\n",
       "    </tr>\n",
       "    <tr>\n",
       "      <th>4</th>\n",
       "      <td>1485989417084985347</td>\n",
       "      <td>2022-01-25 14:54:20+00:00</td>\n",
       "      <td>miamicool</td>\n",
       "      <td>1035</td>\n",
       "      <td>Seems that #ukrainewar just became that \"line ...</td>\n",
       "      <td>Seems that #ukrainewar just became that \"line ...</td>\n",
       "      <td>['seems', 'became', 'line', 'sand', 'whole', '...</td>\n",
       "      <td>{'neg': 0.401, 'neu': 0.599, 'pos': 0.0, 'comp...</td>\n",
       "      <td>0.401</td>\n",
       "      <td>0.599</td>\n",
       "      <td>...</td>\n",
       "      <td>-0.400</td>\n",
       "      <td>0.525</td>\n",
       "      <td>0</td>\n",
       "      <td>0</td>\n",
       "      <td>0</td>\n",
       "      <td>0</td>\n",
       "      <td>['ukrainewar']</td>\n",
       "      <td>en</td>\n",
       "      <td>NaN</td>\n",
       "      <td>NaN</td>\n",
       "    </tr>\n",
       "  </tbody>\n",
       "</table>\n",
       "<p>5 rows × 22 columns</p>\n",
       "</div>"
      ],
      "text/plain": [
       "                    id                       date            user  \\\n",
       "0  1486661338390831105  2022-01-27 11:24:18+00:00      WorldToBe1   \n",
       "1  1486105614803775490  2022-01-25 22:36:03+00:00        embeegle   \n",
       "2  1486056169013661697  2022-01-25 19:19:34+00:00  Vlad_Mykhnenko   \n",
       "3  1486019310069989376  2022-01-25 16:53:07+00:00         RaVe_74   \n",
       "4  1485989417084985347  2022-01-25 14:54:20+00:00       miamicool   \n",
       "\n",
       "   user_followers                                        raw_content  \\\n",
       "0           10769  #Russia-#Ukraine debate sparks fiery exchange ...   \n",
       "1            2246  Can you say pipeline?  A larger cut coming to ...   \n",
       "2            1068  Foreign exchange markets somehow are not betti...   \n",
       "3            5309  #borisjohnson's expertise in foreign affairs -...   \n",
       "4            1035  Seems that #ukrainewar just became that \"line ...   \n",
       "\n",
       "                                    rendered_content  \\\n",
       "0  #Russia-#Ukraine debate sparks fiery exchange ...   \n",
       "1  Can you say pipeline?  A larger cut coming to ...   \n",
       "2  Foreign exchange markets somehow are not betti...   \n",
       "3  #borisjohnson's expertise in foreign affairs -...   \n",
       "4  Seems that #ukrainewar just became that \"line ...   \n",
       "\n",
       "                                      Adjusted Tweet  \\\n",
       "0  ['debate', 'sparks', 'fiery', 'exchange', '201...   \n",
       "1  ['say', 'pipeline', 'larger', 'cut', 'coming',...   \n",
       "2  ['foreign', 'exchange', 'markets', 'somehow', ...   \n",
       "3  ['expertise', 'foreign', 'affairs', 'trying', ...   \n",
       "4  ['seems', 'became', 'line', 'sand', 'whole', '...   \n",
       "\n",
       "                                      Polarity Score  Negative Score  \\\n",
       "0  {'neg': 0.094, 'neu': 0.906, 'pos': 0.0, 'comp...           0.094   \n",
       "1  {'neg': 0.174, 'neu': 0.826, 'pos': 0.0, 'comp...           0.174   \n",
       "2  {'neg': 0.0, 'neu': 1.0, 'pos': 0.0, 'compound...           0.000   \n",
       "3  {'neg': 0.215, 'neu': 0.785, 'pos': 0.0, 'comp...           0.215   \n",
       "4  {'neg': 0.401, 'neu': 0.599, 'pos': 0.0, 'comp...           0.401   \n",
       "\n",
       "   Neutral Score  ...  Polarity Score_textblob  Subjectivity Score_textblob  \\\n",
       "0          0.906  ...                    0.000                        0.000   \n",
       "1          0.826  ...                    0.000                        0.500   \n",
       "2          1.000  ...                   -0.125                        0.125   \n",
       "3          0.785  ...                   -0.125                        0.125   \n",
       "4          0.599  ...                   -0.400                        0.525   \n",
       "\n",
       "   likes  retweets  replies  quoteCount  \\\n",
       "0      0         0        0           0   \n",
       "1      1         1        0           0   \n",
       "2      1         0        0           0   \n",
       "3      3         1        0           0   \n",
       "4      0         0        0           0   \n",
       "\n",
       "                                            hashtags  lang  \\\n",
       "0  ['Russia', 'Ukraine', 'CNN', 'USA', 'EU', 'NAT...    en   \n",
       "1                     ['PutinsPuppet', 'ukrainewar']    en   \n",
       "2                  ['russianinvasion', 'ukrainewar']    en   \n",
       "3  ['borisjohnson', 'freenazanin', 'BrexitShamble...    en   \n",
       "4                                     ['ukrainewar']    en   \n",
       "\n",
       "                                               media mentionedUsers  \n",
       "0                                                NaN            NaN  \n",
       "1                                                NaN            NaN  \n",
       "2  [Photo(previewUrl='https://pbs.twimg.com/media...            NaN  \n",
       "3                                                NaN            NaN  \n",
       "4                                                NaN            NaN  \n",
       "\n",
       "[5 rows x 22 columns]"
      ]
     },
     "execution_count": 35,
     "metadata": {},
     "output_type": "execute_result"
    }
   ],
   "source": [
    "df.head()"
   ]
  },
  {
   "cell_type": "markdown",
   "metadata": {},
   "source": [
    "## Further manipulating the tweet"
   ]
  },
  {
   "cell_type": "markdown",
   "metadata": {},
   "source": [
    "Steps taken:\n",
    "- Lowercase\n",
    "- Punctuation\n",
    "- Tokenization\n",
    "- Stopword filtering\n",
    "- Stemming"
   ]
  },
  {
   "cell_type": "markdown",
   "metadata": {},
   "source": [
    "Changing all text to lowercase"
   ]
  },
  {
   "cell_type": "code",
   "execution_count": 15,
   "metadata": {},
   "outputs": [],
   "source": [
    "def lowercase(text):    \n",
    "    text = text.lower()\n",
    "    return text\n",
    "\n",
    "df['Adjusted Tweet'] = df['Adjusted Tweet'].apply(lowercase)"
   ]
  },
  {
   "cell_type": "markdown",
   "metadata": {},
   "source": [
    "Removing all Punctuation"
   ]
  },
  {
   "cell_type": "code",
   "execution_count": 16,
   "metadata": {},
   "outputs": [],
   "source": [
    "import string\n",
    "\n",
    "def punctuation_remove(text):\n",
    "    text = \"\".join([char for char in text if char not in string.punctuation])\n",
    "    return text\n",
    "\n",
    "df['Adjusted Tweet'] = df['Adjusted Tweet'].apply(punctuation_remove)"
   ]
  },
  {
   "cell_type": "markdown",
   "metadata": {},
   "source": [
    "Tokenizing"
   ]
  },
  {
   "cell_type": "code",
   "execution_count": 17,
   "metadata": {},
   "outputs": [],
   "source": [
    "from nltk import word_tokenize\n",
    "\n",
    "def tokenize(text):\n",
    "    text = word_tokenize(text)\n",
    "    return text\n",
    "\n",
    "df['Adjusted Tweet'] = df['Adjusted Tweet'].apply(tokenize)"
   ]
  },
  {
   "cell_type": "markdown",
   "metadata": {},
   "source": [
    "Stopword Filtering"
   ]
  },
  {
   "cell_type": "code",
   "execution_count": 18,
   "metadata": {},
   "outputs": [],
   "source": [
    "from nltk.corpus import stopwords\n",
    "\n",
    "def remove_stopwords(text):\n",
    "    stop_words = stopwords.words('english')\n",
    "    text = [word for word in text if word not in stop_words]\n",
    "    return text\n",
    "\n",
    "df['Adjusted Tweet'] = df['Adjusted Tweet'].apply(remove_stopwords)"
   ]
  },
  {
   "cell_type": "markdown",
   "metadata": {},
   "source": [
    "Stemming"
   ]
  },
  {
   "cell_type": "code",
   "execution_count": 19,
   "metadata": {},
   "outputs": [],
   "source": [
    "from nltk.stem.porter import PorterStemmer\n",
    "porter = PorterStemmer()\n",
    "\n",
    "def stem(text):\n",
    "    stemmed = [porter.stem(word) for word in text]\n",
    "    return text\n",
    "\n",
    "df['Adjusted Tweet'] = df['Adjusted Tweet'].apply(stem)"
   ]
  },
  {
   "cell_type": "code",
   "execution_count": 22,
   "metadata": {},
   "outputs": [
    {
     "data": {
      "text/html": [
       "<div>\n",
       "<style scoped>\n",
       "    .dataframe tbody tr th:only-of-type {\n",
       "        vertical-align: middle;\n",
       "    }\n",
       "\n",
       "    .dataframe tbody tr th {\n",
       "        vertical-align: top;\n",
       "    }\n",
       "\n",
       "    .dataframe thead th {\n",
       "        text-align: right;\n",
       "    }\n",
       "</style>\n",
       "<table border=\"1\" class=\"dataframe\">\n",
       "  <thead>\n",
       "    <tr style=\"text-align: right;\">\n",
       "      <th></th>\n",
       "      <th>id</th>\n",
       "      <th>date</th>\n",
       "      <th>user</th>\n",
       "      <th>user_followers</th>\n",
       "      <th>raw_content</th>\n",
       "      <th>rendered_content</th>\n",
       "      <th>Adjusted Tweet</th>\n",
       "      <th>Polarity Score</th>\n",
       "      <th>Negative Score</th>\n",
       "      <th>Neutral Score</th>\n",
       "      <th>Positive Score</th>\n",
       "      <th>Compound Score</th>\n",
       "      <th>likes</th>\n",
       "      <th>retweets</th>\n",
       "      <th>replies</th>\n",
       "      <th>quoteCount</th>\n",
       "      <th>hashtags</th>\n",
       "      <th>lang</th>\n",
       "      <th>media</th>\n",
       "      <th>mentionedUsers</th>\n",
       "    </tr>\n",
       "  </thead>\n",
       "  <tbody>\n",
       "    <tr>\n",
       "      <th>0</th>\n",
       "      <td>1486661338390831105</td>\n",
       "      <td>2022-01-27 11:24:18+00:00</td>\n",
       "      <td>WorldToBe1</td>\n",
       "      <td>10769</td>\n",
       "      <td>#Russia-#Ukraine debate sparks fiery exchange ...</td>\n",
       "      <td>#Russia-#Ukraine debate sparks fiery exchange ...</td>\n",
       "      <td>['debate', 'sparks', 'fiery', 'exchange', '201...</td>\n",
       "      <td>{'neg': 0.094, 'neu': 0.906, 'pos': 0.0, 'comp...</td>\n",
       "      <td>0.094</td>\n",
       "      <td>0.906</td>\n",
       "      <td>0.0</td>\n",
       "      <td>-0.3400</td>\n",
       "      <td>0</td>\n",
       "      <td>0</td>\n",
       "      <td>0</td>\n",
       "      <td>0</td>\n",
       "      <td>['Russia', 'Ukraine', 'CNN', 'USA', 'EU', 'NAT...</td>\n",
       "      <td>en</td>\n",
       "      <td>NaN</td>\n",
       "      <td>NaN</td>\n",
       "    </tr>\n",
       "    <tr>\n",
       "      <th>1</th>\n",
       "      <td>1486105614803775490</td>\n",
       "      <td>2022-01-25 22:36:03+00:00</td>\n",
       "      <td>embeegle</td>\n",
       "      <td>2246</td>\n",
       "      <td>Can you say pipeline?  A larger cut coming to ...</td>\n",
       "      <td>Can you say pipeline?  A larger cut coming to ...</td>\n",
       "      <td>['say', 'pipeline', 'larger', 'cut', 'coming',...</td>\n",
       "      <td>{'neg': 0.174, 'neu': 0.826, 'pos': 0.0, 'comp...</td>\n",
       "      <td>0.174</td>\n",
       "      <td>0.826</td>\n",
       "      <td>0.0</td>\n",
       "      <td>-0.2732</td>\n",
       "      <td>1</td>\n",
       "      <td>1</td>\n",
       "      <td>0</td>\n",
       "      <td>0</td>\n",
       "      <td>['PutinsPuppet', 'ukrainewar']</td>\n",
       "      <td>en</td>\n",
       "      <td>NaN</td>\n",
       "      <td>NaN</td>\n",
       "    </tr>\n",
       "    <tr>\n",
       "      <th>2</th>\n",
       "      <td>1486056169013661697</td>\n",
       "      <td>2022-01-25 19:19:34+00:00</td>\n",
       "      <td>Vlad_Mykhnenko</td>\n",
       "      <td>1068</td>\n",
       "      <td>Foreign exchange markets somehow are not betti...</td>\n",
       "      <td>Foreign exchange markets somehow are not betti...</td>\n",
       "      <td>['foreign', 'exchange', 'markets', 'somehow', ...</td>\n",
       "      <td>{'neg': 0.0, 'neu': 1.0, 'pos': 0.0, 'compound...</td>\n",
       "      <td>0.000</td>\n",
       "      <td>1.000</td>\n",
       "      <td>0.0</td>\n",
       "      <td>0.0000</td>\n",
       "      <td>1</td>\n",
       "      <td>0</td>\n",
       "      <td>0</td>\n",
       "      <td>0</td>\n",
       "      <td>['russianinvasion', 'ukrainewar']</td>\n",
       "      <td>en</td>\n",
       "      <td>[Photo(previewUrl='https://pbs.twimg.com/media...</td>\n",
       "      <td>NaN</td>\n",
       "    </tr>\n",
       "    <tr>\n",
       "      <th>3</th>\n",
       "      <td>1486019310069989376</td>\n",
       "      <td>2022-01-25 16:53:07+00:00</td>\n",
       "      <td>RaVe_74</td>\n",
       "      <td>5309</td>\n",
       "      <td>#borisjohnson's expertise in foreign affairs -...</td>\n",
       "      <td>#borisjohnson's expertise in foreign affairs -...</td>\n",
       "      <td>['expertise', 'foreign', 'affairs', 'trying', ...</td>\n",
       "      <td>{'neg': 0.215, 'neu': 0.785, 'pos': 0.0, 'comp...</td>\n",
       "      <td>0.215</td>\n",
       "      <td>0.785</td>\n",
       "      <td>0.0</td>\n",
       "      <td>-0.8172</td>\n",
       "      <td>3</td>\n",
       "      <td>1</td>\n",
       "      <td>0</td>\n",
       "      <td>0</td>\n",
       "      <td>['borisjohnson', 'freenazanin', 'BrexitShamble...</td>\n",
       "      <td>en</td>\n",
       "      <td>NaN</td>\n",
       "      <td>NaN</td>\n",
       "    </tr>\n",
       "    <tr>\n",
       "      <th>4</th>\n",
       "      <td>1485989417084985347</td>\n",
       "      <td>2022-01-25 14:54:20+00:00</td>\n",
       "      <td>miamicool</td>\n",
       "      <td>1035</td>\n",
       "      <td>Seems that #ukrainewar just became that \"line ...</td>\n",
       "      <td>Seems that #ukrainewar just became that \"line ...</td>\n",
       "      <td>['seems', 'became', 'line', 'sand', 'whole', '...</td>\n",
       "      <td>{'neg': 0.401, 'neu': 0.599, 'pos': 0.0, 'comp...</td>\n",
       "      <td>0.401</td>\n",
       "      <td>0.599</td>\n",
       "      <td>0.0</td>\n",
       "      <td>-0.9732</td>\n",
       "      <td>0</td>\n",
       "      <td>0</td>\n",
       "      <td>0</td>\n",
       "      <td>0</td>\n",
       "      <td>['ukrainewar']</td>\n",
       "      <td>en</td>\n",
       "      <td>NaN</td>\n",
       "      <td>NaN</td>\n",
       "    </tr>\n",
       "  </tbody>\n",
       "</table>\n",
       "</div>"
      ],
      "text/plain": [
       "                    id                       date            user  \\\n",
       "0  1486661338390831105  2022-01-27 11:24:18+00:00      WorldToBe1   \n",
       "1  1486105614803775490  2022-01-25 22:36:03+00:00        embeegle   \n",
       "2  1486056169013661697  2022-01-25 19:19:34+00:00  Vlad_Mykhnenko   \n",
       "3  1486019310069989376  2022-01-25 16:53:07+00:00         RaVe_74   \n",
       "4  1485989417084985347  2022-01-25 14:54:20+00:00       miamicool   \n",
       "\n",
       "   user_followers                                        raw_content  \\\n",
       "0           10769  #Russia-#Ukraine debate sparks fiery exchange ...   \n",
       "1            2246  Can you say pipeline?  A larger cut coming to ...   \n",
       "2            1068  Foreign exchange markets somehow are not betti...   \n",
       "3            5309  #borisjohnson's expertise in foreign affairs -...   \n",
       "4            1035  Seems that #ukrainewar just became that \"line ...   \n",
       "\n",
       "                                    rendered_content  \\\n",
       "0  #Russia-#Ukraine debate sparks fiery exchange ...   \n",
       "1  Can you say pipeline?  A larger cut coming to ...   \n",
       "2  Foreign exchange markets somehow are not betti...   \n",
       "3  #borisjohnson's expertise in foreign affairs -...   \n",
       "4  Seems that #ukrainewar just became that \"line ...   \n",
       "\n",
       "                                      Adjusted Tweet  \\\n",
       "0  ['debate', 'sparks', 'fiery', 'exchange', '201...   \n",
       "1  ['say', 'pipeline', 'larger', 'cut', 'coming',...   \n",
       "2  ['foreign', 'exchange', 'markets', 'somehow', ...   \n",
       "3  ['expertise', 'foreign', 'affairs', 'trying', ...   \n",
       "4  ['seems', 'became', 'line', 'sand', 'whole', '...   \n",
       "\n",
       "                                      Polarity Score  Negative Score  \\\n",
       "0  {'neg': 0.094, 'neu': 0.906, 'pos': 0.0, 'comp...           0.094   \n",
       "1  {'neg': 0.174, 'neu': 0.826, 'pos': 0.0, 'comp...           0.174   \n",
       "2  {'neg': 0.0, 'neu': 1.0, 'pos': 0.0, 'compound...           0.000   \n",
       "3  {'neg': 0.215, 'neu': 0.785, 'pos': 0.0, 'comp...           0.215   \n",
       "4  {'neg': 0.401, 'neu': 0.599, 'pos': 0.0, 'comp...           0.401   \n",
       "\n",
       "   Neutral Score  Positive Score  Compound Score  likes  retweets  replies  \\\n",
       "0          0.906             0.0         -0.3400      0         0        0   \n",
       "1          0.826             0.0         -0.2732      1         1        0   \n",
       "2          1.000             0.0          0.0000      1         0        0   \n",
       "3          0.785             0.0         -0.8172      3         1        0   \n",
       "4          0.599             0.0         -0.9732      0         0        0   \n",
       "\n",
       "   quoteCount                                           hashtags lang  \\\n",
       "0           0  ['Russia', 'Ukraine', 'CNN', 'USA', 'EU', 'NAT...   en   \n",
       "1           0                     ['PutinsPuppet', 'ukrainewar']   en   \n",
       "2           0                  ['russianinvasion', 'ukrainewar']   en   \n",
       "3           0  ['borisjohnson', 'freenazanin', 'BrexitShamble...   en   \n",
       "4           0                                     ['ukrainewar']   en   \n",
       "\n",
       "                                               media mentionedUsers  \n",
       "0                                                NaN            NaN  \n",
       "1                                                NaN            NaN  \n",
       "2  [Photo(previewUrl='https://pbs.twimg.com/media...            NaN  \n",
       "3                                                NaN            NaN  \n",
       "4                                                NaN            NaN  "
      ]
     },
     "execution_count": 22,
     "metadata": {},
     "output_type": "execute_result"
    }
   ],
   "source": [
    "df.head()"
   ]
  },
  {
   "cell_type": "markdown",
   "metadata": {},
   "source": [
    "# Topic modelling"
   ]
  },
  {
   "cell_type": "code",
   "execution_count": null,
   "metadata": {},
   "outputs": [],
   "source": [
    "from sklearn.feature_extraction.text import CountVectorizer\n",
    "\n",
    "# the vectorizer object will be used to transform text to vector form\n",
    "vectorizer = CountVectorizer(max_df=0.9, min_df=25, token_pattern='\\w+|\\$[\\d\\.]+|\\S+')\n",
    "\n",
    "# apply transformation\n",
    "tf = vectorizer.fit_transform(df['adjusted_tweet']).toarray()\n",
    "\n",
    "# tf_feature_names tells us what word each column in the matric represents\n",
    "tf_feature_names = vectorizer.get_feature_names()"
   ]
  }
 ],
 "metadata": {
  "interpreter": {
   "hash": "aee8b7b246df8f9039afb4144a1f6fd8d2ca17a180786b69acc140d282b71a49"
  },
  "kernelspec": {
   "display_name": "Python 3 (ipykernel)",
   "language": "python",
   "name": "python3"
  },
  "language_info": {
   "codemirror_mode": {
    "name": "ipython",
    "version": 3
   },
   "file_extension": ".py",
   "mimetype": "text/x-python",
   "name": "python",
   "nbconvert_exporter": "python",
   "pygments_lexer": "ipython3",
   "version": "3.9.12"
  }
 },
 "nbformat": 4,
 "nbformat_minor": 2
}
