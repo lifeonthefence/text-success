{
 "cells": [
  {
   "cell_type": "code",
   "execution_count": 25,
   "id": "fecdd020",
   "metadata": {},
   "outputs": [],
   "source": [
    "import pandas as pd\n",
    "import numpy as np\n",
    "from sklearn.model_selection import train_test_split"
   ]
  },
  {
   "cell_type": "code",
   "execution_count": 26,
   "id": "910a4de7",
   "metadata": {},
   "outputs": [],
   "source": [
    "path = '../Data/'\n",
    "datasets = ['Processed Dataset', 'Processed Dataset Doc Embeddings', 'Processed Dataset TF-IDF']"
   ]
  },
  {
   "cell_type": "code",
   "execution_count": 27,
   "id": "5e0d05d2",
   "metadata": {},
   "outputs": [
    {
     "name": "stdout",
     "output_type": "stream",
     "text": [
      "../Data/Processed Dataset\n",
      "46289\n",
      "11573\n",
      "../Data/Processed Dataset Doc Embeddings\n",
      "46289\n",
      "11573\n",
      "../Data/Processed Dataset TF-IDF\n",
      "46289\n",
      "11573\n"
     ]
    }
   ],
   "source": [
    "for name in datasets:\n",
    "    df = pd.read_csv(path + name + '.csv')\n",
    "    df_train, df_test = train_test_split(df, test_size = 0.2, random_state = 0)\n",
    "    print(path + name)\n",
    "    df_train.to_csv(path + name + ' Train', index = False)\n",
    "    df_test.to_csv(path + name + ' Test', index = False)"
   ]
  }
 ],
 "metadata": {
  "kernelspec": {
   "display_name": "Python 3 (ipykernel)",
   "language": "python",
   "name": "python3"
  },
  "language_info": {
   "codemirror_mode": {
    "name": "ipython",
    "version": 3
   },
   "file_extension": ".py",
   "mimetype": "text/x-python",
   "name": "python",
   "nbconvert_exporter": "python",
   "pygments_lexer": "ipython3",
   "version": "3.9.7"
  }
 },
 "nbformat": 4,
 "nbformat_minor": 5
}
