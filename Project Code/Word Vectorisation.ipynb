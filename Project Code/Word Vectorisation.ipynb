{
 "cells": [
  {
   "cell_type": "code",
   "execution_count": 94,
   "id": "91694055",
   "metadata": {},
   "outputs": [],
   "source": [
    "import pandas as pd\n",
    "import numpy as np"
   ]
  },
  {
   "cell_type": "code",
   "execution_count": 95,
   "id": "b0d5477a",
   "metadata": {},
   "outputs": [],
   "source": [
    "df = pd.read_csv(\"../Data/Processed Dataset.csv\")"
   ]
  },
  {
   "cell_type": "code",
   "execution_count": 96,
   "id": "6e7cf3bf",
   "metadata": {},
   "outputs": [
    {
     "data": {
      "text/plain": [
       "Index(['Unnamed: 0', 'id', 'date', 'hour of tweet', 'time of day',\n",
       "       'Early Morning Count', 'Morning Count', 'Noon Count', 'Eve Count',\n",
       "       'Night Count', 'Late Night Count', 'user', 'user_followers',\n",
       "       'Months Since Creation of Account', 'rendered_content',\n",
       "       'Adjusted Tweet', 'Negative Score', 'Neutral Score', 'Positive Score',\n",
       "       'Compound Score', 'Photo Count', 'Video Count', 'GIF Count',\n",
       "       'Polarity Score_textblob', 'Subjectivity Score_textblob', 'likes',\n",
       "       'retweets', 'replies', 'quoteCount', 'tweet_length', 'num_mentions',\n",
       "       'num_hashtags', 'num_urls'],\n",
       "      dtype='object')"
      ]
     },
     "execution_count": 96,
     "metadata": {},
     "output_type": "execute_result"
    }
   ],
   "source": [
    "df.columns"
   ]
  },
  {
   "cell_type": "markdown",
   "id": "8a159cc5",
   "metadata": {},
   "source": [
    "## TF-IDF Vectorisation"
   ]
  },
  {
   "cell_type": "code",
   "execution_count": 97,
   "id": "076ba376",
   "metadata": {},
   "outputs": [],
   "source": [
    "import ast\n",
    "df[\"Adjusted Tweet\"] = df[\"Adjusted Tweet\"].apply(ast.literal_eval)"
   ]
  },
  {
   "cell_type": "code",
   "execution_count": 27,
   "id": "362037a6",
   "metadata": {},
   "outputs": [],
   "source": [
    "from sklearn.feature_extraction.text import TfidfVectorizer\n",
    "def dummy(x):\n",
    "    return x\n",
    "\n",
    "vectorizer = TfidfVectorizer(max_df = 0.9, min_df = 50, lowercase = False, tokenizer = dummy)\n",
    "tf = vectorizer.fit_transform(df['Adjusted Tweet']).toarray()\n",
    "tf_feature_names = vectorizer.get_feature_names()"
   ]
  },
  {
   "cell_type": "code",
   "execution_count": 32,
   "id": "94d45f31",
   "metadata": {},
   "outputs": [],
   "source": [
    "df_tf_idf = pd.DataFrame(tf, columns = tf_feature_names)\n",
    "df_tf_idf[\"id\"] = df[\"id\"]"
   ]
  },
  {
   "cell_type": "code",
   "execution_count": 35,
   "id": "f8bcec95",
   "metadata": {},
   "outputs": [
    {
     "data": {
      "text/html": [
       "<div>\n",
       "<style scoped>\n",
       "    .dataframe tbody tr th:only-of-type {\n",
       "        vertical-align: middle;\n",
       "    }\n",
       "\n",
       "    .dataframe tbody tr th {\n",
       "        vertical-align: top;\n",
       "    }\n",
       "\n",
       "    .dataframe thead th {\n",
       "        text-align: right;\n",
       "    }\n",
       "</style>\n",
       "<table border=\"1\" class=\"dataframe\">\n",
       "  <thead>\n",
       "    <tr style=\"text-align: right;\">\n",
       "      <th></th>\n",
       "      <th>abandoned</th>\n",
       "      <th>ability</th>\n",
       "      <th>able</th>\n",
       "      <th>absolute</th>\n",
       "      <th>absolutely</th>\n",
       "      <th>accept</th>\n",
       "      <th>access</th>\n",
       "      <th>accident</th>\n",
       "      <th>according</th>\n",
       "      <th>account</th>\n",
       "      <th>...</th>\n",
       "      <th>—</th>\n",
       "      <th>‘</th>\n",
       "      <th>’</th>\n",
       "      <th>“</th>\n",
       "      <th>”</th>\n",
       "      <th>•</th>\n",
       "      <th>…</th>\n",
       "      <th>⁦⁩</th>\n",
       "      <th>乌克兰</th>\n",
       "      <th>俄罗斯</th>\n",
       "    </tr>\n",
       "  </thead>\n",
       "  <tbody>\n",
       "    <tr>\n",
       "      <th>0</th>\n",
       "      <td>0.0</td>\n",
       "      <td>0.0</td>\n",
       "      <td>0.0</td>\n",
       "      <td>0.0</td>\n",
       "      <td>0.0</td>\n",
       "      <td>0.0</td>\n",
       "      <td>0.0</td>\n",
       "      <td>0.0</td>\n",
       "      <td>0.0</td>\n",
       "      <td>0.0</td>\n",
       "      <td>...</td>\n",
       "      <td>0.0</td>\n",
       "      <td>0.0</td>\n",
       "      <td>0.0</td>\n",
       "      <td>0.0</td>\n",
       "      <td>0.0</td>\n",
       "      <td>0.0</td>\n",
       "      <td>0.0</td>\n",
       "      <td>0.0</td>\n",
       "      <td>0.0</td>\n",
       "      <td>0.0</td>\n",
       "    </tr>\n",
       "    <tr>\n",
       "      <th>1</th>\n",
       "      <td>0.0</td>\n",
       "      <td>0.0</td>\n",
       "      <td>0.0</td>\n",
       "      <td>0.0</td>\n",
       "      <td>0.0</td>\n",
       "      <td>0.0</td>\n",
       "      <td>0.0</td>\n",
       "      <td>0.0</td>\n",
       "      <td>0.0</td>\n",
       "      <td>0.0</td>\n",
       "      <td>...</td>\n",
       "      <td>0.0</td>\n",
       "      <td>0.0</td>\n",
       "      <td>0.0</td>\n",
       "      <td>0.0</td>\n",
       "      <td>0.0</td>\n",
       "      <td>0.0</td>\n",
       "      <td>0.0</td>\n",
       "      <td>0.0</td>\n",
       "      <td>0.0</td>\n",
       "      <td>0.0</td>\n",
       "    </tr>\n",
       "    <tr>\n",
       "      <th>2</th>\n",
       "      <td>0.0</td>\n",
       "      <td>0.0</td>\n",
       "      <td>0.0</td>\n",
       "      <td>0.0</td>\n",
       "      <td>0.0</td>\n",
       "      <td>0.0</td>\n",
       "      <td>0.0</td>\n",
       "      <td>0.0</td>\n",
       "      <td>0.0</td>\n",
       "      <td>0.0</td>\n",
       "      <td>...</td>\n",
       "      <td>0.0</td>\n",
       "      <td>0.0</td>\n",
       "      <td>0.0</td>\n",
       "      <td>0.0</td>\n",
       "      <td>0.0</td>\n",
       "      <td>0.0</td>\n",
       "      <td>0.0</td>\n",
       "      <td>0.0</td>\n",
       "      <td>0.0</td>\n",
       "      <td>0.0</td>\n",
       "    </tr>\n",
       "    <tr>\n",
       "      <th>3</th>\n",
       "      <td>0.0</td>\n",
       "      <td>0.0</td>\n",
       "      <td>0.0</td>\n",
       "      <td>0.0</td>\n",
       "      <td>0.0</td>\n",
       "      <td>0.0</td>\n",
       "      <td>0.0</td>\n",
       "      <td>0.0</td>\n",
       "      <td>0.0</td>\n",
       "      <td>0.0</td>\n",
       "      <td>...</td>\n",
       "      <td>0.0</td>\n",
       "      <td>0.0</td>\n",
       "      <td>0.0</td>\n",
       "      <td>0.0</td>\n",
       "      <td>0.0</td>\n",
       "      <td>0.0</td>\n",
       "      <td>0.0</td>\n",
       "      <td>0.0</td>\n",
       "      <td>0.0</td>\n",
       "      <td>0.0</td>\n",
       "    </tr>\n",
       "    <tr>\n",
       "      <th>4</th>\n",
       "      <td>0.0</td>\n",
       "      <td>0.0</td>\n",
       "      <td>0.0</td>\n",
       "      <td>0.0</td>\n",
       "      <td>0.0</td>\n",
       "      <td>0.0</td>\n",
       "      <td>0.0</td>\n",
       "      <td>0.0</td>\n",
       "      <td>0.0</td>\n",
       "      <td>0.0</td>\n",
       "      <td>...</td>\n",
       "      <td>0.0</td>\n",
       "      <td>0.0</td>\n",
       "      <td>0.0</td>\n",
       "      <td>0.0</td>\n",
       "      <td>0.0</td>\n",
       "      <td>0.0</td>\n",
       "      <td>0.0</td>\n",
       "      <td>0.0</td>\n",
       "      <td>0.0</td>\n",
       "      <td>0.0</td>\n",
       "    </tr>\n",
       "  </tbody>\n",
       "</table>\n",
       "<p>5 rows × 2146 columns</p>\n",
       "</div>"
      ],
      "text/plain": [
       "   abandoned  ability  able  absolute  absolutely  accept  access  accident  \\\n",
       "0        0.0      0.0   0.0       0.0         0.0     0.0     0.0       0.0   \n",
       "1        0.0      0.0   0.0       0.0         0.0     0.0     0.0       0.0   \n",
       "2        0.0      0.0   0.0       0.0         0.0     0.0     0.0       0.0   \n",
       "3        0.0      0.0   0.0       0.0         0.0     0.0     0.0       0.0   \n",
       "4        0.0      0.0   0.0       0.0         0.0     0.0     0.0       0.0   \n",
       "\n",
       "   according  account  ...    —    ‘    ’    “    ”    •    …   ⁦⁩  乌克兰  俄罗斯  \n",
       "0        0.0      0.0  ...  0.0  0.0  0.0  0.0  0.0  0.0  0.0  0.0  0.0  0.0  \n",
       "1        0.0      0.0  ...  0.0  0.0  0.0  0.0  0.0  0.0  0.0  0.0  0.0  0.0  \n",
       "2        0.0      0.0  ...  0.0  0.0  0.0  0.0  0.0  0.0  0.0  0.0  0.0  0.0  \n",
       "3        0.0      0.0  ...  0.0  0.0  0.0  0.0  0.0  0.0  0.0  0.0  0.0  0.0  \n",
       "4        0.0      0.0  ...  0.0  0.0  0.0  0.0  0.0  0.0  0.0  0.0  0.0  0.0  \n",
       "\n",
       "[5 rows x 2146 columns]"
      ]
     },
     "execution_count": 35,
     "metadata": {},
     "output_type": "execute_result"
    }
   ],
   "source": [
    "df_tf_idf.head()"
   ]
  },
  {
   "cell_type": "code",
   "execution_count": 142,
   "id": "d13756d1",
   "metadata": {
    "collapsed": true
   },
   "outputs": [
    {
     "data": {
      "text/html": [
       "<div>\n",
       "<style scoped>\n",
       "    .dataframe tbody tr th:only-of-type {\n",
       "        vertical-align: middle;\n",
       "    }\n",
       "\n",
       "    .dataframe tbody tr th {\n",
       "        vertical-align: top;\n",
       "    }\n",
       "\n",
       "    .dataframe thead th {\n",
       "        text-align: right;\n",
       "    }\n",
       "</style>\n",
       "<table border=\"1\" class=\"dataframe\">\n",
       "  <thead>\n",
       "    <tr style=\"text-align: right;\">\n",
       "      <th></th>\n",
       "      <th>Unnamed: 0</th>\n",
       "      <th>id</th>\n",
       "      <th>date_x</th>\n",
       "      <th>hour of tweet</th>\n",
       "      <th>time of day</th>\n",
       "      <th>Early Morning Count</th>\n",
       "      <th>Morning Count</th>\n",
       "      <th>Noon Count</th>\n",
       "      <th>Eve Count</th>\n",
       "      <th>Night Count</th>\n",
       "      <th>...</th>\n",
       "      <th>—</th>\n",
       "      <th>‘</th>\n",
       "      <th>’</th>\n",
       "      <th>“</th>\n",
       "      <th>”</th>\n",
       "      <th>•</th>\n",
       "      <th>…</th>\n",
       "      <th>⁦⁩</th>\n",
       "      <th>乌克兰</th>\n",
       "      <th>俄罗斯</th>\n",
       "    </tr>\n",
       "  </thead>\n",
       "  <tbody>\n",
       "    <tr>\n",
       "      <th>0</th>\n",
       "      <td>0</td>\n",
       "      <td>1477420789863436289</td>\n",
       "      <td>2022-01-01 23:25:40+00:00</td>\n",
       "      <td>23</td>\n",
       "      <td>Night</td>\n",
       "      <td>0</td>\n",
       "      <td>0</td>\n",
       "      <td>0</td>\n",
       "      <td>0</td>\n",
       "      <td>1</td>\n",
       "      <td>...</td>\n",
       "      <td>0.0</td>\n",
       "      <td>0.00000</td>\n",
       "      <td>0.000000</td>\n",
       "      <td>0.0</td>\n",
       "      <td>0.0</td>\n",
       "      <td>0.0</td>\n",
       "      <td>0.0</td>\n",
       "      <td>0.0</td>\n",
       "      <td>0.0</td>\n",
       "      <td>0.0</td>\n",
       "    </tr>\n",
       "    <tr>\n",
       "      <th>1</th>\n",
       "      <td>1</td>\n",
       "      <td>1477414596424220679</td>\n",
       "      <td>2022-01-01 23:01:03+00:00</td>\n",
       "      <td>23</td>\n",
       "      <td>Night</td>\n",
       "      <td>0</td>\n",
       "      <td>0</td>\n",
       "      <td>0</td>\n",
       "      <td>0</td>\n",
       "      <td>1</td>\n",
       "      <td>...</td>\n",
       "      <td>0.0</td>\n",
       "      <td>0.00000</td>\n",
       "      <td>0.000000</td>\n",
       "      <td>0.0</td>\n",
       "      <td>0.0</td>\n",
       "      <td>0.0</td>\n",
       "      <td>0.0</td>\n",
       "      <td>0.0</td>\n",
       "      <td>0.0</td>\n",
       "      <td>0.0</td>\n",
       "    </tr>\n",
       "    <tr>\n",
       "      <th>2</th>\n",
       "      <td>2</td>\n",
       "      <td>1477414332376010752</td>\n",
       "      <td>2022-01-01 23:00:00+00:00</td>\n",
       "      <td>23</td>\n",
       "      <td>Night</td>\n",
       "      <td>0</td>\n",
       "      <td>0</td>\n",
       "      <td>0</td>\n",
       "      <td>0</td>\n",
       "      <td>1</td>\n",
       "      <td>...</td>\n",
       "      <td>0.0</td>\n",
       "      <td>0.00000</td>\n",
       "      <td>0.000000</td>\n",
       "      <td>0.0</td>\n",
       "      <td>0.0</td>\n",
       "      <td>0.0</td>\n",
       "      <td>0.0</td>\n",
       "      <td>0.0</td>\n",
       "      <td>0.0</td>\n",
       "      <td>0.0</td>\n",
       "    </tr>\n",
       "    <tr>\n",
       "      <th>3</th>\n",
       "      <td>3</td>\n",
       "      <td>1477409748572151809</td>\n",
       "      <td>2022-01-01 22:41:47+00:00</td>\n",
       "      <td>22</td>\n",
       "      <td>Night</td>\n",
       "      <td>0</td>\n",
       "      <td>0</td>\n",
       "      <td>0</td>\n",
       "      <td>0</td>\n",
       "      <td>1</td>\n",
       "      <td>...</td>\n",
       "      <td>0.0</td>\n",
       "      <td>0.00000</td>\n",
       "      <td>0.000000</td>\n",
       "      <td>0.0</td>\n",
       "      <td>0.0</td>\n",
       "      <td>0.0</td>\n",
       "      <td>0.0</td>\n",
       "      <td>0.0</td>\n",
       "      <td>0.0</td>\n",
       "      <td>0.0</td>\n",
       "    </tr>\n",
       "    <tr>\n",
       "      <th>4</th>\n",
       "      <td>4</td>\n",
       "      <td>1477409332820119552</td>\n",
       "      <td>2022-01-01 22:40:08+00:00</td>\n",
       "      <td>22</td>\n",
       "      <td>Night</td>\n",
       "      <td>0</td>\n",
       "      <td>0</td>\n",
       "      <td>0</td>\n",
       "      <td>0</td>\n",
       "      <td>1</td>\n",
       "      <td>...</td>\n",
       "      <td>0.0</td>\n",
       "      <td>0.00000</td>\n",
       "      <td>0.000000</td>\n",
       "      <td>0.0</td>\n",
       "      <td>0.0</td>\n",
       "      <td>0.0</td>\n",
       "      <td>0.0</td>\n",
       "      <td>0.0</td>\n",
       "      <td>0.0</td>\n",
       "      <td>0.0</td>\n",
       "    </tr>\n",
       "    <tr>\n",
       "      <th>...</th>\n",
       "      <td>...</td>\n",
       "      <td>...</td>\n",
       "      <td>...</td>\n",
       "      <td>...</td>\n",
       "      <td>...</td>\n",
       "      <td>...</td>\n",
       "      <td>...</td>\n",
       "      <td>...</td>\n",
       "      <td>...</td>\n",
       "      <td>...</td>\n",
       "      <td>...</td>\n",
       "      <td>...</td>\n",
       "      <td>...</td>\n",
       "      <td>...</td>\n",
       "      <td>...</td>\n",
       "      <td>...</td>\n",
       "      <td>...</td>\n",
       "      <td>...</td>\n",
       "      <td>...</td>\n",
       "      <td>...</td>\n",
       "      <td>...</td>\n",
       "    </tr>\n",
       "    <tr>\n",
       "      <th>57857</th>\n",
       "      <td>60128</td>\n",
       "      <td>1609034657231675393</td>\n",
       "      <td>2022-12-31 03:52:11+00:00</td>\n",
       "      <td>3</td>\n",
       "      <td>Late Night</td>\n",
       "      <td>0</td>\n",
       "      <td>0</td>\n",
       "      <td>0</td>\n",
       "      <td>0</td>\n",
       "      <td>0</td>\n",
       "      <td>...</td>\n",
       "      <td>0.0</td>\n",
       "      <td>0.00000</td>\n",
       "      <td>0.000000</td>\n",
       "      <td>0.0</td>\n",
       "      <td>0.0</td>\n",
       "      <td>0.0</td>\n",
       "      <td>0.0</td>\n",
       "      <td>0.0</td>\n",
       "      <td>0.0</td>\n",
       "      <td>0.0</td>\n",
       "    </tr>\n",
       "    <tr>\n",
       "      <th>57858</th>\n",
       "      <td>60129</td>\n",
       "      <td>1609032640664838145</td>\n",
       "      <td>2022-12-31 03:44:10+00:00</td>\n",
       "      <td>3</td>\n",
       "      <td>Late Night</td>\n",
       "      <td>0</td>\n",
       "      <td>0</td>\n",
       "      <td>0</td>\n",
       "      <td>0</td>\n",
       "      <td>0</td>\n",
       "      <td>...</td>\n",
       "      <td>0.0</td>\n",
       "      <td>0.00000</td>\n",
       "      <td>0.000000</td>\n",
       "      <td>0.0</td>\n",
       "      <td>0.0</td>\n",
       "      <td>0.0</td>\n",
       "      <td>0.0</td>\n",
       "      <td>0.0</td>\n",
       "      <td>0.0</td>\n",
       "      <td>0.0</td>\n",
       "    </tr>\n",
       "    <tr>\n",
       "      <th>57859</th>\n",
       "      <td>60130</td>\n",
       "      <td>1609025141333438465</td>\n",
       "      <td>2022-12-31 03:14:22+00:00</td>\n",
       "      <td>3</td>\n",
       "      <td>Late Night</td>\n",
       "      <td>0</td>\n",
       "      <td>0</td>\n",
       "      <td>0</td>\n",
       "      <td>0</td>\n",
       "      <td>0</td>\n",
       "      <td>...</td>\n",
       "      <td>0.0</td>\n",
       "      <td>0.30033</td>\n",
       "      <td>0.377849</td>\n",
       "      <td>0.0</td>\n",
       "      <td>0.0</td>\n",
       "      <td>0.0</td>\n",
       "      <td>0.0</td>\n",
       "      <td>0.0</td>\n",
       "      <td>0.0</td>\n",
       "      <td>0.0</td>\n",
       "    </tr>\n",
       "    <tr>\n",
       "      <th>57860</th>\n",
       "      <td>60131</td>\n",
       "      <td>1609020670486405121</td>\n",
       "      <td>2022-12-31 02:56:36+00:00</td>\n",
       "      <td>2</td>\n",
       "      <td>Late Night</td>\n",
       "      <td>0</td>\n",
       "      <td>0</td>\n",
       "      <td>0</td>\n",
       "      <td>0</td>\n",
       "      <td>0</td>\n",
       "      <td>...</td>\n",
       "      <td>0.0</td>\n",
       "      <td>0.00000</td>\n",
       "      <td>0.000000</td>\n",
       "      <td>0.0</td>\n",
       "      <td>0.0</td>\n",
       "      <td>0.0</td>\n",
       "      <td>0.0</td>\n",
       "      <td>0.0</td>\n",
       "      <td>0.0</td>\n",
       "      <td>0.0</td>\n",
       "    </tr>\n",
       "    <tr>\n",
       "      <th>57861</th>\n",
       "      <td>60132</td>\n",
       "      <td>1609017379853410304</td>\n",
       "      <td>2022-12-31 02:43:32+00:00</td>\n",
       "      <td>2</td>\n",
       "      <td>Late Night</td>\n",
       "      <td>0</td>\n",
       "      <td>0</td>\n",
       "      <td>0</td>\n",
       "      <td>0</td>\n",
       "      <td>0</td>\n",
       "      <td>...</td>\n",
       "      <td>0.0</td>\n",
       "      <td>0.00000</td>\n",
       "      <td>0.000000</td>\n",
       "      <td>0.0</td>\n",
       "      <td>0.0</td>\n",
       "      <td>0.0</td>\n",
       "      <td>0.0</td>\n",
       "      <td>0.0</td>\n",
       "      <td>0.0</td>\n",
       "      <td>0.0</td>\n",
       "    </tr>\n",
       "  </tbody>\n",
       "</table>\n",
       "<p>57862 rows × 2178 columns</p>\n",
       "</div>"
      ],
      "text/plain": [
       "       Unnamed: 0                   id                     date_x  \\\n",
       "0               0  1477420789863436289  2022-01-01 23:25:40+00:00   \n",
       "1               1  1477414596424220679  2022-01-01 23:01:03+00:00   \n",
       "2               2  1477414332376010752  2022-01-01 23:00:00+00:00   \n",
       "3               3  1477409748572151809  2022-01-01 22:41:47+00:00   \n",
       "4               4  1477409332820119552  2022-01-01 22:40:08+00:00   \n",
       "...           ...                  ...                        ...   \n",
       "57857       60128  1609034657231675393  2022-12-31 03:52:11+00:00   \n",
       "57858       60129  1609032640664838145  2022-12-31 03:44:10+00:00   \n",
       "57859       60130  1609025141333438465  2022-12-31 03:14:22+00:00   \n",
       "57860       60131  1609020670486405121  2022-12-31 02:56:36+00:00   \n",
       "57861       60132  1609017379853410304  2022-12-31 02:43:32+00:00   \n",
       "\n",
       "       hour of tweet time of day  Early Morning Count  Morning Count  \\\n",
       "0                 23       Night                    0              0   \n",
       "1                 23       Night                    0              0   \n",
       "2                 23       Night                    0              0   \n",
       "3                 22       Night                    0              0   \n",
       "4                 22       Night                    0              0   \n",
       "...              ...         ...                  ...            ...   \n",
       "57857              3  Late Night                    0              0   \n",
       "57858              3  Late Night                    0              0   \n",
       "57859              3  Late Night                    0              0   \n",
       "57860              2  Late Night                    0              0   \n",
       "57861              2  Late Night                    0              0   \n",
       "\n",
       "       Noon Count  Eve Count  Night Count  ...    —        ‘         ’    “  \\\n",
       "0               0          0            1  ...  0.0  0.00000  0.000000  0.0   \n",
       "1               0          0            1  ...  0.0  0.00000  0.000000  0.0   \n",
       "2               0          0            1  ...  0.0  0.00000  0.000000  0.0   \n",
       "3               0          0            1  ...  0.0  0.00000  0.000000  0.0   \n",
       "4               0          0            1  ...  0.0  0.00000  0.000000  0.0   \n",
       "...           ...        ...          ...  ...  ...      ...       ...  ...   \n",
       "57857           0          0            0  ...  0.0  0.00000  0.000000  0.0   \n",
       "57858           0          0            0  ...  0.0  0.00000  0.000000  0.0   \n",
       "57859           0          0            0  ...  0.0  0.30033  0.377849  0.0   \n",
       "57860           0          0            0  ...  0.0  0.00000  0.000000  0.0   \n",
       "57861           0          0            0  ...  0.0  0.00000  0.000000  0.0   \n",
       "\n",
       "         ”    •    …   ⁦⁩  乌克兰  俄罗斯  \n",
       "0      0.0  0.0  0.0  0.0  0.0  0.0  \n",
       "1      0.0  0.0  0.0  0.0  0.0  0.0  \n",
       "2      0.0  0.0  0.0  0.0  0.0  0.0  \n",
       "3      0.0  0.0  0.0  0.0  0.0  0.0  \n",
       "4      0.0  0.0  0.0  0.0  0.0  0.0  \n",
       "...    ...  ...  ...  ...  ...  ...  \n",
       "57857  0.0  0.0  0.0  0.0  0.0  0.0  \n",
       "57858  0.0  0.0  0.0  0.0  0.0  0.0  \n",
       "57859  0.0  0.0  0.0  0.0  0.0  0.0  \n",
       "57860  0.0  0.0  0.0  0.0  0.0  0.0  \n",
       "57861  0.0  0.0  0.0  0.0  0.0  0.0  \n",
       "\n",
       "[57862 rows x 2178 columns]"
      ]
     },
     "execution_count": 142,
     "metadata": {},
     "output_type": "execute_result"
    }
   ],
   "source": [
    "df_tfidf_merged = pd.merge(df, df_tf_idf, on = \"id\")"
   ]
  },
  {
   "cell_type": "code",
   "execution_count": 145,
   "id": "2a73d511",
   "metadata": {},
   "outputs": [],
   "source": [
    "df_tfidf_merged.drop(columns=df_tfidf_merged.columns[0], axis=1, inplace = True)"
   ]
  },
  {
   "cell_type": "code",
   "execution_count": 147,
   "id": "5cddfde4",
   "metadata": {},
   "outputs": [],
   "source": [
    "df_tfidf_merged.to_csv('../Data/Processed Dataset TF-IDF.csv', index = False)"
   ]
  },
  {
   "cell_type": "markdown",
   "id": "147708de",
   "metadata": {},
   "source": [
    "## Word2vec"
   ]
  },
  {
   "cell_type": "code",
   "execution_count": 333,
   "id": "4f362ad0",
   "metadata": {},
   "outputs": [],
   "source": [
    "from gensim.models import Word2Vec"
   ]
  },
  {
   "cell_type": "code",
   "execution_count": 334,
   "id": "59e9c15a",
   "metadata": {},
   "outputs": [
    {
     "data": {
      "text/plain": [
       "array([list(['lithuania', 'never', 'abandon', 'ukraine', 'volunteer', 'helping', 'ukrainian', 'army', 'say', 'euromaidanpresscomlit…']),\n",
       "       list(['одесса', '°c', 'today', 'min', '°c', 'today', 'max', '°c', 'month', 'min', '°c', 'month', 'max', '°c']),\n",
       "       list(['tough', 'talk', 'president', 'joe', 'biden', 'vladimir', 'putin', 'troop', 'buildup', 'border', 'side', 'insist', 'hopeful', 'pathway', 'easing', 'tension', 'could', 'open', 'diplomatic', 'talk', 'set', 'january', 'englishalarabiyanetnewsworld…']),\n",
       "       ...,\n",
       "       list(['alexander', 'mercouri', 'comment', 'ray', 'mcgovern', '’', '‘', 'biden', 'reneged', '–', 'russian', 'army', 'talk', '’', 'antiwarcomblog…']),\n",
       "       list(['nice', 'overview', 'capability', 'bradley', 'ifvs', 'may', 'going']),\n",
       "       list(['vasyl', 'malyuk', 'head', 'sbu', 'secret', 'police', 'say', 'bombing', 'ethnic', 'cleansing', 'continue'])],\n",
       "      dtype=object)"
      ]
     },
     "execution_count": 334,
     "metadata": {},
     "output_type": "execute_result"
    }
   ],
   "source": [
    "corpus = df[\"Adjusted Tweet\"].to_numpy()\n",
    "corpus"
   ]
  },
  {
   "cell_type": "code",
   "execution_count": 335,
   "id": "53b990ef",
   "metadata": {},
   "outputs": [],
   "source": [
    "model = Word2Vec(min_count = 50)\n",
    "model.build_vocab(corpus)"
   ]
  },
  {
   "cell_type": "code",
   "execution_count": 358,
   "id": "b8216462",
   "metadata": {},
   "outputs": [],
   "source": [
    "# idea: replace words not in the vocabulary with an unknown word token and train with it\n",
    "# due to some tweets only containing 'unique' words, so do not have a document embedding\n",
    "def unknowns(doc):\n",
    "    unknown_token = \"xxunkxx\"\n",
    "    l = [word if word in model.wv.key_to_index else unknown_token for word in doc]\n",
    "    if not l:\n",
    "        l = [unknown_token]\n",
    "    return l"
   ]
  },
  {
   "cell_type": "code",
   "execution_count": 359,
   "id": "30143879",
   "metadata": {},
   "outputs": [],
   "source": [
    "df[\"Adjusted Unknowns\"] = df[\"Adjusted Tweet\"].apply(unknowns)\n",
    "corpus_unk = df[\"Adjusted Unknowns\"].to_numpy()"
   ]
  },
  {
   "cell_type": "code",
   "execution_count": 360,
   "id": "807e0f97",
   "metadata": {},
   "outputs": [
    {
     "data": {
      "text/plain": [
       "(2431359, 3520135)"
      ]
     },
     "execution_count": 360,
     "metadata": {},
     "output_type": "execute_result"
    }
   ],
   "source": [
    "model = Word2Vec(min_count = 50)\n",
    "model.build_vocab(corpus_unk) #use new corpus to train\n",
    "model.train(corpus_unk, total_examples = model.corpus_count, epochs = 5)"
   ]
  },
  {
   "cell_type": "code",
   "execution_count": 361,
   "id": "ba03663e",
   "metadata": {},
   "outputs": [
    {
     "data": {
      "text/plain": [
       "2195"
      ]
     },
     "execution_count": 361,
     "metadata": {},
     "output_type": "execute_result"
    }
   ],
   "source": [
    "embeddings = model.wv\n",
    "len(embeddings.key_to_index)"
   ]
  },
  {
   "cell_type": "code",
   "execution_count": 362,
   "id": "13a93ee8",
   "metadata": {
    "scrolled": true
   },
   "outputs": [
    {
     "data": {
      "text/plain": [
       "[('kremlin', 0.710456132888794),\n",
       " ('dictator', 0.7103002071380615),\n",
       " ('invade', 0.6870953440666199),\n",
       " ('ewch', 0.657461941242218),\n",
       " ('hun', 0.6544322371482849),\n",
       " ('eich', 0.6510521173477173),\n",
       " ('hitler', 0.6476453542709351),\n",
       " ('fuck', 0.6449313163757324),\n",
       " ('negotiate', 0.6365291476249695),\n",
       " ('welsh', 0.6246392726898193)]"
      ]
     },
     "execution_count": 362,
     "metadata": {},
     "output_type": "execute_result"
    }
   ],
   "source": [
    "embeddings.similar_by_word(\"putin\")"
   ]
  },
  {
   "cell_type": "code",
   "execution_count": 363,
   "id": "ab7d6ccf",
   "metadata": {},
   "outputs": [],
   "source": [
    "def doc_vector(doc):\n",
    "    l = pd.Series([word for word in doc if word in embeddings.index_to_key], dtype = 'object')\n",
    "    l = l.apply(embeddings.get_vector)\n",
    "    return np.mean(l, axis = 0)"
   ]
  },
  {
   "cell_type": "code",
   "execution_count": 364,
   "id": "0a849013",
   "metadata": {
    "scrolled": true
   },
   "outputs": [],
   "source": [
    "df[\"Doc Embedding\"] = df[\"Adjusted Unknowns\"].apply(doc_vector)"
   ]
  },
  {
   "cell_type": "code",
   "execution_count": 365,
   "id": "7ab63d6f",
   "metadata": {},
   "outputs": [
    {
     "data": {
      "text/plain": [
       "0"
      ]
     },
     "execution_count": 365,
     "metadata": {},
     "output_type": "execute_result"
    }
   ],
   "source": [
    "df[\"Doc Embedding\"].isnull().sum()"
   ]
  },
  {
   "cell_type": "code",
   "execution_count": 252,
   "id": "cbe4dda9",
   "metadata": {},
   "outputs": [],
   "source": [
    "def cosine_similarity(x, y):\n",
    "    \n",
    "    # Ensure length of x and y are the same\n",
    "    if len(x) != len(y) :\n",
    "        return None\n",
    "    \n",
    "    # Compute the dot product between x and y\n",
    "    dot_product = np.dot(x, y)\n",
    "    \n",
    "    # Compute the L2 norms (magnitudes) of x and y\n",
    "    magnitude_x = np.sqrt(np.sum(x**2)) \n",
    "    magnitude_y = np.sqrt(np.sum(y**2))\n",
    "    \n",
    "    # Compute the cosine similarity\n",
    "    cosine_similarity = dot_product / (magnitude_x * magnitude_y)\n",
    "    \n",
    "    return cosine_similarity"
   ]
  },
  {
   "cell_type": "code",
   "execution_count": 390,
   "id": "e4b07148",
   "metadata": {},
   "outputs": [
    {
     "data": {
      "text/plain": [
       "0.8487113"
      ]
     },
     "execution_count": 390,
     "metadata": {},
     "output_type": "execute_result"
    }
   ],
   "source": [
    "cosine_similarity(df[\"Doc Embedding\"][0], df[\"Doc Embedding\"][4])"
   ]
  },
  {
   "cell_type": "code",
   "execution_count": 392,
   "id": "921ef463",
   "metadata": {},
   "outputs": [
    {
     "data": {
      "text/plain": [
       "0        [0.07805834, -0.014588691, 0.23392269, -0.0254...\n",
       "1        [-0.63960946, -0.40524504, 0.3918164, 1.893061...\n",
       "2        [-0.09184782, 0.051768374, 0.052514933, -0.015...\n",
       "3        [-0.14544497, 0.08404495, 0.1817135, 0.4127910...\n",
       "4        [0.19009611, -0.016301323, -0.0039494424, -0.2...\n",
       "                               ...                        \n",
       "57857    [-0.030207878, 0.029063975, -0.10970798, -0.23...\n",
       "57858    [-0.048660904, 0.08426859, 0.1635136, 0.131736...\n",
       "57859    [-0.18216607, 0.34529832, -0.013518377, -0.012...\n",
       "57860    [-0.3110763, -0.023656292, 0.32520217, 0.35736...\n",
       "57861    [0.08834591, -0.01041126, 0.0058961418, -0.173...\n",
       "Name: Doc Embedding, Length: 57862, dtype: object"
      ]
     },
     "execution_count": 392,
     "metadata": {},
     "output_type": "execute_result"
    }
   ],
   "source": [
    "df[\"Doc Embedding\"]"
   ]
  }
 ],
 "metadata": {
  "kernelspec": {
   "display_name": "Python 3 (ipykernel)",
   "language": "python",
   "name": "python3"
  },
  "language_info": {
   "codemirror_mode": {
    "name": "ipython",
    "version": 3
   },
   "file_extension": ".py",
   "mimetype": "text/x-python",
   "name": "python",
   "nbconvert_exporter": "python",
   "pygments_lexer": "ipython3",
   "version": "3.9.7"
  }
 },
 "nbformat": 4,
 "nbformat_minor": 5
}
