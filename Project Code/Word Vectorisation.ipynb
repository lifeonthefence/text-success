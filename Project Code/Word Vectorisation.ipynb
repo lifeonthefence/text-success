{
 "cells": [
  {
   "cell_type": "code",
   "execution_count": 1,
   "id": "1c4685fd",
   "metadata": {},
   "outputs": [],
   "source": [
    "import pandas as pd\n",
    "df = pd.read_csv(\"../Data/Processed Dataset.csv\")"
   ]
  },
  {
   "cell_type": "code",
   "execution_count": 39,
   "id": "0040894a",
   "metadata": {},
   "outputs": [
    {
     "data": {
      "text/plain": [
       "Index(['Unnamed: 0', 'id', 'date', 'hour of tweet', 'time of day',\n",
       "       'Early Morning Count', 'Morning Count', 'Noon Count', 'Eve Count',\n",
       "       'Night Count', 'Late Night Count', 'user', 'user_followers',\n",
       "       'Months Since Creation of Account', 'rendered_content',\n",
       "       'Adjusted Tweet', 'Negative Score', 'Neutral Score', 'Positive Score',\n",
       "       'Compound Score', 'Photo Count', 'Video Count', 'GIF Count',\n",
       "       'Polarity Score_textblob', 'Subjectivity Score_textblob', 'likes',\n",
       "       'retweets', 'replies', 'quoteCount', 'tweet_length', 'num_mentions',\n",
       "       'num_hashtags', 'num_urls'],\n",
       "      dtype='object')"
      ]
     },
     "execution_count": 39,
     "metadata": {},
     "output_type": "execute_result"
    }
   ],
   "source": [
    "df.columns"
   ]
  },
  {
   "cell_type": "markdown",
   "id": "a9d65174",
   "metadata": {},
   "source": [
    "## TF-IDF Vectorisation"
   ]
  },
  {
   "cell_type": "code",
   "execution_count": 3,
   "id": "5ab6b308",
   "metadata": {},
   "outputs": [],
   "source": [
    "import ast\n",
    "df[\"Adjusted Tweet\"] = df[\"Adjusted Tweet\"].apply(ast.literal_eval)"
   ]
  },
  {
   "cell_type": "code",
   "execution_count": 27,
   "id": "4344f16a",
   "metadata": {},
   "outputs": [],
   "source": [
    "from sklearn.feature_extraction.text import TfidfVectorizer\n",
    "def dummy(x):\n",
    "    return x\n",
    "\n",
    "vectorizer = TfidfVectorizer(max_df = 0.9, min_df = 50, lowercase = False, tokenizer = dummy)\n",
    "tf = vectorizer.fit_transform(df['Adjusted Tweet']).toarray()\n",
    "tf_feature_names = vectorizer.get_feature_names()"
   ]
  },
  {
   "cell_type": "code",
   "execution_count": 32,
   "id": "c5b96153",
   "metadata": {},
   "outputs": [],
   "source": [
    "df_tf_idf = pd.DataFrame(tf, columns = tf_feature_names)\n",
    "df_tf_idf[\"id\"] = df[\"id\"]"
   ]
  },
  {
   "cell_type": "code",
   "execution_count": 35,
   "id": "e8edefe5",
   "metadata": {},
   "outputs": [
    {
     "data": {
      "text/html": [
       "<div>\n",
       "<style scoped>\n",
       "    .dataframe tbody tr th:only-of-type {\n",
       "        vertical-align: middle;\n",
       "    }\n",
       "\n",
       "    .dataframe tbody tr th {\n",
       "        vertical-align: top;\n",
       "    }\n",
       "\n",
       "    .dataframe thead th {\n",
       "        text-align: right;\n",
       "    }\n",
       "</style>\n",
       "<table border=\"1\" class=\"dataframe\">\n",
       "  <thead>\n",
       "    <tr style=\"text-align: right;\">\n",
       "      <th></th>\n",
       "      <th>abandoned</th>\n",
       "      <th>ability</th>\n",
       "      <th>able</th>\n",
       "      <th>absolute</th>\n",
       "      <th>absolutely</th>\n",
       "      <th>accept</th>\n",
       "      <th>access</th>\n",
       "      <th>accident</th>\n",
       "      <th>according</th>\n",
       "      <th>account</th>\n",
       "      <th>...</th>\n",
       "      <th>—</th>\n",
       "      <th>‘</th>\n",
       "      <th>’</th>\n",
       "      <th>“</th>\n",
       "      <th>”</th>\n",
       "      <th>•</th>\n",
       "      <th>…</th>\n",
       "      <th>⁦⁩</th>\n",
       "      <th>乌克兰</th>\n",
       "      <th>俄罗斯</th>\n",
       "    </tr>\n",
       "  </thead>\n",
       "  <tbody>\n",
       "    <tr>\n",
       "      <th>0</th>\n",
       "      <td>0.0</td>\n",
       "      <td>0.0</td>\n",
       "      <td>0.0</td>\n",
       "      <td>0.0</td>\n",
       "      <td>0.0</td>\n",
       "      <td>0.0</td>\n",
       "      <td>0.0</td>\n",
       "      <td>0.0</td>\n",
       "      <td>0.0</td>\n",
       "      <td>0.0</td>\n",
       "      <td>...</td>\n",
       "      <td>0.0</td>\n",
       "      <td>0.0</td>\n",
       "      <td>0.0</td>\n",
       "      <td>0.0</td>\n",
       "      <td>0.0</td>\n",
       "      <td>0.0</td>\n",
       "      <td>0.0</td>\n",
       "      <td>0.0</td>\n",
       "      <td>0.0</td>\n",
       "      <td>0.0</td>\n",
       "    </tr>\n",
       "    <tr>\n",
       "      <th>1</th>\n",
       "      <td>0.0</td>\n",
       "      <td>0.0</td>\n",
       "      <td>0.0</td>\n",
       "      <td>0.0</td>\n",
       "      <td>0.0</td>\n",
       "      <td>0.0</td>\n",
       "      <td>0.0</td>\n",
       "      <td>0.0</td>\n",
       "      <td>0.0</td>\n",
       "      <td>0.0</td>\n",
       "      <td>...</td>\n",
       "      <td>0.0</td>\n",
       "      <td>0.0</td>\n",
       "      <td>0.0</td>\n",
       "      <td>0.0</td>\n",
       "      <td>0.0</td>\n",
       "      <td>0.0</td>\n",
       "      <td>0.0</td>\n",
       "      <td>0.0</td>\n",
       "      <td>0.0</td>\n",
       "      <td>0.0</td>\n",
       "    </tr>\n",
       "    <tr>\n",
       "      <th>2</th>\n",
       "      <td>0.0</td>\n",
       "      <td>0.0</td>\n",
       "      <td>0.0</td>\n",
       "      <td>0.0</td>\n",
       "      <td>0.0</td>\n",
       "      <td>0.0</td>\n",
       "      <td>0.0</td>\n",
       "      <td>0.0</td>\n",
       "      <td>0.0</td>\n",
       "      <td>0.0</td>\n",
       "      <td>...</td>\n",
       "      <td>0.0</td>\n",
       "      <td>0.0</td>\n",
       "      <td>0.0</td>\n",
       "      <td>0.0</td>\n",
       "      <td>0.0</td>\n",
       "      <td>0.0</td>\n",
       "      <td>0.0</td>\n",
       "      <td>0.0</td>\n",
       "      <td>0.0</td>\n",
       "      <td>0.0</td>\n",
       "    </tr>\n",
       "    <tr>\n",
       "      <th>3</th>\n",
       "      <td>0.0</td>\n",
       "      <td>0.0</td>\n",
       "      <td>0.0</td>\n",
       "      <td>0.0</td>\n",
       "      <td>0.0</td>\n",
       "      <td>0.0</td>\n",
       "      <td>0.0</td>\n",
       "      <td>0.0</td>\n",
       "      <td>0.0</td>\n",
       "      <td>0.0</td>\n",
       "      <td>...</td>\n",
       "      <td>0.0</td>\n",
       "      <td>0.0</td>\n",
       "      <td>0.0</td>\n",
       "      <td>0.0</td>\n",
       "      <td>0.0</td>\n",
       "      <td>0.0</td>\n",
       "      <td>0.0</td>\n",
       "      <td>0.0</td>\n",
       "      <td>0.0</td>\n",
       "      <td>0.0</td>\n",
       "    </tr>\n",
       "    <tr>\n",
       "      <th>4</th>\n",
       "      <td>0.0</td>\n",
       "      <td>0.0</td>\n",
       "      <td>0.0</td>\n",
       "      <td>0.0</td>\n",
       "      <td>0.0</td>\n",
       "      <td>0.0</td>\n",
       "      <td>0.0</td>\n",
       "      <td>0.0</td>\n",
       "      <td>0.0</td>\n",
       "      <td>0.0</td>\n",
       "      <td>...</td>\n",
       "      <td>0.0</td>\n",
       "      <td>0.0</td>\n",
       "      <td>0.0</td>\n",
       "      <td>0.0</td>\n",
       "      <td>0.0</td>\n",
       "      <td>0.0</td>\n",
       "      <td>0.0</td>\n",
       "      <td>0.0</td>\n",
       "      <td>0.0</td>\n",
       "      <td>0.0</td>\n",
       "    </tr>\n",
       "  </tbody>\n",
       "</table>\n",
       "<p>5 rows × 2146 columns</p>\n",
       "</div>"
      ],
      "text/plain": [
       "   abandoned  ability  able  absolute  absolutely  accept  access  accident  \\\n",
       "0        0.0      0.0   0.0       0.0         0.0     0.0     0.0       0.0   \n",
       "1        0.0      0.0   0.0       0.0         0.0     0.0     0.0       0.0   \n",
       "2        0.0      0.0   0.0       0.0         0.0     0.0     0.0       0.0   \n",
       "3        0.0      0.0   0.0       0.0         0.0     0.0     0.0       0.0   \n",
       "4        0.0      0.0   0.0       0.0         0.0     0.0     0.0       0.0   \n",
       "\n",
       "   according  account  ...    —    ‘    ’    “    ”    •    …   ⁦⁩  乌克兰  俄罗斯  \n",
       "0        0.0      0.0  ...  0.0  0.0  0.0  0.0  0.0  0.0  0.0  0.0  0.0  0.0  \n",
       "1        0.0      0.0  ...  0.0  0.0  0.0  0.0  0.0  0.0  0.0  0.0  0.0  0.0  \n",
       "2        0.0      0.0  ...  0.0  0.0  0.0  0.0  0.0  0.0  0.0  0.0  0.0  0.0  \n",
       "3        0.0      0.0  ...  0.0  0.0  0.0  0.0  0.0  0.0  0.0  0.0  0.0  0.0  \n",
       "4        0.0      0.0  ...  0.0  0.0  0.0  0.0  0.0  0.0  0.0  0.0  0.0  0.0  \n",
       "\n",
       "[5 rows x 2146 columns]"
      ]
     },
     "execution_count": 35,
     "metadata": {},
     "output_type": "execute_result"
    }
   ],
   "source": [
    "df_tf_idf.head()"
   ]
  },
  {
   "cell_type": "code",
   "execution_count": 36,
   "id": "23c47398",
   "metadata": {},
   "outputs": [],
   "source": [
    "df_tfidf_merged = pd.merge(df, df_tf_idf, on = \"id\")\n",
    "df_tfidf_merged"
   ]
  },
  {
   "cell_type": "markdown",
   "id": "7c8d248f",
   "metadata": {},
   "source": [
    "## Word2vec"
   ]
  },
  {
   "cell_type": "code",
   "execution_count": 61,
   "id": "c8425ee6",
   "metadata": {},
   "outputs": [],
   "source": [
    "from gensim.models import Word2Vec"
   ]
  },
  {
   "cell_type": "code",
   "execution_count": 65,
   "id": "191117c3",
   "metadata": {},
   "outputs": [],
   "source": [
    "model = Word2Vec(df[\"Adjusted Tweet\"], min_count=1)"
   ]
  },
  {
   "cell_type": "code",
   "execution_count": 66,
   "id": "78583914",
   "metadata": {},
   "outputs": [
    {
     "data": {
      "text/plain": [
       "0        ['lithuania', 'never', 'abandon', 'ukraine', '...\n",
       "1        ['одесса', '°c', 'today', 'min', '°c', 'today'...\n",
       "2        ['tough', 'talk', 'president', 'joe', 'biden',...\n",
       "3        ['beach', 'nice', 'fall', 'smilingfacewithsmil...\n",
       "4        ['note', 'stepan', 'dob', 'leader', 'organizat...\n",
       "                               ...                        \n",
       "57857    ['announces', 'strengthen', 'armed', '–', 'hap...\n",
       "57858    ['living', 'govt', 'bomb', 'neighbouring', 'co...\n",
       "57859    ['alexander', 'mercouri', 'comment', 'ray', 'm...\n",
       "57860    ['nice', 'overview', 'capability', 'bradley', ...\n",
       "57861    ['vasyl', 'malyuk', 'head', 'sbu', 'secret', '...\n",
       "Name: Adjusted Tweet, Length: 57862, dtype: object"
      ]
     },
     "execution_count": 66,
     "metadata": {},
     "output_type": "execute_result"
    }
   ],
   "source": [
    "df[\"Adjusted Tweet\"]"
   ]
  },
  {
   "cell_type": "code",
   "execution_count": 69,
   "id": "3ef3c256",
   "metadata": {},
   "outputs": [
    {
     "data": {
      "text/plain": [
       "777"
      ]
     },
     "execution_count": 69,
     "metadata": {},
     "output_type": "execute_result"
    }
   ],
   "source": []
  }
 ],
 "metadata": {
  "kernelspec": {
   "display_name": "Python 3 (ipykernel)",
   "language": "python",
   "name": "python3"
  },
  "language_info": {
   "codemirror_mode": {
    "name": "ipython",
    "version": 3
   },
   "file_extension": ".py",
   "mimetype": "text/x-python",
   "name": "python",
   "nbconvert_exporter": "python",
   "pygments_lexer": "ipython3",
   "version": "3.9.7"
  }
 },
 "nbformat": 4,
 "nbformat_minor": 5
}
