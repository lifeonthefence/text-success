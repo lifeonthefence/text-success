{
 "cells": [
  {
   "cell_type": "markdown",
   "metadata": {},
   "source": [
    "## Mixture Model"
   ]
  },
  {
   "cell_type": "code",
   "execution_count": 1,
   "metadata": {},
   "outputs": [],
   "source": [
    "import pandas as pd\n",
    "from patsy import dmatrices\n",
    "import numpy as np\n",
    "import statsmodels.api as sm\n",
    "import matplotlib.pyplot as plt\n"
   ]
  },
  {
   "cell_type": "code",
   "execution_count": 2,
   "metadata": {},
   "outputs": [],
   "source": [
    "df_train = pd.read_csv('/Users/harveymiller/Documents/GitHub/text-success/Data/Processed Dataset TF-IDF Train')"
   ]
  },
  {
   "cell_type": "code",
   "execution_count": 14,
   "metadata": {},
   "outputs": [
    {
     "data": {
      "text/plain": [
       "Index(['id', 'date_x', 'hour_of_tweet', 'time of day', 'Early_Morning_Count',\n",
       "       'Morning_Count', 'Noon_Count', 'Eve_Count', 'Night_Count',\n",
       "       'Late_Night_Count',\n",
       "       ...\n",
       "       'youre', 'youtube', 'yr', 'zaporizhzhia', 'zaporozhye', 'zelenskiy',\n",
       "       'zelensky', 'zelenskys', 'zelenskyy', 'zone'],\n",
       "      dtype='object', length=2148)"
      ]
     },
     "execution_count": 14,
     "metadata": {},
     "output_type": "execute_result"
    }
   ],
   "source": [
    "df_train.columns"
   ]
  },
  {
   "cell_type": "markdown",
   "metadata": {},
   "source": [
    "We rename the colums so that we can train our model"
   ]
  },
  {
   "cell_type": "code",
   "execution_count": 4,
   "metadata": {},
   "outputs": [],
   "source": [
    "df_train.rename(columns={'hour of tweet': 'hour_of_tweet', \n",
    "                        'Early Morning Count': 'Early_Morning_Count',\n",
    "                        'Morning Count': 'Morning_Count',\n",
    "                        'Noon Count': 'Noon_Count',\n",
    "                        'Eve Count': 'Eve_Count',\n",
    "                        'Night Count': 'Night_Count',\n",
    "                        'Late Night Count': 'Late_Night_Count',\n",
    "                        'Polarity Score_textblob': 'Polarity_Score_textblob',\n",
    "                        'Subjectivity Score_textblob': 'Subjectivity_Score_textblob',\n",
    "                        'Months Since Creation of Account': 'Months_Since_Creation_of_Account',\n",
    "                        'Negative Score': 'Negative_score',\n",
    "                        'Neutral Score': 'Neutral_score',\n",
    "                        'Positive Score': 'Positive_score',\n",
    "                        'Compound Score': 'Compound_score',\n",
    "                        'Photo Count': 'Photo_Count',\n",
    "                        'Video Count': 'Video_count',\n",
    "                        'GIF Count': 'GIF_Count'\n",
    "                        }, inplace=True)"
   ]
  },
  {
   "cell_type": "markdown",
   "metadata": {},
   "source": [
    "Training our model"
   ]
  },
  {
   "cell_type": "code",
   "execution_count": 11,
   "metadata": {},
   "outputs": [],
   "source": [
    "y_train, X_train = dmatrices(\"retweets ~ hour_of_tweet + \"\n",
    "                            #\"Early_Morning_Count +\"\n",
    "                            #\"Morning_Count +\" \n",
    "                            #\"Noon_Count +\" \n",
    "                            #\"Eve_Count +\" \n",
    "                            #\"Night_Count +\" \n",
    "                            #\"Late_Night_Count +\"\n",
    "                            \"user_followers +\"\n",
    "                            \"Months_Since_Creation_of_Account +\"\n",
    "                            #\"Negative_score +\"\n",
    "                            #\"Neutral_score +\"\n",
    "                            #\"Positive_score +\"\n",
    "                            #\"Compound_score +\"\n",
    "                            \"Photo_Count +\"\n",
    "                            \"Video_count +\"\n",
    "                            \"GIF_Count +\"\n",
    "                            \"Polarity_Score_textblob +\" \n",
    "                            \"Subjectivity_Score_textblob +\"\n",
    "                            \"quoteCount +\"\n",
    "                            \"tweet_length +\"\n",
    "                            \"num_mentions +\"\n",
    "                            \"num_hashtags +\"\n",
    "                            \"num_urls\"\n",
    "                            ,  df_train, return_type='dataframe')    "
   ]
  },
  {
   "cell_type": "code",
   "execution_count": 12,
   "metadata": {},
   "outputs": [
    {
     "name": "stderr",
     "output_type": "stream",
     "text": [
      "/Library/Frameworks/Python.framework/Versions/3.8/lib/python3.8/site-packages/numpy/core/fromnumeric.py:86: RuntimeWarning: overflow encountered in reduce\n",
      "  return ufunc.reduce(obj, axis, dtype, out, **passkwargs)\n",
      "/Library/Frameworks/Python.framework/Versions/3.8/lib/python3.8/site-packages/statsmodels/discrete/discrete_model.py:1009: RuntimeWarning: overflow encountered in exp\n",
      "  return stats.poisson.cdf(y, np.exp(X))\n",
      "/Library/Frameworks/Python.framework/Versions/3.8/lib/python3.8/site-packages/scipy/optimize/_optimize.py:863: RuntimeWarning: invalid value encountered in subtract\n",
      "  np.max(np.abs(fsim[0] - fsim[1:])) <= fatol):\n",
      "/Library/Frameworks/Python.framework/Versions/3.8/lib/python3.8/site-packages/statsmodels/discrete/discrete_model.py:1333: RuntimeWarning: overflow encountered in exp\n",
      "  L = np.exp(np.dot(X,params) + exposure + offset)\n",
      "/Library/Frameworks/Python.framework/Versions/3.8/lib/python3.8/site-packages/statsmodels/discrete/discrete_model.py:1334: RuntimeWarning: overflow encountered in multiply\n",
      "  return -np.dot(L*X.T, X)\n",
      "/Library/Frameworks/Python.framework/Versions/3.8/lib/python3.8/site-packages/statsmodels/discrete/discrete_model.py:1334: RuntimeWarning: invalid value encountered in multiply\n",
      "  return -np.dot(L*X.T, X)\n",
      "/Library/Frameworks/Python.framework/Versions/3.8/lib/python3.8/site-packages/statsmodels/base/model.py:592: HessianInversionWarning: Inverting hessian failed, no bse or cov_params available\n",
      "  warnings.warn('Inverting hessian failed, no bse or cov_params '\n",
      "/Library/Frameworks/Python.framework/Versions/3.8/lib/python3.8/site-packages/statsmodels/base/model.py:604: ConvergenceWarning: Maximum Likelihood optimization failed to converge. Check mle_retvals\n",
      "  warnings.warn(\"Maximum Likelihood optimization failed to \"\n",
      "/Library/Frameworks/Python.framework/Versions/3.8/lib/python3.8/site-packages/statsmodels/discrete/discrete_model.py:1096: RuntimeWarning: overflow encountered in exp\n",
      "  return -np.exp(XB) +  endog*XB - gammaln(endog+1)\n",
      "/Library/Frameworks/Python.framework/Versions/3.8/lib/python3.8/site-packages/statsmodels/discrete/discrete_model.py:1273: RuntimeWarning: overflow encountered in exp\n",
      "  L = np.exp(np.dot(X,params) + offset + exposure)\n",
      "/Library/Frameworks/Python.framework/Versions/3.8/lib/python3.8/site-packages/statsmodels/discrete/discrete_model.py:1274: RuntimeWarning: overflow encountered in multiply\n",
      "  return (self.endog - L)[:,None] * X\n",
      "/Library/Frameworks/Python.framework/Versions/3.8/lib/python3.8/site-packages/statsmodels/discrete/discrete_model.py:1274: RuntimeWarning: invalid value encountered in multiply\n",
      "  return (self.endog - L)[:,None] * X\n",
      "/Library/Frameworks/Python.framework/Versions/3.8/lib/python3.8/site-packages/statsmodels/discrete/discrete_model.py:866: RuntimeWarning: overflow encountered in exp\n",
      "  return np.exp(linpred) # not cdf\n",
      "/Library/Frameworks/Python.framework/Versions/3.8/lib/python3.8/site-packages/statsmodels/discrete/count_model.py:263: RuntimeWarning: invalid value encountered in multiply\n",
      "  dldp[zero_idx,:] = (score_main[zero_idx].T *\n",
      "/Library/Frameworks/Python.framework/Versions/3.8/lib/python3.8/site-packages/statsmodels/discrete/count_model.py:522: RuntimeWarning: overflow encountered in exp\n",
      "  coeff = (1 + w[zero_idx] * (np.exp(mu[zero_idx]) - 1))\n",
      "/Library/Frameworks/Python.framework/Versions/3.8/lib/python3.8/site-packages/statsmodels/discrete/count_model.py:530: RuntimeWarning: overflow encountered in exp\n",
      "  w[zero_idx] * mu[zero_idx] * np.exp(mu[zero_idx]) /\n",
      "/Library/Frameworks/Python.framework/Versions/3.8/lib/python3.8/site-packages/statsmodels/discrete/count_model.py:530: RuntimeWarning: overflow encountered in multiply\n",
      "  w[zero_idx] * mu[zero_idx] * np.exp(mu[zero_idx]) /\n",
      "/Library/Frameworks/Python.framework/Versions/3.8/lib/python3.8/site-packages/statsmodels/discrete/count_model.py:531: RuntimeWarning: overflow encountered in square\n",
      "  coeff**2)).sum() - (mu[nonzero_idx] * self.exog[nonzero_idx, i] *\n",
      "/Library/Frameworks/Python.framework/Versions/3.8/lib/python3.8/site-packages/statsmodels/discrete/count_model.py:530: RuntimeWarning: invalid value encountered in divide\n",
      "  w[zero_idx] * mu[zero_idx] * np.exp(mu[zero_idx]) /\n",
      "/Library/Frameworks/Python.framework/Versions/3.8/lib/python3.8/site-packages/statsmodels/discrete/count_model.py:531: RuntimeWarning: overflow encountered in multiply\n",
      "  coeff**2)).sum() - (mu[nonzero_idx] * self.exog[nonzero_idx, i] *\n"
     ]
    },
    {
     "name": "stdout",
     "output_type": "stream",
     "text": [
      "Warning: NaN result encountered.\n",
      "         Current function value: inf\n",
      "         Iterations: 0\n",
      "         Function evaluations: 1\n",
      "         Gradient evaluations: 1\n"
     ]
    },
    {
     "name": "stderr",
     "output_type": "stream",
     "text": [
      "/Library/Frameworks/Python.framework/Versions/3.8/lib/python3.8/site-packages/statsmodels/discrete/count_model.py:528: RuntimeWarning: invalid value encountered in multiply\n",
      "  self.exog[zero_idx, i] * self.exog[zero_idx, j] *\n",
      "/Library/Frameworks/Python.framework/Versions/3.8/lib/python3.8/site-packages/statsmodels/discrete/count_model.py:531: RuntimeWarning: invalid value encountered in multiply\n",
      "  coeff**2)).sum() - (mu[nonzero_idx] * self.exog[nonzero_idx, i] *\n",
      "/Library/Frameworks/Python.framework/Versions/3.8/lib/python3.8/site-packages/numpy/core/_methods.py:49: RuntimeWarning: invalid value encountered in reduce\n",
      "  return umr_sum(a, axis, dtype, out, keepdims, initial, where)\n",
      "/Library/Frameworks/Python.framework/Versions/3.8/lib/python3.8/site-packages/statsmodels/discrete/count_model.py:318: RuntimeWarning: invalid value encountered in multiply\n",
      "  hess_arr[i, j + self.k_inflate] = -(score_main[zero_idx, j] *\n",
      "/Library/Frameworks/Python.framework/Versions/3.8/lib/python3.8/site-packages/statsmodels/base/model.py:592: HessianInversionWarning: Inverting hessian failed, no bse or cov_params available\n",
      "  warnings.warn('Inverting hessian failed, no bse or cov_params '\n",
      "/Library/Frameworks/Python.framework/Versions/3.8/lib/python3.8/site-packages/statsmodels/base/model.py:604: ConvergenceWarning: Maximum Likelihood optimization failed to converge. Check mle_retvals\n",
      "  warnings.warn(\"Maximum Likelihood optimization failed to \"\n"
     ]
    }
   ],
   "source": [
    "zip_training_results = sm.ZeroInflatedPoisson(endog=y_train, exog=X_train, exog_infl=X_train, inflation='logit').fit()"
   ]
  },
  {
   "cell_type": "code",
   "execution_count": 13,
   "metadata": {},
   "outputs": [
    {
     "data": {
      "text/html": [
       "<table class=\"simpletable\">\n",
       "<caption>ZeroInflatedPoisson Regression Results</caption>\n",
       "<tr>\n",
       "  <th>Dep. Variable:</th>        <td>retweets</td>       <th>  No. Observations:  </th>   <td> 46289</td>   \n",
       "</tr>\n",
       "<tr>\n",
       "  <th>Model:</th>           <td>ZeroInflatedPoisson</td> <th>  Df Residuals:      </th>   <td> 46275</td>   \n",
       "</tr>\n",
       "<tr>\n",
       "  <th>Method:</th>                  <td>MLE</td>         <th>  Df Model:          </th>   <td>    13</td>   \n",
       "</tr>\n",
       "<tr>\n",
       "  <th>Date:</th>             <td>Fri, 24 Mar 2023</td>   <th>  Pseudo R-squ.:     </th>   <td>  -inf</td>   \n",
       "</tr>\n",
       "<tr>\n",
       "  <th>Time:</th>                 <td>12:11:38</td>       <th>  Log-Likelihood:    </th>  <td>    -inf</td>  \n",
       "</tr>\n",
       "<tr>\n",
       "  <th>converged:</th>              <td>False</td>        <th>  LL-Null:           </th> <td>-3.7980e+05</td>\n",
       "</tr>\n",
       "<tr>\n",
       "  <th>Covariance Type:</th>      <td>nonrobust</td>      <th>  LLR p-value:       </th>   <td> 1.000</td>   \n",
       "</tr>\n",
       "</table>\n",
       "<table class=\"simpletable\">\n",
       "<tr>\n",
       "                      <td></td>                        <th>coef</th>     <th>std err</th>      <th>z</th>      <th>P>|z|</th>  <th>[0.025</th>    <th>0.975]</th>  \n",
       "</tr>\n",
       "<tr>\n",
       "  <th>inflate_Intercept</th>                        <td>    0.1000</td> <td>      nan</td> <td>      nan</td> <td>   nan</td> <td>      nan</td> <td>      nan</td>\n",
       "</tr>\n",
       "<tr>\n",
       "  <th>inflate_hour_of_tweet</th>                    <td>    0.1000</td> <td>      nan</td> <td>      nan</td> <td>   nan</td> <td>      nan</td> <td>      nan</td>\n",
       "</tr>\n",
       "<tr>\n",
       "  <th>inflate_user_followers</th>                   <td>    0.1000</td> <td>      nan</td> <td>      nan</td> <td>   nan</td> <td>      nan</td> <td>      nan</td>\n",
       "</tr>\n",
       "<tr>\n",
       "  <th>inflate_Months_Since_Creation_of_Account</th> <td>    0.1000</td> <td>      nan</td> <td>      nan</td> <td>   nan</td> <td>      nan</td> <td>      nan</td>\n",
       "</tr>\n",
       "<tr>\n",
       "  <th>inflate_Photo_Count</th>                      <td>    0.1000</td> <td>      nan</td> <td>      nan</td> <td>   nan</td> <td>      nan</td> <td>      nan</td>\n",
       "</tr>\n",
       "<tr>\n",
       "  <th>inflate_Video_count</th>                      <td>    0.1000</td> <td>      nan</td> <td>      nan</td> <td>   nan</td> <td>      nan</td> <td>      nan</td>\n",
       "</tr>\n",
       "<tr>\n",
       "  <th>inflate_GIF_Count</th>                        <td>    0.1000</td> <td>      nan</td> <td>      nan</td> <td>   nan</td> <td>      nan</td> <td>      nan</td>\n",
       "</tr>\n",
       "<tr>\n",
       "  <th>inflate_Polarity_Score_textblob</th>          <td>    0.1000</td> <td>      nan</td> <td>      nan</td> <td>   nan</td> <td>      nan</td> <td>      nan</td>\n",
       "</tr>\n",
       "<tr>\n",
       "  <th>inflate_Subjectivity_Score_textblob</th>      <td>    0.1000</td> <td>      nan</td> <td>      nan</td> <td>   nan</td> <td>      nan</td> <td>      nan</td>\n",
       "</tr>\n",
       "<tr>\n",
       "  <th>inflate_quoteCount</th>                       <td>    0.1000</td> <td>      nan</td> <td>      nan</td> <td>   nan</td> <td>      nan</td> <td>      nan</td>\n",
       "</tr>\n",
       "<tr>\n",
       "  <th>inflate_tweet_length</th>                     <td>    0.1000</td> <td>      nan</td> <td>      nan</td> <td>   nan</td> <td>      nan</td> <td>      nan</td>\n",
       "</tr>\n",
       "<tr>\n",
       "  <th>inflate_num_mentions</th>                     <td>    0.1000</td> <td>      nan</td> <td>      nan</td> <td>   nan</td> <td>      nan</td> <td>      nan</td>\n",
       "</tr>\n",
       "<tr>\n",
       "  <th>inflate_num_hashtags</th>                     <td>    0.1000</td> <td>      nan</td> <td>      nan</td> <td>   nan</td> <td>      nan</td> <td>      nan</td>\n",
       "</tr>\n",
       "<tr>\n",
       "  <th>inflate_num_urls</th>                         <td>    0.1000</td> <td>      nan</td> <td>      nan</td> <td>   nan</td> <td>      nan</td> <td>      nan</td>\n",
       "</tr>\n",
       "<tr>\n",
       "  <th>Intercept</th>                                <td>    1.3321</td> <td>      nan</td> <td>      nan</td> <td>   nan</td> <td>      nan</td> <td>      nan</td>\n",
       "</tr>\n",
       "<tr>\n",
       "  <th>hour_of_tweet</th>                            <td>    0.0010</td> <td>      nan</td> <td>      nan</td> <td>   nan</td> <td>      nan</td> <td>      nan</td>\n",
       "</tr>\n",
       "<tr>\n",
       "  <th>user_followers</th>                           <td>    0.0010</td> <td>      nan</td> <td>      nan</td> <td>   nan</td> <td>      nan</td> <td>      nan</td>\n",
       "</tr>\n",
       "<tr>\n",
       "  <th>Months_Since_Creation_of_Account</th>         <td>    0.0010</td> <td>      nan</td> <td>      nan</td> <td>   nan</td> <td>      nan</td> <td>      nan</td>\n",
       "</tr>\n",
       "<tr>\n",
       "  <th>Photo_Count</th>                              <td>    0.0010</td> <td>      nan</td> <td>      nan</td> <td>   nan</td> <td>      nan</td> <td>      nan</td>\n",
       "</tr>\n",
       "<tr>\n",
       "  <th>Video_count</th>                              <td>    0.0010</td> <td>      nan</td> <td>      nan</td> <td>   nan</td> <td>      nan</td> <td>      nan</td>\n",
       "</tr>\n",
       "<tr>\n",
       "  <th>GIF_Count</th>                                <td>    0.0010</td> <td>      nan</td> <td>      nan</td> <td>   nan</td> <td>      nan</td> <td>      nan</td>\n",
       "</tr>\n",
       "<tr>\n",
       "  <th>Polarity_Score_textblob</th>                  <td>    0.0010</td> <td>      nan</td> <td>      nan</td> <td>   nan</td> <td>      nan</td> <td>      nan</td>\n",
       "</tr>\n",
       "<tr>\n",
       "  <th>Subjectivity_Score_textblob</th>              <td>    0.0010</td> <td>      nan</td> <td>      nan</td> <td>   nan</td> <td>      nan</td> <td>      nan</td>\n",
       "</tr>\n",
       "<tr>\n",
       "  <th>quoteCount</th>                               <td>    0.0010</td> <td>      nan</td> <td>      nan</td> <td>   nan</td> <td>      nan</td> <td>      nan</td>\n",
       "</tr>\n",
       "<tr>\n",
       "  <th>tweet_length</th>                             <td>    0.0010</td> <td>      nan</td> <td>      nan</td> <td>   nan</td> <td>      nan</td> <td>      nan</td>\n",
       "</tr>\n",
       "<tr>\n",
       "  <th>num_mentions</th>                             <td>    0.0010</td> <td>      nan</td> <td>      nan</td> <td>   nan</td> <td>      nan</td> <td>      nan</td>\n",
       "</tr>\n",
       "<tr>\n",
       "  <th>num_hashtags</th>                             <td>    0.0010</td> <td>      nan</td> <td>      nan</td> <td>   nan</td> <td>      nan</td> <td>      nan</td>\n",
       "</tr>\n",
       "<tr>\n",
       "  <th>num_urls</th>                                 <td>    0.0010</td> <td>      nan</td> <td>      nan</td> <td>   nan</td> <td>      nan</td> <td>      nan</td>\n",
       "</tr>\n",
       "</table>"
      ],
      "text/plain": [
       "<class 'statsmodels.iolib.summary.Summary'>\n",
       "\"\"\"\n",
       "                     ZeroInflatedPoisson Regression Results                    \n",
       "===============================================================================\n",
       "Dep. Variable:                retweets   No. Observations:                46289\n",
       "Model:             ZeroInflatedPoisson   Df Residuals:                    46275\n",
       "Method:                            MLE   Df Model:                           13\n",
       "Date:                 Fri, 24 Mar 2023   Pseudo R-squ.:                    -inf\n",
       "Time:                         12:11:38   Log-Likelihood:                   -inf\n",
       "converged:                       False   LL-Null:                   -3.7980e+05\n",
       "Covariance Type:             nonrobust   LLR p-value:                     1.000\n",
       "============================================================================================================\n",
       "                                               coef    std err          z      P>|z|      [0.025      0.975]\n",
       "------------------------------------------------------------------------------------------------------------\n",
       "inflate_Intercept                            0.1000        nan        nan        nan         nan         nan\n",
       "inflate_hour_of_tweet                        0.1000        nan        nan        nan         nan         nan\n",
       "inflate_user_followers                       0.1000        nan        nan        nan         nan         nan\n",
       "inflate_Months_Since_Creation_of_Account     0.1000        nan        nan        nan         nan         nan\n",
       "inflate_Photo_Count                          0.1000        nan        nan        nan         nan         nan\n",
       "inflate_Video_count                          0.1000        nan        nan        nan         nan         nan\n",
       "inflate_GIF_Count                            0.1000        nan        nan        nan         nan         nan\n",
       "inflate_Polarity_Score_textblob              0.1000        nan        nan        nan         nan         nan\n",
       "inflate_Subjectivity_Score_textblob          0.1000        nan        nan        nan         nan         nan\n",
       "inflate_quoteCount                           0.1000        nan        nan        nan         nan         nan\n",
       "inflate_tweet_length                         0.1000        nan        nan        nan         nan         nan\n",
       "inflate_num_mentions                         0.1000        nan        nan        nan         nan         nan\n",
       "inflate_num_hashtags                         0.1000        nan        nan        nan         nan         nan\n",
       "inflate_num_urls                             0.1000        nan        nan        nan         nan         nan\n",
       "Intercept                                    1.3321        nan        nan        nan         nan         nan\n",
       "hour_of_tweet                                0.0010        nan        nan        nan         nan         nan\n",
       "user_followers                               0.0010        nan        nan        nan         nan         nan\n",
       "Months_Since_Creation_of_Account             0.0010        nan        nan        nan         nan         nan\n",
       "Photo_Count                                  0.0010        nan        nan        nan         nan         nan\n",
       "Video_count                                  0.0010        nan        nan        nan         nan         nan\n",
       "GIF_Count                                    0.0010        nan        nan        nan         nan         nan\n",
       "Polarity_Score_textblob                      0.0010        nan        nan        nan         nan         nan\n",
       "Subjectivity_Score_textblob                  0.0010        nan        nan        nan         nan         nan\n",
       "quoteCount                                   0.0010        nan        nan        nan         nan         nan\n",
       "tweet_length                                 0.0010        nan        nan        nan         nan         nan\n",
       "num_mentions                                 0.0010        nan        nan        nan         nan         nan\n",
       "num_hashtags                                 0.0010        nan        nan        nan         nan         nan\n",
       "num_urls                                     0.0010        nan        nan        nan         nan         nan\n",
       "============================================================================================================\n",
       "\"\"\""
      ]
     },
     "execution_count": 13,
     "metadata": {},
     "output_type": "execute_result"
    }
   ],
   "source": [
    "zip_training_results.summary()"
   ]
  },
  {
   "cell_type": "markdown",
   "metadata": {},
   "source": [
    "Interpretations:\n",
    "- "
   ]
  }
 ],
 "metadata": {
  "interpreter": {
   "hash": "aee8b7b246df8f9039afb4144a1f6fd8d2ca17a180786b69acc140d282b71a49"
  },
  "kernelspec": {
   "display_name": "Python 3.8.3 64-bit",
   "language": "python",
   "name": "python3"
  },
  "language_info": {
   "codemirror_mode": {
    "name": "ipython",
    "version": 3
   },
   "file_extension": ".py",
   "mimetype": "text/x-python",
   "name": "python",
   "nbconvert_exporter": "python",
   "pygments_lexer": "ipython3",
   "version": "3.8.3"
  },
  "orig_nbformat": 4
 },
 "nbformat": 4,
 "nbformat_minor": 2
}
