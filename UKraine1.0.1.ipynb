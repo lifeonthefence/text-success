{
 "cells": [
  {
   "cell_type": "code",
   "execution_count": null,
   "metadata": {},
   "outputs": [],
   "source": [
    "import snscrape.modules.twitter as sntwitter\n",
    "import pandas as pd"
   ]
  },
  {
   "cell_type": "code",
   "execution_count": null,
   "metadata": {},
   "outputs": [],
   "source": [
    "# Set search terms and date range\n",
    "search_terms = 'Ukraine'\n",
    "start_date = '2021-01-01'\n",
    "end_date = '2021-12-31'\n"
   ]
  },
  {
   "cell_type": "code",
   "execution_count": null,
   "metadata": {},
   "outputs": [],
   "source": [
    "# Set up search query\n",
    "query = f'{search_terms} since:{start_date} until:{end_date}'"
   ]
  },
  {
   "cell_type": "code",
   "execution_count": null,
   "metadata": {},
   "outputs": [],
   "source": [
    "# Use snscrape to get up to 10000 tweets matching the search query\n",
    "tweets = []\n",
    "counter = 0\n",
    "for tweet in sntwitter.TwitterSearchScraper(query).get_items():\n",
    "    # Estimate the view count based on retweets and likes\n",
    "    view_count = tweet.likeCount + tweet.retweetCount * 5\n",
    "    if view_count >= 100:\n",
    "        tweets.append({\n",
    "            'id': tweet.id,\n",
    "            'date': tweet.date,\n",
    "            'content': tweet.content,\n",
    "            'view_count': view_count,\n",
    "            'likes': tweet.likeCount,\n",
    "            'retweets': tweet.retweetCount,\n",
    "            'replies': tweet.replyCount,\n",
    "            'impressions': tweet.structured_metrics['impressionCount'],\n",
    "            'clicks': tweet.structured_metrics['urlLinkClicks'],\n",
    "            'conversions': tweet.structured_metrics['userProfileClicks'],\n",
    "            'sentiment': 0  # Add code here to calculate sentiment\n",
    "        })\n",
    "        counter += 1\n",
    "        if counter == 10000:\n",
    "            break"
   ]
  },
  {
   "cell_type": "code",
   "execution_count": null,
   "metadata": {},
   "outputs": [],
   "source": [
    "# Convert tweets to a pandas DataFrame\n",
    "df = pd.DataFrame(tweets)"
   ]
  },
  {
   "cell_type": "code",
   "execution_count": null,
   "metadata": {},
   "outputs": [],
   "source": [
    "# Define the weights for each metric\n",
    "engagement_weight = 0.4\n",
    "impressions_weight = 0.2\n",
    "clicks_weight = 0.2\n",
    "conversions_weight = 0.1\n",
    "sentiment_weight = 0.1"
   ]
  },
  {
   "cell_type": "code",
   "execution_count": null,
   "metadata": {},
   "outputs": [],
   "source": [
    "# Scale the metrics to a range of 0-1\n",
    "df['engagement_score'] = df['likes'] + df['retweets'] + df['replies']\n",
    "df['impressions_score'] = df['impressions']\n",
    "df['clicks_score'] = df['clicks']\n",
    "df['conversions_score'] = df['conversions']\n",
    "df['sentiment_score'] = (df['sentiment'] + 1) / 2\n",
    "df['engagement_score'] = df['engagement_score'] / df['engagement_score'].max()\n",
    "df['impressions_score'] = df['impressions_score'] / df['impressions_score'].max()\n",
    "df['clicks_score'] = df['clicks_score'] / df['clicks_score'].max()\n",
    "df['conversions_score'] = df['conversions_score'] / df['conversions_score'].max()"
   ]
  },
  {
   "cell_type": "code",
   "execution_count": null,
   "metadata": {},
   "outputs": [],
   "source": [
    "# Calculate the overall index for each tweet\n",
    "df['index'] = (\n",
    "    df['engagement_score'] * engagement_weight +\n",
    "    df['impressions_score'] * impressions_weight +\n",
    "    df['clicks_score'] * clicks_weight +\n",
    "    df['conversions_score'] * conversions_weight +\n",
    "    df['sentiment_score'] * sentiment_weight\n",
    ")"
   ]
  },
  {
   "cell_type": "code",
   "execution_count": null,
   "metadata": {},
   "outputs": [],
   "source": [
    "# Sort the tweets by the index, in descending order\n",
    "df = df.sort_values(by='index', ascending=False)"
   ]
  },
  {
   "cell_type": "code",
   "execution_count": null,
   "metadata": {},
   "outputs": [],
   "source": [
    "# Output the top 10 tweets by the index\n",
    "print(df[['content', 'index']].head(10))"
   ]
  }
 ],
 "metadata": {
  "kernelspec": {
   "display_name": "base",
   "language": "python",
   "name": "python3"
  },
  "language_info": {
   "name": "python",
   "version": "3.9.13"
  },
  "orig_nbformat": 4,
  "vscode": {
   "interpreter": {
    "hash": "40d3a090f54c6569ab1632332b64b2c03c39dcf918b08424e98f38b5ae0af88f"
   }
  }
 },
 "nbformat": 4,
 "nbformat_minor": 2
}
