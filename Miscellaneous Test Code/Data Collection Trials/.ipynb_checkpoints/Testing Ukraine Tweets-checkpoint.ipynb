{
 "cells": [
  {
   "cell_type": "code",
   "execution_count": 2,
   "id": "S791tyiYU7EE",
   "metadata": {
    "colab": {
     "base_uri": "https://localhost:8080/"
    },
    "executionInfo": {
     "elapsed": 3970,
     "status": "ok",
     "timestamp": 1676636588208,
     "user": {
      "displayName": "A Negative Imus",
      "userId": "13587769496691569596"
     },
     "user_tz": 0
    },
    "id": "S791tyiYU7EE",
    "outputId": "0379007e-e284-4a69-beb0-4f96fe35dfd1"
   },
   "outputs": [
    {
     "name": "stdout",
     "output_type": "stream",
     "text": [
      "Looking in indexes: https://pypi.org/simple, https://us-python.pkg.dev/colab-wheels/public/simple/\n",
      "Collecting snscrape\n",
      "  Downloading snscrape-0.5.0.20230113-py3-none-any.whl (69 kB)\n",
      "\u001b[?25l     \u001b[90m━━━━━━━━━━━━━━━━━━━━━━━━━━━━━━━━━━━━━━━━\u001b[0m \u001b[32m0.0/69.2 KB\u001b[0m \u001b[31m?\u001b[0m eta \u001b[36m-:--:--\u001b[0m\r",
      "\u001b[2K     \u001b[90m━━━━━━━━━━━━━━━━━━━━━━━━━━━━━━━━━━━━━━━━\u001b[0m \u001b[32m69.2/69.2 KB\u001b[0m \u001b[31m9.5 MB/s\u001b[0m eta \u001b[36m0:00:00\u001b[0m\n",
      "\u001b[?25hRequirement already satisfied: beautifulsoup4 in /usr/local/lib/python3.8/dist-packages (from snscrape) (4.6.3)\n",
      "Requirement already satisfied: requests[socks] in /usr/local/lib/python3.8/dist-packages (from snscrape) (2.25.1)\n",
      "Requirement already satisfied: filelock in /usr/local/lib/python3.8/dist-packages (from snscrape) (3.9.0)\n",
      "Requirement already satisfied: pytz in /usr/local/lib/python3.8/dist-packages (from snscrape) (2022.7.1)\n",
      "Requirement already satisfied: lxml in /usr/local/lib/python3.8/dist-packages (from snscrape) (4.9.2)\n",
      "Requirement already satisfied: urllib3<1.27,>=1.21.1 in /usr/local/lib/python3.8/dist-packages (from requests[socks]->snscrape) (1.24.3)\n",
      "Requirement already satisfied: chardet<5,>=3.0.2 in /usr/local/lib/python3.8/dist-packages (from requests[socks]->snscrape) (4.0.0)\n",
      "Requirement already satisfied: certifi>=2017.4.17 in /usr/local/lib/python3.8/dist-packages (from requests[socks]->snscrape) (2022.12.7)\n",
      "Requirement already satisfied: idna<3,>=2.5 in /usr/local/lib/python3.8/dist-packages (from requests[socks]->snscrape) (2.10)\n",
      "Requirement already satisfied: PySocks!=1.5.7,>=1.5.6 in /usr/local/lib/python3.8/dist-packages (from requests[socks]->snscrape) (1.7.1)\n",
      "Installing collected packages: snscrape\n",
      "Successfully installed snscrape-0.5.0.20230113\n"
     ]
    }
   ],
   "source": [
    "!pip install snscrape"
   ]
  },
  {
   "cell_type": "code",
   "execution_count": 1,
   "id": "96b212a8",
   "metadata": {
    "executionInfo": {
     "elapsed": 407,
     "status": "ok",
     "timestamp": 1676636591098,
     "user": {
      "displayName": "A Negative Imus",
      "userId": "13587769496691569596"
     },
     "user_tz": 0
    },
    "id": "96b212a8"
   },
   "outputs": [],
   "source": [
    "import snscrape.modules.twitter as sntwitter\n",
    "import pandas as pd"
   ]
  },
  {
   "cell_type": "code",
   "execution_count": 2,
   "id": "bd93c772",
   "metadata": {
    "executionInfo": {
     "elapsed": 742,
     "status": "ok",
     "timestamp": 1676636597030,
     "user": {
      "displayName": "A Negative Imus",
      "userId": "13587769496691569596"
     },
     "user_tz": 0
    },
    "id": "bd93c772"
   },
   "outputs": [],
   "source": [
    "tweets_list = []"
   ]
  },
  {
   "cell_type": "code",
   "execution_count": 3,
   "id": "fe6a1fdb",
   "metadata": {
    "executionInfo": {
     "elapsed": 3214,
     "status": "ok",
     "timestamp": 1676636601482,
     "user": {
      "displayName": "A Negative Imus",
      "userId": "13587769496691569596"
     },
     "user_tz": 0
    },
    "id": "fe6a1fdb"
   },
   "outputs": [],
   "source": [
    "for i,tweet in enumerate(sntwitter.TwitterSearchScraper('from:elonmusk').get_items()):\n",
    "    if i>=100:\n",
    "        break\n",
    "    tweets_list.append(tweet)"
   ]
  },
  {
   "cell_type": "code",
   "execution_count": 4,
   "id": "a5f75146",
   "metadata": {
    "executionInfo": {
     "elapsed": 259,
     "status": "ok",
     "timestamp": 1676636606437,
     "user": {
      "displayName": "A Negative Imus",
      "userId": "13587769496691569596"
     },
     "user_tz": 0
    },
    "id": "a5f75146"
   },
   "outputs": [],
   "source": [
    "df = pd.DataFrame(tweets_list)"
   ]
  },
  {
   "cell_type": "code",
   "execution_count": 5,
   "id": "1acf9d96",
   "metadata": {
    "colab": {
     "base_uri": "https://localhost:8080/"
    },
    "executionInfo": {
     "elapsed": 6,
     "status": "ok",
     "timestamp": 1676636606437,
     "user": {
      "displayName": "A Negative Imus",
      "userId": "13587769496691569596"
     },
     "user_tz": 0
    },
    "id": "1acf9d96",
    "outputId": "23445261-4761-4274-b602-1513776d9bf2"
   },
   "outputs": [
    {
     "data": {
      "text/plain": [
       "Index(['url', 'date', 'rawContent', 'renderedContent', 'id', 'user',\n",
       "       'replyCount', 'retweetCount', 'likeCount', 'quoteCount',\n",
       "       'conversationId', 'lang', 'source', 'sourceUrl', 'sourceLabel', 'links',\n",
       "       'media', 'retweetedTweet', 'quotedTweet', 'inReplyToTweetId',\n",
       "       'inReplyToUser', 'mentionedUsers', 'coordinates', 'place', 'hashtags',\n",
       "       'cashtags', 'card', 'viewCount', 'vibe'],\n",
       "      dtype='object')"
      ]
     },
     "execution_count": 5,
     "metadata": {},
     "output_type": "execute_result"
    }
   ],
   "source": [
    "df.columns"
   ]
  },
  {
   "cell_type": "code",
   "execution_count": null,
   "id": "78c1119b",
   "metadata": {
    "id": "78c1119b"
   },
   "outputs": [],
   "source": [
    "tweets_list2 = []"
   ]
  },
  {
   "cell_type": "code",
   "execution_count": null,
   "id": "7001df3d",
   "metadata": {
    "id": "7001df3d"
   },
   "outputs": [],
   "source": [
    "for i,tweet in enumerate(sntwitter.TwitterSearchScraper('its the elephant since:2020-06-01 until:2020-07-31').get_items()):\n",
    "    if i>=100:\n",
    "        break\n",
    "    tweets_list2.append(tweet)"
   ]
  },
  {
   "cell_type": "code",
   "execution_count": null,
   "id": "66320c4b",
   "metadata": {
    "id": "66320c4b",
    "outputId": "20477860-dd60-4998-cbfd-b58e857576ee"
   },
   "outputs": [
    {
     "data": {
      "text/html": [
       "<div>\n",
       "<style scoped>\n",
       "    .dataframe tbody tr th:only-of-type {\n",
       "        vertical-align: middle;\n",
       "    }\n",
       "\n",
       "    .dataframe tbody tr th {\n",
       "        vertical-align: top;\n",
       "    }\n",
       "\n",
       "    .dataframe thead th {\n",
       "        text-align: right;\n",
       "    }\n",
       "</style>\n",
       "<table border=\"1\" class=\"dataframe\">\n",
       "  <thead>\n",
       "    <tr style=\"text-align: right;\">\n",
       "      <th></th>\n",
       "      <th>url</th>\n",
       "      <th>date</th>\n",
       "      <th>rawContent</th>\n",
       "      <th>renderedContent</th>\n",
       "      <th>id</th>\n",
       "      <th>user</th>\n",
       "      <th>replyCount</th>\n",
       "      <th>retweetCount</th>\n",
       "      <th>likeCount</th>\n",
       "      <th>quoteCount</th>\n",
       "      <th>...</th>\n",
       "      <th>inReplyToTweetId</th>\n",
       "      <th>inReplyToUser</th>\n",
       "      <th>mentionedUsers</th>\n",
       "      <th>coordinates</th>\n",
       "      <th>place</th>\n",
       "      <th>hashtags</th>\n",
       "      <th>cashtags</th>\n",
       "      <th>card</th>\n",
       "      <th>viewCount</th>\n",
       "      <th>vibe</th>\n",
       "    </tr>\n",
       "  </thead>\n",
       "  <tbody>\n",
       "    <tr>\n",
       "      <th>0</th>\n",
       "      <td>https://twitter.com/TylerPaulUtt1/status/12889...</td>\n",
       "      <td>2020-07-30 23:57:02+00:00</td>\n",
       "      <td>@SiBuduh @langoinstitute do you know the Ko wo...</td>\n",
       "      <td>@SiBuduh @langoinstitute do you know the Ko wo...</td>\n",
       "      <td>1288986997143601152</td>\n",
       "      <td>{'username': 'TylerPaulUtt1', 'id': 1283910899...</td>\n",
       "      <td>1</td>\n",
       "      <td>0</td>\n",
       "      <td>0</td>\n",
       "      <td>0</td>\n",
       "      <td>...</td>\n",
       "      <td>1.288985e+18</td>\n",
       "      <td>{'username': 'SiBuduh', 'id': 74798252, 'displ...</td>\n",
       "      <td>[{'username': 'SiBuduh', 'id': 74798252, 'disp...</td>\n",
       "      <td>None</td>\n",
       "      <td>None</td>\n",
       "      <td>None</td>\n",
       "      <td>None</td>\n",
       "      <td>None</td>\n",
       "      <td>None</td>\n",
       "      <td>None</td>\n",
       "    </tr>\n",
       "    <tr>\n",
       "      <th>1</th>\n",
       "      <td>https://twitter.com/EndlessSynthwav/status/128...</td>\n",
       "      <td>2020-07-30 23:44:04+00:00</td>\n",
       "      <td>@RockstarGames Any idea if the elephant rifle ...</td>\n",
       "      <td>@RockstarGames Any idea if the elephant rifle ...</td>\n",
       "      <td>1288983731122966534</td>\n",
       "      <td>{'username': 'EndlessSynthwav', 'id': 11770480...</td>\n",
       "      <td>0</td>\n",
       "      <td>0</td>\n",
       "      <td>0</td>\n",
       "      <td>0</td>\n",
       "      <td>...</td>\n",
       "      <td>NaN</td>\n",
       "      <td>None</td>\n",
       "      <td>[{'username': 'RockstarGames', 'id': 29758446,...</td>\n",
       "      <td>None</td>\n",
       "      <td>None</td>\n",
       "      <td>None</td>\n",
       "      <td>None</td>\n",
       "      <td>None</td>\n",
       "      <td>None</td>\n",
       "      <td>None</td>\n",
       "    </tr>\n",
       "    <tr>\n",
       "      <th>2</th>\n",
       "      <td>https://twitter.com/aanalyst50/status/12889677...</td>\n",
       "      <td>2020-07-30 22:40:40+00:00</td>\n",
       "      <td>@realDonaldTrump Trump just keeps ignoring the...</td>\n",
       "      <td>@realDonaldTrump Trump just keeps ignoring the...</td>\n",
       "      <td>1288967774795116550</td>\n",
       "      <td>{'username': 'aanalyst50', 'id': 7991009000695...</td>\n",
       "      <td>0</td>\n",
       "      <td>0</td>\n",
       "      <td>1</td>\n",
       "      <td>0</td>\n",
       "      <td>...</td>\n",
       "      <td>1.288966e+18</td>\n",
       "      <td>{'username': 'realDonaldTrump', 'id': 25073877...</td>\n",
       "      <td>[{'username': 'realDonaldTrump', 'id': 2507387...</td>\n",
       "      <td>None</td>\n",
       "      <td>None</td>\n",
       "      <td>None</td>\n",
       "      <td>None</td>\n",
       "      <td>None</td>\n",
       "      <td>None</td>\n",
       "      <td>None</td>\n",
       "    </tr>\n",
       "    <tr>\n",
       "      <th>3</th>\n",
       "      <td>https://twitter.com/RozzBozzy/status/128896692...</td>\n",
       "      <td>2020-07-30 22:37:18+00:00</td>\n",
       "      <td>@cslogan88 Famous 19th century song from Engla...</td>\n",
       "      <td>@cslogan88 Famous 19th century song from Engla...</td>\n",
       "      <td>1288966929236066309</td>\n",
       "      <td>{'username': 'RozzBozzy', 'id': 12765084066863...</td>\n",
       "      <td>0</td>\n",
       "      <td>0</td>\n",
       "      <td>0</td>\n",
       "      <td>0</td>\n",
       "      <td>...</td>\n",
       "      <td>1.288966e+18</td>\n",
       "      <td>{'username': 'MaybeChrisLogan', 'id': 90205268...</td>\n",
       "      <td>None</td>\n",
       "      <td>None</td>\n",
       "      <td>None</td>\n",
       "      <td>None</td>\n",
       "      <td>None</td>\n",
       "      <td>None</td>\n",
       "      <td>None</td>\n",
       "      <td>None</td>\n",
       "    </tr>\n",
       "    <tr>\n",
       "      <th>4</th>\n",
       "      <td>https://twitter.com/alfred_hanan/status/128896...</td>\n",
       "      <td>2020-07-30 22:32:44+00:00</td>\n",
       "      <td>@realDonaldTrump #RepublicanTrumpVirus.\\nLets ...</td>\n",
       "      <td>@realDonaldTrump #RepublicanTrumpVirus.\\nLets ...</td>\n",
       "      <td>1288965780030144512</td>\n",
       "      <td>{'username': 'alfred_hanan', 'id': 3794908334,...</td>\n",
       "      <td>0</td>\n",
       "      <td>0</td>\n",
       "      <td>0</td>\n",
       "      <td>0</td>\n",
       "      <td>...</td>\n",
       "      <td>1.288947e+18</td>\n",
       "      <td>{'username': 'realDonaldTrump', 'id': 25073877...</td>\n",
       "      <td>[{'username': 'realDonaldTrump', 'id': 2507387...</td>\n",
       "      <td>None</td>\n",
       "      <td>None</td>\n",
       "      <td>[RepublicanTrumpVirus]</td>\n",
       "      <td>None</td>\n",
       "      <td>None</td>\n",
       "      <td>None</td>\n",
       "      <td>None</td>\n",
       "    </tr>\n",
       "  </tbody>\n",
       "</table>\n",
       "<p>5 rows × 29 columns</p>\n",
       "</div>"
      ],
      "text/plain": [
       "                                                 url  \\\n",
       "0  https://twitter.com/TylerPaulUtt1/status/12889...   \n",
       "1  https://twitter.com/EndlessSynthwav/status/128...   \n",
       "2  https://twitter.com/aanalyst50/status/12889677...   \n",
       "3  https://twitter.com/RozzBozzy/status/128896692...   \n",
       "4  https://twitter.com/alfred_hanan/status/128896...   \n",
       "\n",
       "                       date  \\\n",
       "0 2020-07-30 23:57:02+00:00   \n",
       "1 2020-07-30 23:44:04+00:00   \n",
       "2 2020-07-30 22:40:40+00:00   \n",
       "3 2020-07-30 22:37:18+00:00   \n",
       "4 2020-07-30 22:32:44+00:00   \n",
       "\n",
       "                                          rawContent  \\\n",
       "0  @SiBuduh @langoinstitute do you know the Ko wo...   \n",
       "1  @RockstarGames Any idea if the elephant rifle ...   \n",
       "2  @realDonaldTrump Trump just keeps ignoring the...   \n",
       "3  @cslogan88 Famous 19th century song from Engla...   \n",
       "4  @realDonaldTrump #RepublicanTrumpVirus.\\nLets ...   \n",
       "\n",
       "                                     renderedContent                   id  \\\n",
       "0  @SiBuduh @langoinstitute do you know the Ko wo...  1288986997143601152   \n",
       "1  @RockstarGames Any idea if the elephant rifle ...  1288983731122966534   \n",
       "2  @realDonaldTrump Trump just keeps ignoring the...  1288967774795116550   \n",
       "3  @cslogan88 Famous 19th century song from Engla...  1288966929236066309   \n",
       "4  @realDonaldTrump #RepublicanTrumpVirus.\\nLets ...  1288965780030144512   \n",
       "\n",
       "                                                user  replyCount  \\\n",
       "0  {'username': 'TylerPaulUtt1', 'id': 1283910899...           1   \n",
       "1  {'username': 'EndlessSynthwav', 'id': 11770480...           0   \n",
       "2  {'username': 'aanalyst50', 'id': 7991009000695...           0   \n",
       "3  {'username': 'RozzBozzy', 'id': 12765084066863...           0   \n",
       "4  {'username': 'alfred_hanan', 'id': 3794908334,...           0   \n",
       "\n",
       "   retweetCount  likeCount  quoteCount  ...  inReplyToTweetId  \\\n",
       "0             0          0           0  ...      1.288985e+18   \n",
       "1             0          0           0  ...               NaN   \n",
       "2             0          1           0  ...      1.288966e+18   \n",
       "3             0          0           0  ...      1.288966e+18   \n",
       "4             0          0           0  ...      1.288947e+18   \n",
       "\n",
       "                                       inReplyToUser  \\\n",
       "0  {'username': 'SiBuduh', 'id': 74798252, 'displ...   \n",
       "1                                               None   \n",
       "2  {'username': 'realDonaldTrump', 'id': 25073877...   \n",
       "3  {'username': 'MaybeChrisLogan', 'id': 90205268...   \n",
       "4  {'username': 'realDonaldTrump', 'id': 25073877...   \n",
       "\n",
       "                                      mentionedUsers coordinates place  \\\n",
       "0  [{'username': 'SiBuduh', 'id': 74798252, 'disp...        None  None   \n",
       "1  [{'username': 'RockstarGames', 'id': 29758446,...        None  None   \n",
       "2  [{'username': 'realDonaldTrump', 'id': 2507387...        None  None   \n",
       "3                                               None        None  None   \n",
       "4  [{'username': 'realDonaldTrump', 'id': 2507387...        None  None   \n",
       "\n",
       "                 hashtags cashtags  card viewCount  vibe  \n",
       "0                    None     None  None      None  None  \n",
       "1                    None     None  None      None  None  \n",
       "2                    None     None  None      None  None  \n",
       "3                    None     None  None      None  None  \n",
       "4  [RepublicanTrumpVirus]     None  None      None  None  \n",
       "\n",
       "[5 rows x 29 columns]"
      ]
     },
     "execution_count": 12,
     "metadata": {},
     "output_type": "execute_result"
    }
   ],
   "source": [
    "df2 = pd.DataFrame(tweets_list2)\n",
    "df2.head()"
   ]
  },
  {
   "cell_type": "code",
   "execution_count": null,
   "id": "1b2af6f7",
   "metadata": {
    "id": "1b2af6f7",
    "outputId": "77bcbfe4-9f29-445d-e48a-7e1051c17be4"
   },
   "outputs": [
    {
     "data": {
      "text/plain": [
       "'@realDonaldTrump #RepublicanTrumpVirus.\\nLets call it the Elephant flu. Its not the flu but republicans no longer follow their oaths. So why mince words.'"
      ]
     },
     "execution_count": 17,
     "metadata": {},
     "output_type": "execute_result"
    }
   ],
   "source": [
    "df2[\"renderedContent\"][4]"
   ]
  }
 ],
 "metadata": {
  "colab": {
   "provenance": []
  },
  "gpuClass": "standard",
  "kernelspec": {
   "display_name": "Python 3 (ipykernel)",
   "language": "python",
   "name": "python3"
  },
  "language_info": {
   "codemirror_mode": {
    "name": "ipython",
    "version": 3
   },
   "file_extension": ".py",
   "mimetype": "text/x-python",
   "name": "python",
   "nbconvert_exporter": "python",
   "pygments_lexer": "ipython3",
   "version": "3.9.7"
  }
 },
 "nbformat": 4,
 "nbformat_minor": 5
}
