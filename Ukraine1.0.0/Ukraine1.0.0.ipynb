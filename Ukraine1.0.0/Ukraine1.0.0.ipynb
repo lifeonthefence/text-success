{
 "cells": [
  {
   "cell_type": "code",
   "execution_count": 1,
   "metadata": {},
   "outputs": [
    {
     "name": "stdout",
     "output_type": "stream",
     "text": [
      "Requirement already satisfied: snscrape in /opt/anaconda3/lib/python3.9/site-packages (0.5.0.20230113)\n",
      "Requirement already satisfied: filelock in /opt/anaconda3/lib/python3.9/site-packages (from snscrape) (3.6.0)\n",
      "Requirement already satisfied: lxml in /opt/anaconda3/lib/python3.9/site-packages (from snscrape) (4.9.1)\n",
      "Requirement already satisfied: requests[socks] in /opt/anaconda3/lib/python3.9/site-packages (from snscrape) (2.28.1)\n",
      "Requirement already satisfied: beautifulsoup4 in /opt/anaconda3/lib/python3.9/site-packages (from snscrape) (4.11.1)\n",
      "Requirement already satisfied: soupsieve>1.2 in /opt/anaconda3/lib/python3.9/site-packages (from beautifulsoup4->snscrape) (2.3.1)\n",
      "Requirement already satisfied: urllib3<1.27,>=1.21.1 in /opt/anaconda3/lib/python3.9/site-packages (from requests[socks]->snscrape) (1.26.11)\n",
      "Requirement already satisfied: certifi>=2017.4.17 in /opt/anaconda3/lib/python3.9/site-packages (from requests[socks]->snscrape) (2022.9.24)\n",
      "Requirement already satisfied: idna<4,>=2.5 in /opt/anaconda3/lib/python3.9/site-packages (from requests[socks]->snscrape) (3.3)\n",
      "Requirement already satisfied: charset-normalizer<3,>=2 in /opt/anaconda3/lib/python3.9/site-packages (from requests[socks]->snscrape) (2.0.4)\n",
      "Requirement already satisfied: PySocks!=1.5.7,>=1.5.6 in /opt/anaconda3/lib/python3.9/site-packages (from requests[socks]->snscrape) (1.7.1)\n",
      "Note: you may need to restart the kernel to use updated packages.\n"
     ]
    }
   ],
   "source": [
    "pip install snscrape"
   ]
  },
  {
   "cell_type": "code",
   "execution_count": 2,
   "metadata": {},
   "outputs": [],
   "source": [
    "import snscrape.modules.twitter as sntwitter\n",
    "import pandas as pd\n",
    "import numpy as np\n"
   ]
  },
  {
   "cell_type": "code",
   "execution_count": 3,
   "metadata": {},
   "outputs": [],
   "source": [
    "# Set search terms and date range\n",
    "search_terms = 'Ukraine'\n",
    "start_date = '2022-01-01'\n",
    "end_date = '2022-12-31'"
   ]
  },
  {
   "cell_type": "code",
   "execution_count": 4,
   "metadata": {},
   "outputs": [],
   "source": [
    "# Set up search query\n",
    "query = f'{search_terms} since:{start_date} until:{end_date}'"
   ]
  },
  {
   "cell_type": "code",
   "execution_count": 5,
   "metadata": {},
   "outputs": [
    {
     "name": "stderr",
     "output_type": "stream",
     "text": [
      "/var/folders/sg/0y0lnk6d1v76f7kxdlp2q7sh0000gn/T/ipykernel_82762/1611814041.py:11: FutureWarning: content is deprecated, use rawContent instead\n",
      "  'content': tweet.content,\n"
     ]
    }
   ],
   "source": [
    "# Use snscrape to get tweets matching the search query\n",
    "tweets = []\n",
    "counter = 0\n",
    "for tweet in sntwitter.TwitterSearchScraper(query).get_items():\n",
    "    # Estimate the view count based on retweets and likes\n",
    "    view_count = tweet.likeCount + tweet.retweetCount * 5\n",
    "    if view_count >= 1000:\n",
    "        tweets.append({\n",
    "            'id': tweet.id,\n",
    "            'date': tweet.date,\n",
    "            'content': tweet.content,\n",
    "            'viewCount\t': tweet.viewCount,\n",
    "            'replyCount': tweet.replyCount,\n",
    "            'retweetCount': tweet.retweetCount,\n",
    "            'likeCount': tweet.likeCount,\n",
    "            'quoteCount': tweet.quoteCount,\n",
    "        \n",
    "         })\n",
    "    counter += 1\n",
    "    if counter == 10000:\n",
    "        break"
   ]
  },
  {
   "cell_type": "code",
   "execution_count": 8,
   "metadata": {},
   "outputs": [],
   "source": [
    "tweets_df = pd.DataFrame(tweets)\n",
    "tweets_df.to_csv('tweets_ukrine_1000plus.csv', index=False)"
   ]
  },
  {
   "cell_type": "code",
   "execution_count": 11,
   "metadata": {},
   "outputs": [
    {
     "data": {
      "text/html": [
       "<div>\n",
       "<style scoped>\n",
       "    .dataframe tbody tr th:only-of-type {\n",
       "        vertical-align: middle;\n",
       "    }\n",
       "\n",
       "    .dataframe tbody tr th {\n",
       "        vertical-align: top;\n",
       "    }\n",
       "\n",
       "    .dataframe thead th {\n",
       "        text-align: right;\n",
       "    }\n",
       "</style>\n",
       "<table border=\"1\" class=\"dataframe\">\n",
       "  <thead>\n",
       "    <tr style=\"text-align: right;\">\n",
       "      <th></th>\n",
       "      <th>id</th>\n",
       "      <th>date</th>\n",
       "      <th>content</th>\n",
       "      <th>viewCount\\t</th>\n",
       "      <th>replyCount</th>\n",
       "      <th>retweetCount</th>\n",
       "      <th>likeCount</th>\n",
       "      <th>quoteCount</th>\n",
       "    </tr>\n",
       "  </thead>\n",
       "  <tbody>\n",
       "    <tr>\n",
       "      <th>0</th>\n",
       "      <td>1608976021923188736</td>\n",
       "      <td>2022-12-30 23:59:11+00:00</td>\n",
       "      <td>Ukraine will win. Of this I’m sure. And though...</td>\n",
       "      <td>21864</td>\n",
       "      <td>48</td>\n",
       "      <td>167</td>\n",
       "      <td>1283</td>\n",
       "      <td>9</td>\n",
       "    </tr>\n",
       "    <tr>\n",
       "      <th>1</th>\n",
       "      <td>1608972442697084928</td>\n",
       "      <td>2022-12-30 23:44:58+00:00</td>\n",
       "      <td>Nazis are freedom fighters, the guy who banned...</td>\n",
       "      <td>14326</td>\n",
       "      <td>32</td>\n",
       "      <td>148</td>\n",
       "      <td>459</td>\n",
       "      <td>15</td>\n",
       "    </tr>\n",
       "    <tr>\n",
       "      <th>2</th>\n",
       "      <td>1608969178584866816</td>\n",
       "      <td>2022-12-30 23:32:00+00:00</td>\n",
       "      <td>🧵🚨 PART 2: Senior Lieutenant at Russian FSB Co...</td>\n",
       "      <td>203499</td>\n",
       "      <td>5</td>\n",
       "      <td>218</td>\n",
       "      <td>724</td>\n",
       "      <td>11</td>\n",
       "    </tr>\n",
       "    <tr>\n",
       "      <th>3</th>\n",
       "      <td>1608968867635957762</td>\n",
       "      <td>2022-12-30 23:30:45+00:00</td>\n",
       "      <td>The reason this is all so rushed, the reason t...</td>\n",
       "      <td>29696</td>\n",
       "      <td>36</td>\n",
       "      <td>864</td>\n",
       "      <td>1921</td>\n",
       "      <td>17</td>\n",
       "    </tr>\n",
       "    <tr>\n",
       "      <th>4</th>\n",
       "      <td>1608967228984299520</td>\n",
       "      <td>2022-12-30 23:24:15+00:00</td>\n",
       "      <td>L'Ukraine Nazi \\n@arnoklarsfeld est un avocat ...</td>\n",
       "      <td>41745</td>\n",
       "      <td>94</td>\n",
       "      <td>683</td>\n",
       "      <td>872</td>\n",
       "      <td>81</td>\n",
       "    </tr>\n",
       "  </tbody>\n",
       "</table>\n",
       "</div>"
      ],
      "text/plain": [
       "                    id                       date  \\\n",
       "0  1608976021923188736  2022-12-30 23:59:11+00:00   \n",
       "1  1608972442697084928  2022-12-30 23:44:58+00:00   \n",
       "2  1608969178584866816  2022-12-30 23:32:00+00:00   \n",
       "3  1608968867635957762  2022-12-30 23:30:45+00:00   \n",
       "4  1608967228984299520  2022-12-30 23:24:15+00:00   \n",
       "\n",
       "                                             content  viewCount\\t  replyCount  \\\n",
       "0  Ukraine will win. Of this I’m sure. And though...        21864          48   \n",
       "1  Nazis are freedom fighters, the guy who banned...        14326          32   \n",
       "2  🧵🚨 PART 2: Senior Lieutenant at Russian FSB Co...       203499           5   \n",
       "3  The reason this is all so rushed, the reason t...        29696          36   \n",
       "4  L'Ukraine Nazi \\n@arnoklarsfeld est un avocat ...        41745          94   \n",
       "\n",
       "   retweetCount  likeCount  quoteCount  \n",
       "0           167       1283           9  \n",
       "1           148        459          15  \n",
       "2           218        724          11  \n",
       "3           864       1921          17  \n",
       "4           683        872          81  "
      ]
     },
     "execution_count": 11,
     "metadata": {},
     "output_type": "execute_result"
    }
   ],
   "source": [
    "ukrine_df = pd.read_csv('tweets_ukrine_1000plus.csv')\n",
    "ukrine_df.head()"
   ]
  }
 ],
 "metadata": {
  "kernelspec": {
   "display_name": "base",
   "language": "python",
   "name": "python3"
  },
  "language_info": {
   "codemirror_mode": {
    "name": "ipython",
    "version": 3
   },
   "file_extension": ".py",
   "mimetype": "text/x-python",
   "name": "python",
   "nbconvert_exporter": "python",
   "pygments_lexer": "ipython3",
   "version": "3.9.13"
  },
  "orig_nbformat": 4,
  "vscode": {
   "interpreter": {
    "hash": "40d3a090f54c6569ab1632332b64b2c03c39dcf918b08424e98f38b5ae0af88f"
   }
  }
 },
 "nbformat": 4,
 "nbformat_minor": 2
}
