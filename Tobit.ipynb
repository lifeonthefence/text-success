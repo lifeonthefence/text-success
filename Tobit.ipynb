{
 "cells": [
  {
   "cell_type": "code",
   "execution_count": 1,
   "metadata": {},
   "outputs": [],
   "source": [
    "import numpy as np\n",
    "import pandas as pd\n",
    "from statsmodels.tsa.stattools import acf\n",
    "from statsmodels.tsa.statespace.tools import diff"
   ]
  },
  {
   "cell_type": "code",
   "execution_count": 9,
   "metadata": {},
   "outputs": [
    {
     "name": "stdout",
     "output_type": "stream",
     "text": [
      "Index(['Unnamed: 0', 'id', 'date', 'hour of tweet', 'time of day',\n",
      "       'Early Morning Count', 'Morning Count', 'Noon Count', 'Eve Count',\n",
      "       'Night Count', 'Late Night Count', 'user', 'user_followers',\n",
      "       'Months Since Creation of Account', 'rendered_content',\n",
      "       'Adjusted Tweet', 'Negative Score', 'Neutral Score', 'Positive Score',\n",
      "       'Compound Score', 'Photo Count', 'Video Count', 'GIF Count',\n",
      "       'Polarity Score_textblob', 'Subjectivity Score_textblob', 'likes',\n",
      "       'retweets', 'replies', 'quoteCount', 'tweet_length', 'num_mentions',\n",
      "       'num_hashtags', 'num_urls'],\n",
      "      dtype='object')\n"
     ]
    }
   ],
   "source": [
    "# Load data\n",
    "data = pd.read_csv('/Users/meltcado/Documents/GitHub/text-success/Data/processed_dataset.csv')\n",
    "data.head()\n",
    "print(data.columns)"
   ]
  },
  {
   "cell_type": "code",
   "execution_count": 10,
   "metadata": {},
   "outputs": [],
   "source": [
    "# Replace 0 views and retweets with a small value\n",
    "data['likes'] = np.where(data['likes'] == 0, 0.5, data['likes'])\n",
    "data['retweets'] = np.where(data['retweets'] == 0, 0.5, data['retweets'])\n",
    "data['replies'] = np.where(data['replies'] == 0, 0.5, data['replies'])\n",
    "data['quoteCount'] = np.where(data['quoteCount'] == 0, 0.5, data['quoteCount'])"
   ]
  },
  {
   "cell_type": "code",
   "execution_count": 12,
   "metadata": {},
   "outputs": [],
   "source": [
    "# Create a new variable for censored observations\n",
    "data['censored'] = (data['likes'] == 0.5) | (data['retweets'] == 0.5) | (data['replies'] == 0.5) | (data['quoteCount'] == 0.5)"
   ]
  },
  {
   "cell_type": "code",
   "execution_count": 14,
   "metadata": {},
   "outputs": [],
   "source": [
    "\n",
    "dependent_var = 'views'\n",
    "exog_vars = ['hashtags', 'Negative Score', 'Positive Score', 'retweets', 'replies', 'quoteCount', 'intercept']\n",
    "data['intercept'] = 1.0"
   ]
  },
  {
   "cell_type": "code",
   "execution_count": 19,
   "metadata": {},
   "outputs": [
    {
     "ename": "ImportError",
     "evalue": "cannot import name 'Tobit' from 'statsmodels.regression' (/opt/anaconda3/lib/python3.9/site-packages/statsmodels/regression/__init__.py)",
     "output_type": "error",
     "traceback": [
      "\u001b[0;31m---------------------------------------------------------------------------\u001b[0m",
      "\u001b[0;31mImportError\u001b[0m                               Traceback (most recent call last)",
      "\u001b[1;32m/Users/meltcado/Documents/GitHub/text-success/Tobit.ipynb Cell 6\u001b[0m in \u001b[0;36m<cell line: 1>\u001b[0;34m()\u001b[0m\n\u001b[0;32m----> <a href='vscode-notebook-cell:/Users/meltcado/Documents/GitHub/text-success/Tobit.ipynb#X10sZmlsZQ%3D%3D?line=0'>1</a>\u001b[0m \u001b[39mfrom\u001b[39;00m \u001b[39mstatsmodels\u001b[39;00m\u001b[39m.\u001b[39;00m\u001b[39mregression\u001b[39;00m \u001b[39mimport\u001b[39;00m Tobit\n\u001b[1;32m      <a href='vscode-notebook-cell:/Users/meltcado/Documents/GitHub/text-success/Tobit.ipynb#X10sZmlsZQ%3D%3D?line=1'>2</a>\u001b[0m \u001b[39m# Specify the model\u001b[39;00m\n\u001b[1;32m      <a href='vscode-notebook-cell:/Users/meltcado/Documents/GitHub/text-success/Tobit.ipynb#X10sZmlsZQ%3D%3D?line=2'>3</a>\u001b[0m tobit_model \u001b[39m=\u001b[39m sm\u001b[39m.\u001b[39mTobit(data[dependent_var], data[exog_vars \u001b[39m+\u001b[39m [\u001b[39m'\u001b[39m\u001b[39mintercept\u001b[39m\u001b[39m'\u001b[39m]])\n",
      "\u001b[0;31mImportError\u001b[0m: cannot import name 'Tobit' from 'statsmodels.regression' (/opt/anaconda3/lib/python3.9/site-packages/statsmodels/regression/__init__.py)"
     ]
    }
   ],
   "source": [
    "from statsmodels.regression import Tobit\n",
    "# Specify the model\n",
    "tobit_model = sm.Tobit(data[dependent_var], data[exog_vars + ['intercept']])\n",
    "\n",
    "# Fit the model\n",
    "tobit_results = tobit_model.fit()\n",
    "\n",
    "# Print the summary of the model\n",
    "print(tobit_results.summary())\n"
   ]
  }
 ],
 "metadata": {
  "kernelspec": {
   "display_name": "base",
   "language": "python",
   "name": "python3"
  },
  "language_info": {
   "codemirror_mode": {
    "name": "ipython",
    "version": 3
   },
   "file_extension": ".py",
   "mimetype": "text/x-python",
   "name": "python",
   "nbconvert_exporter": "python",
   "pygments_lexer": "ipython3",
   "version": "3.9.13"
  },
  "orig_nbformat": 4
 },
 "nbformat": 4,
 "nbformat_minor": 2
}
