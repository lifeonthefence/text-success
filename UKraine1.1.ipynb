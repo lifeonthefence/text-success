{
 "cells": [
  {
   "cell_type": "code",
   "execution_count": 95,
   "metadata": {},
   "outputs": [],
   "source": [
    "import snscrape.modules.twitter as sntwitter\n",
    "import pandas as pd\n",
    "from datetime import datetime, timedelta"
   ]
  },
  {
   "cell_type": "code",
   "execution_count": 96,
   "metadata": {},
   "outputs": [],
   "source": [
    "# Set search terms and date range\n",
    "keyword = 'ukraine'\n",
    "hashtag = ['#ukrainewar', '#UkraineRussiaWar️']#, '#putinwarcriminal', '#zelenskywarcriminal', '#standwithrussia', '#istandwithrussia', '#StandWithUkraine', '#IStandWithUkraine']\n",
    "start_date = datetime(2022, 1, 1)\n",
    "end_date = datetime(2022, 12, 31)\n",
    "lang_code = \"en\"\n"
   ]
  },
  {
   "cell_type": "code",
   "execution_count": 97,
   "metadata": {},
   "outputs": [
    {
     "name": "stderr",
     "output_type": "stream",
     "text": [
      "/var/folders/sg/0y0lnk6d1v76f7kxdlp2q7sh0000gn/T/ipykernel_98094/2711152982.py:23: FutureWarning: content is deprecated, use rawContent instead\n",
      "  'raw_content': tweet.content,\n"
     ]
    }
   ],
   "source": [
    "# Use snscrape to get up to 10000 tweets matching the search query\n",
    "tweets = []\n",
    "tweet_ids = set()\n",
    "for month in range(1, 13):\n",
    "    # Set up date range for this month\n",
    "    month_start = datetime(2022, month, 1)\n",
    "    if month == 12:\n",
    "        month_end = end_date\n",
    "    else:\n",
    "        month_end = datetime(2022, month+1, 1) - timedelta(days=1)\n",
    "    for tag in hashtag:\n",
    "        exclude_ids = ','.join(str(tweet_id) for tweet_id in tweet_ids)\n",
    "        query = f'{tag} lang:{lang_code} since:{month_start.date()} until:{month_end.date()} exclude:{exclude_ids}'\n",
    "        counter = 0\n",
    "        for tweet in sntwitter.TwitterSearchScraper(query).get_items():\n",
    "            # fetch all results and filter by the user's followersCount\n",
    "            if tweet.user.followersCount >= 2000:\n",
    "                tweets.append({\n",
    "                    'id': tweet.id,\n",
    "                    'date': tweet.date,\n",
    "                    'user': tweet.user.username,\n",
    "                    'user_followers': tweet.user.followersCount,\n",
    "                    'raw_content': tweet.content,\n",
    "                    'rendered_content': tweet.renderedContent,\n",
    "                    'likes': tweet.likeCount,\n",
    "                    'retweets': tweet.retweetCount,\n",
    "                    'replies': tweet.replyCount,\n",
    "                    'quoteCount': tweet.quoteCount,\n",
    "                    'hashtags': tweet.hashtags,\n",
    "                    'lang': tweet.lang,\n",
    "                    'media': tweet.media,\n",
    "                    'mentionedUsers': tweet.mentionedUsers,\n",
    "                })\n",
    "                tweet_ids.add(tweet.id)\n",
    "                counter += 1\n",
    "                if counter == 10:\n",
    "                    break"
   ]
  },
  {
   "cell_type": "code",
   "execution_count": 98,
   "metadata": {},
   "outputs": [],
   "source": [
    "# Convert tweets to a pandas DataFrame\n",
    "df = pd.DataFrame(tweets)\n",
    "df.to_csv('tweets_ukrine.csv', index=False)"
   ]
  },
  {
   "cell_type": "code",
   "execution_count": 99,
   "metadata": {},
   "outputs": [
    {
     "data": {
      "text/plain": [
       "(1, 14)"
      ]
     },
     "execution_count": 99,
     "metadata": {},
     "output_type": "execute_result"
    }
   ],
   "source": [
    "df.head()\n",
    "df.shape"
   ]
  },
  {
   "cell_type": "code",
   "execution_count": 100,
   "metadata": {},
   "outputs": [
    {
     "data": {
      "text/html": [
       "<div>\n",
       "<style scoped>\n",
       "    .dataframe tbody tr th:only-of-type {\n",
       "        vertical-align: middle;\n",
       "    }\n",
       "\n",
       "    .dataframe tbody tr th {\n",
       "        vertical-align: top;\n",
       "    }\n",
       "\n",
       "    .dataframe thead th {\n",
       "        text-align: right;\n",
       "    }\n",
       "</style>\n",
       "<table border=\"1\" class=\"dataframe\">\n",
       "  <thead>\n",
       "    <tr style=\"text-align: right;\">\n",
       "      <th></th>\n",
       "      <th>id</th>\n",
       "      <th>date</th>\n",
       "      <th>user</th>\n",
       "      <th>user_followers</th>\n",
       "      <th>raw_content</th>\n",
       "      <th>rendered_content</th>\n",
       "      <th>likes</th>\n",
       "      <th>retweets</th>\n",
       "      <th>replies</th>\n",
       "      <th>quoteCount</th>\n",
       "      <th>hashtags</th>\n",
       "      <th>lang</th>\n",
       "      <th>media</th>\n",
       "      <th>mentionedUsers</th>\n",
       "    </tr>\n",
       "  </thead>\n",
       "  <tbody>\n",
       "    <tr>\n",
       "      <th>0</th>\n",
       "      <td>1497520597546455044</td>\n",
       "      <td>2022-02-26 10:35:07+00:00</td>\n",
       "      <td>rwehavenfunyet</td>\n",
       "      <td>12513</td>\n",
       "      <td>Watch live updates on #UkraineWar exclude Russ...</td>\n",
       "      <td>Watch live updates on #UkraineWar exclude Russ...</td>\n",
       "      <td>3</td>\n",
       "      <td>0</td>\n",
       "      <td>1</td>\n",
       "      <td>0</td>\n",
       "      <td>[UkraineWar, Swiftbannow, StopWar, followback,...</td>\n",
       "      <td>en</td>\n",
       "      <td>None</td>\n",
       "      <td>None</td>\n",
       "    </tr>\n",
       "  </tbody>\n",
       "</table>\n",
       "</div>"
      ],
      "text/plain": [
       "                    id                      date            user  \\\n",
       "0  1497520597546455044 2022-02-26 10:35:07+00:00  rwehavenfunyet   \n",
       "\n",
       "   user_followers                                        raw_content  \\\n",
       "0           12513  Watch live updates on #UkraineWar exclude Russ...   \n",
       "\n",
       "                                    rendered_content  likes  retweets  \\\n",
       "0  Watch live updates on #UkraineWar exclude Russ...      3         0   \n",
       "\n",
       "   replies  quoteCount                                           hashtags  \\\n",
       "0        1           0  [UkraineWar, Swiftbannow, StopWar, followback,...   \n",
       "\n",
       "  lang media mentionedUsers  \n",
       "0   en  None           None  "
      ]
     },
     "execution_count": 100,
     "metadata": {},
     "output_type": "execute_result"
    }
   ],
   "source": [
    "df"
   ]
  }
 ],
 "metadata": {
  "kernelspec": {
   "display_name": "base",
   "language": "python",
   "name": "python3"
  },
  "language_info": {
   "codemirror_mode": {
    "name": "ipython",
    "version": 3
   },
   "file_extension": ".py",
   "mimetype": "text/x-python",
   "name": "python",
   "nbconvert_exporter": "python",
   "pygments_lexer": "ipython3",
   "version": "3.9.13"
  },
  "orig_nbformat": 4,
  "vscode": {
   "interpreter": {
    "hash": "40d3a090f54c6569ab1632332b64b2c03c39dcf918b08424e98f38b5ae0af88f"
   }
  }
 },
 "nbformat": 4,
 "nbformat_minor": 2
}
